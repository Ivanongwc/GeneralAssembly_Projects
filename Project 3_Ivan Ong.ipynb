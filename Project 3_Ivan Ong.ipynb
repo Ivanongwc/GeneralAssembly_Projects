{
 "cells": [
  {
   "cell_type": "markdown",
   "metadata": {},
   "source": [
    "<img src=\"http://imgur.com/1ZcRyrc.png\" style=\"float: left; margin: 15px; height: 80px\">\n",
    "\n",
    "# Project 3\n",
    "\n",
    "### Regression and Classification with the Ames Housing Data\n",
    "\n",
    "---\n",
    "\n",
    "You have just joined a new \"full stack\" real estate company in Ames, Iowa. The strategy of the firm is two-fold:\n",
    "- Own the entire process from the purchase of the land all the way to sale of the house, and anything in between.\n",
    "- Use statistical analysis to optimize investment and maximize return.\n",
    "\n",
    "The company is still small, and though investment is substantial the short-term goals of the company are more oriented towards purchasing existing houses and flipping them as opposed to constructing entirely new houses. That being said, the company has access to a large construction workforce operating at rock-bottom prices.\n",
    "\n",
    "This project uses the [Ames housing data recently made available on kaggle](https://www.kaggle.com/c/house-prices-advanced-regression-techniques)."
   ]
  },
  {
   "cell_type": "code",
   "execution_count": 1,
   "metadata": {},
   "outputs": [],
   "source": [
    "import numpy as np\n",
    "import scipy.stats as stats\n",
    "import seaborn as sns\n",
    "import matplotlib.pyplot as plt\n",
    "import pandas as pd\n",
    "\n",
    "from scipy.stats import norm\n",
    "from sklearn.linear_model import LinearRegression\n",
    "from sklearn.linear_model import Ridge, Lasso, ElasticNet, RidgeCV, LassoCV, ElasticNetCV\n",
    "from sklearn.model_selection import train_test_split, cross_val_score, GridSearchCV\n",
    "from sklearn.preprocessing import StandardScaler\n",
    "from sklearn.metrics import mean_squared_error, r2_score\n",
    "from sklearn.model_selection import cross_val_score, cross_val_predict\n",
    "import statsmodels.api as sm\n",
    "\n",
    "sns.set_style('whitegrid')\n",
    "\n",
    "%config InlineBackend.figure_format = 'retina'\n",
    "%matplotlib inline"
   ]
  },
  {
   "cell_type": "markdown",
   "metadata": {},
   "source": [
    "<img src=\"http://imgur.com/l5NasQj.png\" style=\"float: left; margin: 25px 15px 0px 0px; height: 25px\">\n",
    "\n",
    "## 1. Estimating the value of homes from fixed characteristics.\n",
    "\n",
    "---\n",
    "\n",
    "Your superiors have outlined this year's strategy for the company:\n",
    "1. Develop an algorithm to reliably estimate the value of residential houses based on *fixed* characteristics.\n",
    "2. Identify characteristics of houses that the company can cost-effectively change/renovate with their construction team.\n",
    "3. Evaluate the mean dollar value of different renovations.\n",
    "\n",
    "Then we can use that to buy houses that are likely to sell for more than the cost of the purchase plus renovations.\n",
    "\n",
    "Your first job is to tackle #1. You have a dataset of housing sale data with a huge amount of features identifying different aspects of the house. The full description of the data features can be found in a separate file:\n",
    "\n",
    "    housing.csv\n",
    "    data_description.txt\n",
    "    \n",
    "You need to build a reliable estimator for the price of the house given characteristics of the house that cannot be renovated. Some examples include:\n",
    "- The neighborhood\n",
    "- Square feet\n",
    "- Bedrooms, bathrooms\n",
    "- Basement and garage space\n",
    "\n",
    "and many more. \n",
    "\n",
    "Some examples of things that **ARE renovate-able:**\n",
    "- Roof and exterior features\n",
    "- \"Quality\" metrics, such as kitchen quality\n",
    "- \"Condition\" metrics, such as condition of garage\n",
    "- Heating and electrical components\n",
    "\n",
    "and generally anything you deem can be modified without having to undergo major construction on the house.\n",
    "\n",
    "---\n",
    "\n",
    "**Your goals:**\n",
    "1. Perform any cleaning, feature engineering, and EDA you deem necessary.\n",
    "- Be sure to remove any houses that are not residential from the dataset.\n",
    "- Identify **fixed** features that can predict price.\n",
    "- Train a model on pre-2010 data and evaluate its performance on the 2010 houses.\n",
    "- Characterize your model. How well does it perform? What are the best estimates of price?\n",
    "\n",
    "> **Note:** The EDA and feature engineering component to this project is not trivial! Be sure to always think critically and creatively. Justify your actions! Use the data description file!"
   ]
  },
  {
   "cell_type": "code",
   "execution_count": 2,
   "metadata": {},
   "outputs": [],
   "source": [
    "# Load the data\n",
    "house = pd.read_csv('./housing.csv')"
   ]
  },
  {
   "cell_type": "code",
   "execution_count": 3,
   "metadata": {},
   "outputs": [
    {
     "data": {
      "text/html": [
       "<div>\n",
       "<style scoped>\n",
       "    .dataframe tbody tr th:only-of-type {\n",
       "        vertical-align: middle;\n",
       "    }\n",
       "\n",
       "    .dataframe tbody tr th {\n",
       "        vertical-align: top;\n",
       "    }\n",
       "\n",
       "    .dataframe thead th {\n",
       "        text-align: right;\n",
       "    }\n",
       "</style>\n",
       "<table border=\"1\" class=\"dataframe\">\n",
       "  <thead>\n",
       "    <tr style=\"text-align: right;\">\n",
       "      <th></th>\n",
       "      <th>Id</th>\n",
       "      <th>MSSubClass</th>\n",
       "      <th>MSZoning</th>\n",
       "      <th>LotFrontage</th>\n",
       "      <th>LotArea</th>\n",
       "      <th>Street</th>\n",
       "      <th>Alley</th>\n",
       "      <th>LotShape</th>\n",
       "      <th>LandContour</th>\n",
       "      <th>Utilities</th>\n",
       "      <th>...</th>\n",
       "      <th>PoolArea</th>\n",
       "      <th>PoolQC</th>\n",
       "      <th>Fence</th>\n",
       "      <th>MiscFeature</th>\n",
       "      <th>MiscVal</th>\n",
       "      <th>MoSold</th>\n",
       "      <th>YrSold</th>\n",
       "      <th>SaleType</th>\n",
       "      <th>SaleCondition</th>\n",
       "      <th>SalePrice</th>\n",
       "    </tr>\n",
       "  </thead>\n",
       "  <tbody>\n",
       "    <tr>\n",
       "      <th>0</th>\n",
       "      <td>1</td>\n",
       "      <td>60</td>\n",
       "      <td>RL</td>\n",
       "      <td>65.0</td>\n",
       "      <td>8450</td>\n",
       "      <td>Pave</td>\n",
       "      <td>NaN</td>\n",
       "      <td>Reg</td>\n",
       "      <td>Lvl</td>\n",
       "      <td>AllPub</td>\n",
       "      <td>...</td>\n",
       "      <td>0</td>\n",
       "      <td>NaN</td>\n",
       "      <td>NaN</td>\n",
       "      <td>NaN</td>\n",
       "      <td>0</td>\n",
       "      <td>2</td>\n",
       "      <td>2008</td>\n",
       "      <td>WD</td>\n",
       "      <td>Normal</td>\n",
       "      <td>208500</td>\n",
       "    </tr>\n",
       "    <tr>\n",
       "      <th>1</th>\n",
       "      <td>2</td>\n",
       "      <td>20</td>\n",
       "      <td>RL</td>\n",
       "      <td>80.0</td>\n",
       "      <td>9600</td>\n",
       "      <td>Pave</td>\n",
       "      <td>NaN</td>\n",
       "      <td>Reg</td>\n",
       "      <td>Lvl</td>\n",
       "      <td>AllPub</td>\n",
       "      <td>...</td>\n",
       "      <td>0</td>\n",
       "      <td>NaN</td>\n",
       "      <td>NaN</td>\n",
       "      <td>NaN</td>\n",
       "      <td>0</td>\n",
       "      <td>5</td>\n",
       "      <td>2007</td>\n",
       "      <td>WD</td>\n",
       "      <td>Normal</td>\n",
       "      <td>181500</td>\n",
       "    </tr>\n",
       "  </tbody>\n",
       "</table>\n",
       "<p>2 rows × 81 columns</p>\n",
       "</div>"
      ],
      "text/plain": [
       "   Id  MSSubClass MSZoning  LotFrontage  LotArea Street Alley LotShape  \\\n",
       "0   1          60       RL         65.0     8450   Pave   NaN      Reg   \n",
       "1   2          20       RL         80.0     9600   Pave   NaN      Reg   \n",
       "\n",
       "  LandContour Utilities    ...     PoolArea PoolQC Fence MiscFeature MiscVal  \\\n",
       "0         Lvl    AllPub    ...            0    NaN   NaN         NaN       0   \n",
       "1         Lvl    AllPub    ...            0    NaN   NaN         NaN       0   \n",
       "\n",
       "  MoSold YrSold  SaleType  SaleCondition  SalePrice  \n",
       "0      2   2008        WD         Normal     208500  \n",
       "1      5   2007        WD         Normal     181500  \n",
       "\n",
       "[2 rows x 81 columns]"
      ]
     },
     "execution_count": 3,
     "metadata": {},
     "output_type": "execute_result"
    }
   ],
   "source": [
    "# Checking the top and bottom of the dataset\n",
    "house.head(2)"
   ]
  },
  {
   "cell_type": "code",
   "execution_count": 4,
   "metadata": {},
   "outputs": [
    {
     "data": {
      "text/html": [
       "<div>\n",
       "<style scoped>\n",
       "    .dataframe tbody tr th:only-of-type {\n",
       "        vertical-align: middle;\n",
       "    }\n",
       "\n",
       "    .dataframe tbody tr th {\n",
       "        vertical-align: top;\n",
       "    }\n",
       "\n",
       "    .dataframe thead th {\n",
       "        text-align: right;\n",
       "    }\n",
       "</style>\n",
       "<table border=\"1\" class=\"dataframe\">\n",
       "  <thead>\n",
       "    <tr style=\"text-align: right;\">\n",
       "      <th></th>\n",
       "      <th>Id</th>\n",
       "      <th>MSSubClass</th>\n",
       "      <th>MSZoning</th>\n",
       "      <th>LotFrontage</th>\n",
       "      <th>LotArea</th>\n",
       "      <th>Street</th>\n",
       "      <th>Alley</th>\n",
       "      <th>LotShape</th>\n",
       "      <th>LandContour</th>\n",
       "      <th>Utilities</th>\n",
       "      <th>...</th>\n",
       "      <th>PoolArea</th>\n",
       "      <th>PoolQC</th>\n",
       "      <th>Fence</th>\n",
       "      <th>MiscFeature</th>\n",
       "      <th>MiscVal</th>\n",
       "      <th>MoSold</th>\n",
       "      <th>YrSold</th>\n",
       "      <th>SaleType</th>\n",
       "      <th>SaleCondition</th>\n",
       "      <th>SalePrice</th>\n",
       "    </tr>\n",
       "  </thead>\n",
       "  <tbody>\n",
       "    <tr>\n",
       "      <th>788</th>\n",
       "      <td>789</td>\n",
       "      <td>20</td>\n",
       "      <td>RM</td>\n",
       "      <td>50.0</td>\n",
       "      <td>6000</td>\n",
       "      <td>Pave</td>\n",
       "      <td>NaN</td>\n",
       "      <td>Reg</td>\n",
       "      <td>Lvl</td>\n",
       "      <td>AllPub</td>\n",
       "      <td>...</td>\n",
       "      <td>0</td>\n",
       "      <td>NaN</td>\n",
       "      <td>NaN</td>\n",
       "      <td>NaN</td>\n",
       "      <td>0</td>\n",
       "      <td>8</td>\n",
       "      <td>2008</td>\n",
       "      <td>WD</td>\n",
       "      <td>Normal</td>\n",
       "      <td>107900</td>\n",
       "    </tr>\n",
       "    <tr>\n",
       "      <th>784</th>\n",
       "      <td>785</td>\n",
       "      <td>75</td>\n",
       "      <td>RM</td>\n",
       "      <td>35.0</td>\n",
       "      <td>6300</td>\n",
       "      <td>Pave</td>\n",
       "      <td>Grvl</td>\n",
       "      <td>Reg</td>\n",
       "      <td>Lvl</td>\n",
       "      <td>AllPub</td>\n",
       "      <td>...</td>\n",
       "      <td>0</td>\n",
       "      <td>NaN</td>\n",
       "      <td>NaN</td>\n",
       "      <td>NaN</td>\n",
       "      <td>0</td>\n",
       "      <td>6</td>\n",
       "      <td>2008</td>\n",
       "      <td>WD</td>\n",
       "      <td>Normal</td>\n",
       "      <td>128000</td>\n",
       "    </tr>\n",
       "    <tr>\n",
       "      <th>560</th>\n",
       "      <td>561</td>\n",
       "      <td>20</td>\n",
       "      <td>RL</td>\n",
       "      <td>NaN</td>\n",
       "      <td>11341</td>\n",
       "      <td>Pave</td>\n",
       "      <td>NaN</td>\n",
       "      <td>IR1</td>\n",
       "      <td>Lvl</td>\n",
       "      <td>AllPub</td>\n",
       "      <td>...</td>\n",
       "      <td>0</td>\n",
       "      <td>NaN</td>\n",
       "      <td>NaN</td>\n",
       "      <td>NaN</td>\n",
       "      <td>0</td>\n",
       "      <td>5</td>\n",
       "      <td>2010</td>\n",
       "      <td>WD</td>\n",
       "      <td>Normal</td>\n",
       "      <td>121500</td>\n",
       "    </tr>\n",
       "    <tr>\n",
       "      <th>72</th>\n",
       "      <td>73</td>\n",
       "      <td>60</td>\n",
       "      <td>RL</td>\n",
       "      <td>74.0</td>\n",
       "      <td>10141</td>\n",
       "      <td>Pave</td>\n",
       "      <td>NaN</td>\n",
       "      <td>IR1</td>\n",
       "      <td>Lvl</td>\n",
       "      <td>AllPub</td>\n",
       "      <td>...</td>\n",
       "      <td>0</td>\n",
       "      <td>NaN</td>\n",
       "      <td>NaN</td>\n",
       "      <td>NaN</td>\n",
       "      <td>0</td>\n",
       "      <td>12</td>\n",
       "      <td>2009</td>\n",
       "      <td>WD</td>\n",
       "      <td>Normal</td>\n",
       "      <td>185000</td>\n",
       "    </tr>\n",
       "    <tr>\n",
       "      <th>902</th>\n",
       "      <td>903</td>\n",
       "      <td>60</td>\n",
       "      <td>RL</td>\n",
       "      <td>63.0</td>\n",
       "      <td>7875</td>\n",
       "      <td>Pave</td>\n",
       "      <td>NaN</td>\n",
       "      <td>Reg</td>\n",
       "      <td>Lvl</td>\n",
       "      <td>AllPub</td>\n",
       "      <td>...</td>\n",
       "      <td>0</td>\n",
       "      <td>NaN</td>\n",
       "      <td>NaN</td>\n",
       "      <td>NaN</td>\n",
       "      <td>0</td>\n",
       "      <td>7</td>\n",
       "      <td>2006</td>\n",
       "      <td>WD</td>\n",
       "      <td>Normal</td>\n",
       "      <td>180000</td>\n",
       "    </tr>\n",
       "  </tbody>\n",
       "</table>\n",
       "<p>5 rows × 81 columns</p>\n",
       "</div>"
      ],
      "text/plain": [
       "      Id  MSSubClass MSZoning  LotFrontage  LotArea Street Alley LotShape  \\\n",
       "788  789          20       RM         50.0     6000   Pave   NaN      Reg   \n",
       "784  785          75       RM         35.0     6300   Pave  Grvl      Reg   \n",
       "560  561          20       RL          NaN    11341   Pave   NaN      IR1   \n",
       "72    73          60       RL         74.0    10141   Pave   NaN      IR1   \n",
       "902  903          60       RL         63.0     7875   Pave   NaN      Reg   \n",
       "\n",
       "    LandContour Utilities    ...     PoolArea PoolQC Fence MiscFeature  \\\n",
       "788         Lvl    AllPub    ...            0    NaN   NaN         NaN   \n",
       "784         Lvl    AllPub    ...            0    NaN   NaN         NaN   \n",
       "560         Lvl    AllPub    ...            0    NaN   NaN         NaN   \n",
       "72          Lvl    AllPub    ...            0    NaN   NaN         NaN   \n",
       "902         Lvl    AllPub    ...            0    NaN   NaN         NaN   \n",
       "\n",
       "    MiscVal MoSold YrSold  SaleType  SaleCondition  SalePrice  \n",
       "788       0      8   2008        WD         Normal     107900  \n",
       "784       0      6   2008        WD         Normal     128000  \n",
       "560       0      5   2010        WD         Normal     121500  \n",
       "72        0     12   2009        WD         Normal     185000  \n",
       "902       0      7   2006        WD         Normal     180000  \n",
       "\n",
       "[5 rows x 81 columns]"
      ]
     },
     "execution_count": 4,
     "metadata": {},
     "output_type": "execute_result"
    }
   ],
   "source": [
    "house.sample(5)"
   ]
  },
  {
   "cell_type": "code",
   "execution_count": 5,
   "metadata": {},
   "outputs": [
    {
     "data": {
      "text/html": [
       "<div>\n",
       "<style scoped>\n",
       "    .dataframe tbody tr th:only-of-type {\n",
       "        vertical-align: middle;\n",
       "    }\n",
       "\n",
       "    .dataframe tbody tr th {\n",
       "        vertical-align: top;\n",
       "    }\n",
       "\n",
       "    .dataframe thead th {\n",
       "        text-align: right;\n",
       "    }\n",
       "</style>\n",
       "<table border=\"1\" class=\"dataframe\">\n",
       "  <thead>\n",
       "    <tr style=\"text-align: right;\">\n",
       "      <th></th>\n",
       "      <th>Id</th>\n",
       "      <th>MSSubClass</th>\n",
       "      <th>MSZoning</th>\n",
       "      <th>LotFrontage</th>\n",
       "      <th>LotArea</th>\n",
       "      <th>Street</th>\n",
       "      <th>Alley</th>\n",
       "      <th>LotShape</th>\n",
       "      <th>LandContour</th>\n",
       "      <th>Utilities</th>\n",
       "      <th>...</th>\n",
       "      <th>PoolArea</th>\n",
       "      <th>PoolQC</th>\n",
       "      <th>Fence</th>\n",
       "      <th>MiscFeature</th>\n",
       "      <th>MiscVal</th>\n",
       "      <th>MoSold</th>\n",
       "      <th>YrSold</th>\n",
       "      <th>SaleType</th>\n",
       "      <th>SaleCondition</th>\n",
       "      <th>SalePrice</th>\n",
       "    </tr>\n",
       "  </thead>\n",
       "  <tbody>\n",
       "    <tr>\n",
       "      <th>1458</th>\n",
       "      <td>1459</td>\n",
       "      <td>20</td>\n",
       "      <td>RL</td>\n",
       "      <td>68.0</td>\n",
       "      <td>9717</td>\n",
       "      <td>Pave</td>\n",
       "      <td>NaN</td>\n",
       "      <td>Reg</td>\n",
       "      <td>Lvl</td>\n",
       "      <td>AllPub</td>\n",
       "      <td>...</td>\n",
       "      <td>0</td>\n",
       "      <td>NaN</td>\n",
       "      <td>NaN</td>\n",
       "      <td>NaN</td>\n",
       "      <td>0</td>\n",
       "      <td>4</td>\n",
       "      <td>2010</td>\n",
       "      <td>WD</td>\n",
       "      <td>Normal</td>\n",
       "      <td>142125</td>\n",
       "    </tr>\n",
       "    <tr>\n",
       "      <th>1459</th>\n",
       "      <td>1460</td>\n",
       "      <td>20</td>\n",
       "      <td>RL</td>\n",
       "      <td>75.0</td>\n",
       "      <td>9937</td>\n",
       "      <td>Pave</td>\n",
       "      <td>NaN</td>\n",
       "      <td>Reg</td>\n",
       "      <td>Lvl</td>\n",
       "      <td>AllPub</td>\n",
       "      <td>...</td>\n",
       "      <td>0</td>\n",
       "      <td>NaN</td>\n",
       "      <td>NaN</td>\n",
       "      <td>NaN</td>\n",
       "      <td>0</td>\n",
       "      <td>6</td>\n",
       "      <td>2008</td>\n",
       "      <td>WD</td>\n",
       "      <td>Normal</td>\n",
       "      <td>147500</td>\n",
       "    </tr>\n",
       "  </tbody>\n",
       "</table>\n",
       "<p>2 rows × 81 columns</p>\n",
       "</div>"
      ],
      "text/plain": [
       "        Id  MSSubClass MSZoning  LotFrontage  LotArea Street Alley LotShape  \\\n",
       "1458  1459          20       RL         68.0     9717   Pave   NaN      Reg   \n",
       "1459  1460          20       RL         75.0     9937   Pave   NaN      Reg   \n",
       "\n",
       "     LandContour Utilities    ...     PoolArea PoolQC Fence MiscFeature  \\\n",
       "1458         Lvl    AllPub    ...            0    NaN   NaN         NaN   \n",
       "1459         Lvl    AllPub    ...            0    NaN   NaN         NaN   \n",
       "\n",
       "     MiscVal MoSold YrSold  SaleType  SaleCondition  SalePrice  \n",
       "1458       0      4   2010        WD         Normal     142125  \n",
       "1459       0      6   2008        WD         Normal     147500  \n",
       "\n",
       "[2 rows x 81 columns]"
      ]
     },
     "execution_count": 5,
     "metadata": {},
     "output_type": "execute_result"
    }
   ],
   "source": [
    "house.tail(2)"
   ]
  },
  {
   "cell_type": "code",
   "execution_count": 6,
   "metadata": {},
   "outputs": [],
   "source": [
    "# Dropping ID column as it does provide relevance to sales price prediction in our context\n",
    "\n",
    "house.drop(columns=[\"Id\"], axis=1, inplace=True)"
   ]
  },
  {
   "cell_type": "code",
   "execution_count": 7,
   "metadata": {},
   "outputs": [
    {
     "data": {
      "text/plain": [
       "count      1460.000000\n",
       "mean     180921.195890\n",
       "std       79442.502883\n",
       "min       34900.000000\n",
       "25%      129975.000000\n",
       "50%      163000.000000\n",
       "75%      214000.000000\n",
       "max      755000.000000\n",
       "Name: SalePrice, dtype: float64"
      ]
     },
     "execution_count": 7,
     "metadata": {},
     "output_type": "execute_result"
    }
   ],
   "source": [
    "house['SalePrice'].describe()"
   ]
  },
  {
   "cell_type": "code",
   "execution_count": 8,
   "metadata": {},
   "outputs": [
    {
     "data": {
      "text/plain": [
       "(1460, 80)"
      ]
     },
     "execution_count": 8,
     "metadata": {},
     "output_type": "execute_result"
    }
   ],
   "source": [
    "house.shape"
   ]
  },
  {
   "cell_type": "code",
   "execution_count": 9,
   "metadata": {},
   "outputs": [
    {
     "data": {
      "text/plain": [
       "Index(['MSSubClass', 'MSZoning', 'LotFrontage', 'LotArea', 'Street', 'Alley',\n",
       "       'LotShape', 'LandContour', 'Utilities', 'LotConfig', 'LandSlope',\n",
       "       'Neighborhood', 'Condition1', 'Condition2', 'BldgType', 'HouseStyle',\n",
       "       'OverallQual', 'OverallCond', 'YearBuilt', 'YearRemodAdd', 'RoofStyle',\n",
       "       'RoofMatl', 'Exterior1st', 'Exterior2nd', 'MasVnrType', 'MasVnrArea',\n",
       "       'ExterQual', 'ExterCond', 'Foundation', 'BsmtQual', 'BsmtCond',\n",
       "       'BsmtExposure', 'BsmtFinType1', 'BsmtFinSF1', 'BsmtFinType2',\n",
       "       'BsmtFinSF2', 'BsmtUnfSF', 'TotalBsmtSF', 'Heating', 'HeatingQC',\n",
       "       'CentralAir', 'Electrical', '1stFlrSF', '2ndFlrSF', 'LowQualFinSF',\n",
       "       'GrLivArea', 'BsmtFullBath', 'BsmtHalfBath', 'FullBath', 'HalfBath',\n",
       "       'BedroomAbvGr', 'KitchenAbvGr', 'KitchenQual', 'TotRmsAbvGrd',\n",
       "       'Functional', 'Fireplaces', 'FireplaceQu', 'GarageType', 'GarageYrBlt',\n",
       "       'GarageFinish', 'GarageCars', 'GarageArea', 'GarageQual', 'GarageCond',\n",
       "       'PavedDrive', 'WoodDeckSF', 'OpenPorchSF', 'EnclosedPorch', '3SsnPorch',\n",
       "       'ScreenPorch', 'PoolArea', 'PoolQC', 'Fence', 'MiscFeature', 'MiscVal',\n",
       "       'MoSold', 'YrSold', 'SaleType', 'SaleCondition', 'SalePrice'],\n",
       "      dtype='object')"
      ]
     },
     "execution_count": 9,
     "metadata": {},
     "output_type": "execute_result"
    }
   ],
   "source": [
    "house.columns"
   ]
  },
  {
   "cell_type": "code",
   "execution_count": 10,
   "metadata": {},
   "outputs": [
    {
     "name": "stdout",
     "output_type": "stream",
     "text": [
      "MSSubClass [ 60  20  70  50 190  45  90 120  30  85  80 160  75 180  40] \n",
      "\n",
      "MSZoning ['RL' 'RM' 'C (all)' 'FV' 'RH'] \n",
      "\n",
      "LotFrontage [ 65.  80.  68.  60.  84.  85.  75.  nan  51.  50.  70.  91.  72.  66.\n",
      " 101.  57.  44. 110.  98.  47. 108. 112.  74. 115.  61.  48.  33.  52.\n",
      " 100.  24.  89.  63.  76.  81.  95.  69.  21.  32.  78. 121. 122.  40.\n",
      " 105.  73.  77.  64.  94.  34.  90.  55.  88.  82.  71. 120. 107.  92.\n",
      " 134.  62.  86. 141.  97.  54.  41.  79. 174.  99.  67.  83.  43. 103.\n",
      "  93.  30. 129. 140.  35.  37. 118.  87. 116. 150. 111.  49.  96.  59.\n",
      "  36.  56. 102.  58.  38. 109. 130.  53. 137.  45. 106. 104.  42.  39.\n",
      " 144. 114. 128. 149. 313. 168. 182. 138. 160. 152. 124. 153.  46.] \n",
      "\n",
      "LotArea [ 8450  9600 11250 ... 17217 13175  9717] \n",
      "\n",
      "Street ['Pave' 'Grvl'] \n",
      "\n",
      "Alley [nan 'Grvl' 'Pave'] \n",
      "\n",
      "LotShape ['Reg' 'IR1' 'IR2' 'IR3'] \n",
      "\n",
      "LandContour ['Lvl' 'Bnk' 'Low' 'HLS'] \n",
      "\n",
      "Utilities ['AllPub' 'NoSeWa'] \n",
      "\n",
      "LotConfig ['Inside' 'FR2' 'Corner' 'CulDSac' 'FR3'] \n",
      "\n",
      "LandSlope ['Gtl' 'Mod' 'Sev'] \n",
      "\n",
      "Neighborhood ['CollgCr' 'Veenker' 'Crawfor' 'NoRidge' 'Mitchel' 'Somerst' 'NWAmes'\n",
      " 'OldTown' 'BrkSide' 'Sawyer' 'NridgHt' 'NAmes' 'SawyerW' 'IDOTRR'\n",
      " 'MeadowV' 'Edwards' 'Timber' 'Gilbert' 'StoneBr' 'ClearCr' 'NPkVill'\n",
      " 'Blmngtn' 'BrDale' 'SWISU' 'Blueste'] \n",
      "\n",
      "Condition1 ['Norm' 'Feedr' 'PosN' 'Artery' 'RRAe' 'RRNn' 'RRAn' 'PosA' 'RRNe'] \n",
      "\n",
      "Condition2 ['Norm' 'Artery' 'RRNn' 'Feedr' 'PosN' 'PosA' 'RRAn' 'RRAe'] \n",
      "\n",
      "BldgType ['1Fam' '2fmCon' 'Duplex' 'TwnhsE' 'Twnhs'] \n",
      "\n",
      "HouseStyle ['2Story' '1Story' '1.5Fin' '1.5Unf' 'SFoyer' 'SLvl' '2.5Unf' '2.5Fin'] \n",
      "\n",
      "OverallQual [ 7  6  8  5  9  4 10  3  1  2] \n",
      "\n",
      "OverallCond [5 8 6 7 4 2 3 9 1] \n",
      "\n",
      "YearBuilt [2003 1976 2001 1915 2000 1993 2004 1973 1931 1939 1965 2005 1962 2006\n",
      " 1960 1929 1970 1967 1958 1930 2002 1968 2007 1951 1957 1927 1920 1966\n",
      " 1959 1994 1954 1953 1955 1983 1975 1997 1934 1963 1981 1964 1999 1972\n",
      " 1921 1945 1982 1998 1956 1948 1910 1995 1991 2009 1950 1961 1977 1985\n",
      " 1979 1885 1919 1990 1969 1935 1988 1971 1952 1936 1923 1924 1984 1926\n",
      " 1940 1941 1987 1986 2008 1908 1892 1916 1932 1918 1912 1947 1925 1900\n",
      " 1980 1989 1992 1949 1880 1928 1978 1922 1996 2010 1946 1913 1937 1942\n",
      " 1938 1974 1893 1914 1906 1890 1898 1904 1882 1875 1911 1917 1872 1905] \n",
      "\n",
      "YearRemodAdd [2003 1976 2002 1970 2000 1995 2005 1973 1950 1965 2006 1962 2007 1960\n",
      " 2001 1967 2004 2008 1997 1959 1990 1955 1983 1980 1966 1963 1987 1964\n",
      " 1972 1996 1998 1989 1953 1956 1968 1981 1992 2009 1982 1961 1993 1999\n",
      " 1985 1979 1977 1969 1958 1991 1971 1952 1975 2010 1984 1986 1994 1988\n",
      " 1954 1957 1951 1978 1974] \n",
      "\n",
      "RoofStyle ['Gable' 'Hip' 'Gambrel' 'Mansard' 'Flat' 'Shed'] \n",
      "\n",
      "RoofMatl ['CompShg' 'WdShngl' 'Metal' 'WdShake' 'Membran' 'Tar&Grv' 'Roll'\n",
      " 'ClyTile'] \n",
      "\n",
      "Exterior1st ['VinylSd' 'MetalSd' 'Wd Sdng' 'HdBoard' 'BrkFace' 'WdShing' 'CemntBd'\n",
      " 'Plywood' 'AsbShng' 'Stucco' 'BrkComm' 'AsphShn' 'Stone' 'ImStucc'\n",
      " 'CBlock'] \n",
      "\n",
      "Exterior2nd ['VinylSd' 'MetalSd' 'Wd Shng' 'HdBoard' 'Plywood' 'Wd Sdng' 'CmentBd'\n",
      " 'BrkFace' 'Stucco' 'AsbShng' 'Brk Cmn' 'ImStucc' 'AsphShn' 'Stone'\n",
      " 'Other' 'CBlock'] \n",
      "\n",
      "MasVnrType ['BrkFace' 'None' 'Stone' 'BrkCmn' nan] \n",
      "\n",
      "MasVnrArea [1.960e+02 0.000e+00 1.620e+02 3.500e+02 1.860e+02 2.400e+02 2.860e+02\n",
      " 3.060e+02 2.120e+02 1.800e+02 3.800e+02 2.810e+02 6.400e+02 2.000e+02\n",
      " 2.460e+02 1.320e+02 6.500e+02 1.010e+02 4.120e+02 2.720e+02 4.560e+02\n",
      " 1.031e+03 1.780e+02 5.730e+02 3.440e+02 2.870e+02 1.670e+02 1.115e+03\n",
      " 4.000e+01 1.040e+02 5.760e+02 4.430e+02 4.680e+02 6.600e+01 2.200e+01\n",
      " 2.840e+02 7.600e+01 2.030e+02 6.800e+01 1.830e+02 4.800e+01 2.800e+01\n",
      " 3.360e+02 6.000e+02 7.680e+02 4.800e+02 2.200e+02 1.840e+02 1.129e+03\n",
      " 1.160e+02 1.350e+02 2.660e+02 8.500e+01 3.090e+02 1.360e+02 2.880e+02\n",
      " 7.000e+01 3.200e+02 5.000e+01 1.200e+02 4.360e+02 2.520e+02 8.400e+01\n",
      " 6.640e+02 2.260e+02 3.000e+02 6.530e+02 1.120e+02 4.910e+02 2.680e+02\n",
      " 7.480e+02 9.800e+01 2.750e+02 1.380e+02 2.050e+02 2.620e+02 1.280e+02\n",
      " 2.600e+02 1.530e+02 6.400e+01 3.120e+02 1.600e+01 9.220e+02 1.420e+02\n",
      " 2.900e+02 1.270e+02 5.060e+02 2.970e+02       nan 6.040e+02 2.540e+02\n",
      " 3.600e+01 1.020e+02 4.720e+02 4.810e+02 1.080e+02 3.020e+02 1.720e+02\n",
      " 3.990e+02 2.700e+02 4.600e+01 2.100e+02 1.740e+02 3.480e+02 3.150e+02\n",
      " 2.990e+02 3.400e+02 1.660e+02 7.200e+01 3.100e+01 3.400e+01 2.380e+02\n",
      " 1.600e+03 3.650e+02 5.600e+01 1.500e+02 2.780e+02 2.560e+02 2.250e+02\n",
      " 3.700e+02 3.880e+02 1.750e+02 2.960e+02 1.460e+02 1.130e+02 1.760e+02\n",
      " 6.160e+02 3.000e+01 1.060e+02 8.700e+02 3.620e+02 5.300e+02 5.000e+02\n",
      " 5.100e+02 2.470e+02 3.050e+02 2.550e+02 1.250e+02 1.000e+02 4.320e+02\n",
      " 1.260e+02 4.730e+02 7.400e+01 1.450e+02 2.320e+02 3.760e+02 4.200e+01\n",
      " 1.610e+02 1.100e+02 1.800e+01 2.240e+02 2.480e+02 8.000e+01 3.040e+02\n",
      " 2.150e+02 7.720e+02 4.350e+02 3.780e+02 5.620e+02 1.680e+02 8.900e+01\n",
      " 2.850e+02 3.600e+02 9.400e+01 3.330e+02 9.210e+02 7.620e+02 5.940e+02\n",
      " 2.190e+02 1.880e+02 4.790e+02 5.840e+02 1.820e+02 2.500e+02 2.920e+02\n",
      " 2.450e+02 2.070e+02 8.200e+01 9.700e+01 3.350e+02 2.080e+02 4.200e+02\n",
      " 1.700e+02 4.590e+02 2.800e+02 9.900e+01 1.920e+02 2.040e+02 2.330e+02\n",
      " 1.560e+02 4.520e+02 5.130e+02 2.610e+02 1.640e+02 2.590e+02 2.090e+02\n",
      " 2.630e+02 2.160e+02 3.510e+02 6.600e+02 3.810e+02 5.400e+01 5.280e+02\n",
      " 2.580e+02 4.640e+02 5.700e+01 1.470e+02 1.170e+03 2.930e+02 6.300e+02\n",
      " 4.660e+02 1.090e+02 4.100e+01 1.600e+02 2.890e+02 6.510e+02 1.690e+02\n",
      " 9.500e+01 4.420e+02 2.020e+02 3.380e+02 8.940e+02 3.280e+02 6.730e+02\n",
      " 6.030e+02 1.000e+00 3.750e+02 9.000e+01 3.800e+01 1.570e+02 1.100e+01\n",
      " 1.400e+02 1.300e+02 1.480e+02 8.600e+02 4.240e+02 1.047e+03 2.430e+02\n",
      " 8.160e+02 3.870e+02 2.230e+02 1.580e+02 1.370e+02 1.150e+02 1.890e+02\n",
      " 2.740e+02 1.170e+02 6.000e+01 1.220e+02 9.200e+01 4.150e+02 7.600e+02\n",
      " 2.700e+01 7.500e+01 3.610e+02 1.050e+02 3.420e+02 2.980e+02 5.410e+02\n",
      " 2.360e+02 1.440e+02 4.230e+02 4.400e+01 1.510e+02 9.750e+02 4.500e+02\n",
      " 2.300e+02 5.710e+02 2.400e+01 5.300e+01 2.060e+02 1.400e+01 3.240e+02\n",
      " 2.950e+02 3.960e+02 6.700e+01 1.540e+02 4.250e+02 4.500e+01 1.378e+03\n",
      " 3.370e+02 1.490e+02 1.430e+02 5.100e+01 1.710e+02 2.340e+02 6.300e+01\n",
      " 7.660e+02 3.200e+01 8.100e+01 1.630e+02 5.540e+02 2.180e+02 6.320e+02\n",
      " 1.140e+02 5.670e+02 3.590e+02 4.510e+02 6.210e+02 7.880e+02 8.600e+01\n",
      " 7.960e+02 3.910e+02 2.280e+02 8.800e+01 1.650e+02 4.280e+02 4.100e+02\n",
      " 5.640e+02 3.680e+02 3.180e+02 5.790e+02 6.500e+01 7.050e+02 4.080e+02\n",
      " 2.440e+02 1.230e+02 3.660e+02 7.310e+02 4.480e+02 2.940e+02 3.100e+02\n",
      " 2.370e+02 4.260e+02 9.600e+01 4.380e+02 1.940e+02 1.190e+02] \n",
      "\n",
      "ExterQual ['Gd' 'TA' 'Ex' 'Fa'] \n",
      "\n",
      "ExterCond ['TA' 'Gd' 'Fa' 'Po' 'Ex'] \n",
      "\n",
      "Foundation ['PConc' 'CBlock' 'BrkTil' 'Wood' 'Slab' 'Stone'] \n",
      "\n",
      "BsmtQual ['Gd' 'TA' 'Ex' nan 'Fa'] \n",
      "\n",
      "BsmtCond ['TA' 'Gd' nan 'Fa' 'Po'] \n",
      "\n",
      "BsmtExposure ['No' 'Gd' 'Mn' 'Av' nan] \n",
      "\n",
      "BsmtFinType1 ['GLQ' 'ALQ' 'Unf' 'Rec' 'BLQ' nan 'LwQ'] \n",
      "\n",
      "BsmtFinSF1 [ 706  978  486  216  655  732 1369  859    0  851  906  998  737  733\n",
      "  578  646  504  840  188  234 1218 1277 1018 1153 1213  731  643  967\n",
      "  747  280  179  456 1351   24  763  182  104 1810  384  490  649  632\n",
      "  941  739  912 1013  603 1880  565  320  462  228  336  448 1201   33\n",
      "  588  600  713 1046  648  310 1162  520  108  569 1200  224  705  444\n",
      "  250  984   35  774  419  170 1470  938  570  300  120  116  512  567\n",
      "  445  695  405 1005  668  821  432 1300  507  679 1332  209  680  716\n",
      " 1400  416  429  222   57  660 1016  370  351  379 1288  360  639  495\n",
      "  288 1398  477  831 1904  436  352  611 1086  297  626  560  390  566\n",
      " 1126 1036 1088  641  617  662  312 1065  787  468   36  822  378  946\n",
      "  341   16  550  524   56  321  842  689  625  358  402   94 1078  329\n",
      "  929  697 1573  270  922  503 1334  361  672  506  714  403  751  226\n",
      "  620  546  392  421  905  904  430  614  450  210  292  795 1285  819\n",
      "  420  841  281  894 1464  700  262 1274  518 1236  425  692  987  970\n",
      "   28  256 1619   40  846 1124  720  828 1249  810  213  585  129  498\n",
      " 1270  573 1410 1082  236  388  334  874  956  773  399  162  712  609\n",
      "  371  540   72  623  428  350  298 1445  218  985  631 1280  241  690\n",
      "  266  777  812  786 1116  789 1056   50 1128  775 1309 1246  986  616\n",
      " 1518  664  387  471  385  365 1767  133  642  247  331  742 1606  916\n",
      "  185  544  553  326  778  386  426  368  459 1350 1196  630  994  168\n",
      " 1261 1567  299  897  607  836  515  374 1231  111  356  400  698 1247\n",
      "  257  380   27  141  991  650  521 1436 2260  719  377 1330  348 1219\n",
      "  783  969  673 1358 1260  144  584  554 1002  619  180  559  308  866\n",
      "  895  637  604 1302 1071  290  728    2 1441  943  231  414  349  442\n",
      "  328  594  816 1460 1324 1338  685 1422 1283   81  454  903  605  990\n",
      "  206  150  457   48  871   41  674  624  480 1154  738  493 1121  282\n",
      "  500  131 1696  806 1361  920 1721  187 1138  988  193  551  767 1186\n",
      "  892  311  827  543 1003 1059  239  945   20 1455  965  980  863  533\n",
      " 1084 1173  523 1148  191 1234  375  808  724  152 1180  252  832  575\n",
      "  919  439  381  438  549  612 1163  437  394 1416  422  762  975 1097\n",
      "  251  686  656  568  539  862  197  516  663  608 1636  784  249 1040\n",
      "  483  196  572  338  330  156 1390  513  460  659  364  564  306  505\n",
      "  932  750   64  633 1170  899  902 1238  528 1024 1064  285 2188  465\n",
      "  322  860  599  354   63  223  301  443  489  284  294  814  165  552\n",
      "  833  464  936  772 1440  748  982  398  562  484  417  699  696  896\n",
      "  556 1106  651  867  854 1646 1074  536 1172  915  595 1237  273  684\n",
      "  324 1165  138 1513  317 1012 1022  509  900 1085 1104  240  383  644\n",
      "  397  740  837  220  586  535  410   75  824  592 1039  510  423  661\n",
      "  248  704  412 1032  219  708  415 1004  353  702  369  622  212  645\n",
      "  852 1150 1258  275  176  296  538 1157  492 1198 1387  522  658 1216\n",
      " 1480 2096 1159  440 1456  883  547  788  485  340 1220  427  344  756\n",
      " 1540  666  803 1000  885 1386  319  534  125 1314  602  192  593  804\n",
      " 1053  532 1158 1014  194  167  776 5644  694 1572  746 1406  925  482\n",
      "  189  765   80 1443  259  735  734 1447  548  315 1282  408  309  203\n",
      "  865  204  790 1320  769 1070  264  759 1373  976  781   25 1110  404\n",
      "  580  678  958 1336 1079   49  830] \n",
      "\n",
      "BsmtFinType2 ['Unf' 'BLQ' nan 'ALQ' 'Rec' 'LwQ' 'GLQ'] \n",
      "\n",
      "BsmtFinSF2 [   0   32  668  486   93  491  506  712  362   41  169  869  150  670\n",
      "   28 1080  181  768  215  374  208  441  184  279  306  180  580  690\n",
      "  692  228  125 1063  620  175  820 1474  264  479  147  232  380  544\n",
      "  294  258  121  391  531  344  539  713  210  311 1120  165  532   96\n",
      "  495  174 1127  139  202  645  123  551  219  606  612  480  182  132\n",
      "  336  468  287   35  499  723  119   40  117  239   80  472   64 1057\n",
      "  127  630  128  377  764  345 1085  435  823  500  290  324  634  411\n",
      "  841 1061  466  396  354  149  193  273  465  400  682  557  230  106\n",
      "  791  240  547  469  177  108  600  492  211  168 1031  438  375  144\n",
      "   81  906  608  276  661   68  173  972  105  420  546  334  352  872\n",
      "  110  627  163 1029] \n",
      "\n",
      "BsmtUnfSF [ 150  284  434  540  490   64  317  216  952  140  134  177  175 1494\n",
      "  520  832  426    0  468  525 1158  637 1777  200  204 1566  180  486\n",
      "  207  649 1228 1234  380  408 1117 1097   84  326  445  383  167  465\n",
      " 1296   83 1632  736  192  612  816   32  935  321  860 1410  148  217\n",
      "  530 1346  576  318 1143 1035  440  747  701  343  280  404  840  724\n",
      "  295 1768  448   36 1530 1065  384 1288  684 1013  402  635  163  168\n",
      "  176  370  350  381  410  741 1226 1053  641  516  793 1139  550  905\n",
      "  104  310  252 1125  203  728  732  510  899 1362   30  958  556  413\n",
      "  479  297  658  262  891 1304  519 1907  336  107  432  403  811  396\n",
      "  970  506  884  400  896  253  409   93 1200  572  774  769 1335  340\n",
      "  882  779  112  470  294 1686  360  441  354  700  725  320  554  312\n",
      "  968  504 1107  577  660   99  871  474  289  600  755  625 1121  276\n",
      "  186 1424 1140  375   92  305 1176   78  274  311  710  686  457 1232\n",
      " 1498 1010  160 2336  630  638  162   70 1357 1194  773  483  235  125\n",
      " 1390  594 1694  488  357  626  916 1020 1367  798  452  392  975  361\n",
      "  270  602 1482  680  606   88  342  212 1095   96  628 1560  744 2121\n",
      "  768  386 1468 1145  244  698 1079  570  476  131  184  143 1092  324\n",
      " 1541 1470  536  319  599  622  179  292  286   80  712  291  153 1088\n",
      " 1249  166  906  604  100  818  844  596  210 1603  115  103  673  726\n",
      "  995  967  721 1656  972  460  208  191  438 1869  371  624  552  322\n",
      "  598  268  130  484  785  733  953  847  333 1580  411  982  808 1293\n",
      "  939  784  595  229  114  522  735  405  117  961 1286  672 1141  806\n",
      "  165 1064 1063  245 1276  892 1008  499 1316  463  242  444  281   35\n",
      "  356  988  580  651  619  544  387  901  926  135  648   75  788 1307\n",
      " 1078 1258  273 1436  557  930  780  813  878  122  248  588  524  288\n",
      "  389  424 1375 1626  406  298 2153  417  739  225  611  237  290  264\n",
      "  238  363  190 1969  697  414  316  466  420  254  960  397 1191  548\n",
      "   50  178 1368  169  748  689 1264  467  605 1257  551  678  707  880\n",
      "  378  223  578  969  379  765  149  912  620 1709  132  993  197 1374\n",
      "   90  195  706 1163  367 1122 1515   55 1497  450  846   23  390  861\n",
      "  285 1050  331 2042 1237  113  742  924  512  119  314  308  293  537\n",
      "  126  427  309  914  173 1774  823  485 1116  978  636  564  108 1184\n",
      "  796  366  300  542  645  664  756  247  776  849 1392   38 1406  111\n",
      "  545  121 2046  161  261  567 1195  874 1342  151  989 1073  927  219\n",
      "  224  526 1164  761  461  876  859  171  718  138  941  464  250   72\n",
      "  508 1584  415   82  948  893  864 1349   76  487  652 1240  801  279\n",
      " 1030  348  234 1198  740   89  586  323 1836  480  456 1935  338 1594\n",
      "  102  374 1413  491 1129  255 1496  650 1926  154  999 1734  124 1417\n",
      "   15  834 1649  936  778 1489  442 1434  352  458 1221 1099  416 1800\n",
      "  227  907  528  189 1273  563  372  702 1090  435  198 1372  174 1638\n",
      "  894  299  105  676 1120  431  218  110  795 1098 1043  481  666  142\n",
      "  447  783 1670  277  412  794  239  662 1072  717  546  430  422  188\n",
      "  266 1181 1753  964 1450 1905 1480  772 1032  220  187   29  495  640\n",
      "  193  196  720  918 1428   77 1266 1128  692  770  750 1442 1007  501\n",
      "  691 1550 1680 1330 1710  746  814  515  571  359  355  301  668  920\n",
      " 1055 1420 1752  304 1302  833  133  549  705  722  799  462  429  810\n",
      "  155  170  230 1459 1082  758 1290 1074  251  172  868  797  365  418\n",
      "  730  533  671 1012 1528 1005 1373  500  762  752  399 1042   40   26\n",
      "  932  278  459  568 1502  543  574  977  449  983  731  120  538  831\n",
      "  994  341  879  815 1212  866 1630  328  141  364 1380   81  303  940\n",
      "  764 1048  334 1689  690  792  585  473  246 1045 1405  201   14  841\n",
      " 1104  241  925 2002   74  661  708 1152  256  804  812 1085  344  425\n",
      " 1616  976  496  349  971 1393 1622 1352 1795 1017 1588  428  803  693\n",
      "  858 1284 1203 1652   39  539 1217  257  715  616  240  315 1351 1026\n",
      " 1571  156   61   95  482 1094   60  862  221  791  398  777  503  734\n",
      "  709 1252  656 1319 1422  560 1573  589  877  136] \n",
      "\n",
      "TotalBsmtSF [ 856 1262  920  756 1145  796 1686 1107  952  991 1040 1175  912 1494\n",
      " 1253  832 1004    0 1114 1029 1158  637 1777 1060 1566  900 1704 1484\n",
      "  520  649 1228 1234 1398 1561 1117 1097 1297 1057 1088 1350  840  938\n",
      " 1150 1752 1434 1656  736  955  794  816 1842  384 1425  970  860 1410\n",
      "  780  530 1370  576 1143 1947 1453  747 1304 2223  845 1086  462  672\n",
      " 1768  440  896 1237 1563 1065 1288  684  612 1013  990 1235  876 1214\n",
      "  824  680 1588  960  458  950 1610  741 1226 1053  641  789  793 1844\n",
      "  994 1264 1809 1028  729 1092 1125 1673  728  732 1080 1199 1362 1078\n",
      "  660 1008  924  992 1063 1267 1461 1907  928  864 1734  910 1490 1728\n",
      "  715  884  969 1710  825 1602 1200  572  774 1392 1232 1572 1541  882\n",
      " 1149  644 1617 1582  720 1064 1606 1202 1151 1052 2216  968  504 1188\n",
      " 1593  853  725 1431  855 1726 1360  755 1713 1121 1196  617  848 1424\n",
      " 1140 1100 1157 1212  689 1070 1436  686  798 1248 1498 1010  713 2392\n",
      "  630 1203  483 1373 1194 1462  894 1414  996 1694  735  540  626  948\n",
      " 1845 1020 1367 1444 1573 1302 1314  975 1604  963 1482  506  926 1422\n",
      "  802  740 1095 1385 1152 1240 1560 2121 1160  807 1468 1575  625  858\n",
      "  698 1079  768  795 1416 1003  702 1165 1470 2000  700  319  861 1896\n",
      "  697  972 2136  716 1347 1372 1249 1136 1502 1162  710 1719 1383  844\n",
      "  596 1056 3206 1358  943 1499 1922 1536 1208 1215  967  721 1684  536\n",
      "  958 1478  764 1848 1869  616  624  940 1142 1062  888  883 1394 1099\n",
      " 1268  953  744  608  847  683  870 1580 1856  982 1026 1293  939  784\n",
      " 1256  658 1041 1682  804  788 1144  961 1260 1310 1141  806 1281 1034\n",
      " 1276 1340 1344  988  651 1518  907  901  765  799  648 3094 1440 1258\n",
      "  915 1517  930  813 1533  872 1242 1364  588  709  560 1375 1277 1626\n",
      " 1488  808  547 1976 2153 1705 1833 1792 1216  999 1113 1073  954  264\n",
      " 1269  190 3200  866 1501  777 1218 1368 1084 2006 1244 3138 1379 1257\n",
      " 1452  528 2035  611  707  880 1051 1581 1838 1650  723  654 1204 1069\n",
      " 1709  998  993 1374 1389 1163 1122 1496  846  372 1164 1050 2042 1868\n",
      " 1437  742  770 1722 1814 1430 1058  908  600  965 1032 1299 1120  936\n",
      "  783 1822 1522  980 1116  978 1156  636 1554 1386  811 1520 1952 1766\n",
      "  981 1094 2109  525  776 1486 1629 1138 2077 1406 1021 1408  738 1477\n",
      " 2046  923 1291 1195 1190  874  551 1419 2444 1210  927 1112 1391 1800\n",
      "  360 1473 1643 1324  270  859  718 1176 1311  971 1742  941 1698 1584\n",
      " 1595  868 1153  893 1349 1337 1720 1479 1030 1318 1252  983 1860  836\n",
      " 1935 1614  761 1413  956  712  650  773 1926  731 1417 1024  849 1442\n",
      " 1649 1568  778 1489 2078 1454 1516 1067 1559 1127 1390 1273  918 1763\n",
      " 1090 1054 1039 1148 1002 1638  105  676 1184 1109  892 2217 1505 1059\n",
      "  951 2330 1670 1623 1017 1105 1001  546  480 1134 1104 1272 1316 1126\n",
      " 1181 1753  964 1466  925 1905 1500  585 1632  819 1616 1161  828  945\n",
      "  979  561  696 1330  817 1098 1428  673 1241  944 1225 1266 1128  485\n",
      " 1930 1396  916  822  750 1700 1007 1187  691 1574 1680 1346  985 1657\n",
      "  602 1022 1082  810 1504 1220 1132 1565 1338 1654 1620 1055  800 1306\n",
      " 1475 2524 1992 1193  973  854  662 1103 1154  942 1048  727  690 1096\n",
      " 1459 1251 1247 1074 1271  290  655 1463 1836  803  833  408  533 1012\n",
      " 1552 1005 1530  974 1567 1006 1042 1298  704  932 1219 1296 1198  959\n",
      " 1261 1598 1683  818 1600 2396 1624  831 1224  663  879  815 1630 2158\n",
      "  931 1660  559 1300 1702 1075 1361 1106 1476 1689 2076  792 2110 1405\n",
      " 1192  746 1986  841 2002 1332  935 1019  661 1309 1328 1085 6110 1246\n",
      "  771  976 1652 1278 1902 1274 1393 1622 1352  420 1795  544 1510  911\n",
      "  693 1284 1732 2033  570 1980  814  873  757 1108 2633 1571  984 1205\n",
      "  714 1746 1525  482 1356  862  839 1286 1485 1594  622  791  708 1223\n",
      "  913  656 1319 1932  539 1221 1542] \n",
      "\n",
      "Heating ['GasA' 'GasW' 'Grav' 'Wall' 'OthW' 'Floor'] \n",
      "\n",
      "HeatingQC ['Ex' 'Gd' 'TA' 'Fa' 'Po'] \n",
      "\n",
      "CentralAir ['Y' 'N'] \n",
      "\n",
      "Electrical ['SBrkr' 'FuseF' 'FuseA' 'FuseP' 'Mix' nan] \n",
      "\n",
      "1stFlrSF [ 856 1262  920  961 1145  796 1694 1107 1022 1077 1040 1182  912 1494\n",
      " 1253  854 1004 1296 1114 1339 1158 1108 1795 1060 1600  900 1704  520\n",
      "  649 1228 1234 1700 1561 1132 1097 1297 1057 1152 1324 1328  884  938\n",
      " 1150 1752 1518 1656  736  955  794  816 1842 1360 1425  983  860 1426\n",
      "  780  581 1370  902 1143 2207 1479  747 1304 2223  845  885 1086  840\n",
      "  526  952 1072 1768  682 1337 1563 1065  804 1301  684  612 1013  990\n",
      " 1235  964 1260  905  680 1588  960  835 1225 1610  977 1535 1226 1053\n",
      " 1047  789  997 1844 1216  774 1282 2259 1436  729 1092 1125 1699  728\n",
      "  988  772 1080 1199 1586  958  660 1327 1721 1682 1214 1959  928  864\n",
      " 1734  910 1501 1728  970  875  896  969 1710 1252 1200  572  991 1392\n",
      " 1232 1572 1541  882 1149  808 1867 1707 1064 1362 1651 2158 1164 2234\n",
      "  968  769  901 1340  936 1217 1224 1593 1549  725 1431  855 1726  929\n",
      " 1713 1121 1279  865  848  720 1442 1696 1100 1180 1212  932  689 1236\n",
      "  810 1137 1248 1498 1010  811 2392  630  483 1555 1194 1490  894 1414\n",
      " 1014  798 1566  866  889  626 1222 1872  908 1375 1444 1306 1625 1302\n",
      " 1314 1005 1604  963 1382 1482  926  764 1422  802 1052  778 1113 1095\n",
      " 1363 1632 1560 2121 1156 1175 1468 1575  625 1085  858  698 1079 1148\n",
      " 1644 1003  975 1041 1336 1210 1675 2000 1122 1035  861 1944  697  972\n",
      "  793 2036  832  716 1153 1088 1372 1472 1249 1136 1553 1163 1898  803\n",
      " 1719 1383 1445  596 1056 1629 1358  943 1619 1922 1536 1621 1215  993\n",
      "  841 1684  536 1478 1848 1869 1453  616 1192 1167 1142 1352  495  790\n",
      "  672 1394 1268 1287  953 1120  752 1319  847  904  914 1580 1856 1007\n",
      " 1026  939  784 1269  658 1742  788  735 1144  876 1112 1288 1310 1165\n",
      "  806 1620 1166 1071 1050 1276 1028  756 1344 1602 1470 1196  707  907\n",
      " 1208 1412  765  827  734  694 2402 1440 1128 1258  933 1689 1888  956\n",
      "  679  813 1533  888  786 1242  624 1663  833  979  575  849 1277 1634\n",
      " 1502 1161 1976 1652 1493 2069 1718 1131 1850 1792  916  999 1073 1484\n",
      " 1766  886 3228 1133  899 1801 1218 1368 2020 1378 1244 3138 1266 1476\n",
      "  605 2515 1509  751  334  820  880 1159 1601 1838 1680  767  664 1377\n",
      "  915  768  825 1069 1717 1126 1006 1048  897 1557 1389  996 1134 1496\n",
      "  846  576  877 1320  703 1429 2042 1521  989 2028  838 1473  779  770\n",
      "  924 1826 1402 1647 1058  927  600 1186 1940 1029 1032 1299 1054  807\n",
      " 1828 1548  980 1012 1116 1520 1350 1089 1554 1411  800 1567  981 1094\n",
      " 1051  822  755  909 2113  525  851 1486 1686 1181 2097 1454 1465 1679\n",
      " 1437  738 1839  792 2046  923 1291 1668 1195 1190  874  551 1419 2444\n",
      " 1238 1067 1391 1800 1264  372 1824  859 1576 1178 1325  971 1698 1776\n",
      " 1616 1146  948 1349 1464 1720 1038  742  757 1506 1836 1690 1220 1117\n",
      " 1973 1204 1614 1430 1110 1342  966  976 1062 1127 1285  773 1966 1428\n",
      " 1075 1309 1044  686 1661 1008  944 1489 2084 1434 1160  941 1516 1559\n",
      " 1099 1701 1307 1456  918 1779  702 1512 1039 1002 1646 1547 1036  676\n",
      " 1184 1462 1155 1090 1187  954  892 1709 1712  872 2217 1505 1068  951\n",
      " 2364 1670 1063 1636 1020 1105 1015 1001  546  480 1229 1272 1316 1617\n",
      " 1098 1788 1466  925 1905 1500 1207 1188 1381  965 1168  561  696 1542\n",
      "  824  783  673  869 1241 1118 1407  750  691 1574 1504  985 1657 1664\n",
      " 1082 2898 1687 1654 1055 1803 1532 2524 1733 1992 1771  930 1526 1091\n",
      " 1523 1364 1130 1096 1338 1103 1154  799  893  829 1240 1459 1251 1247\n",
      " 1390  438  950  887 1021 1552  812 1530  974  986 1042 1298 1811 1265\n",
      " 1640 1432  959 1831 1261 1170 2129  818 1124 2411  949 1624  831 1622\n",
      "  842  663  879  815 1630 1074 2196 1283 1660 1318 1211 2136 1138 1702\n",
      " 1507 1361 1024 1141 1173 2076 1140 1034 2110 1405  760 1987 1104  713\n",
      " 2018 1968 1332  935 1357  661 1724 1573 1582 1659 4692 1246  753 1203\n",
      " 1294 1902 1274 1787 1061  708 1584 1334  693 1284 1172 2156 2053  992\n",
      " 1078 1980 1281  814 2633 1571  984  754 2117  998 1416 1746 1525 1221\n",
      "  741 1569 1223  962 1537 1932 1423  913 1578 2073 1256] \n",
      "\n",
      "2ndFlrSF [ 854    0  866  756 1053  566  983  752 1142 1218  668 1320  631  716\n",
      "  676  860 1519  530  808  977 1330  833  765  462  213  548  960  670\n",
      " 1116  876  612 1031  881  790  755  592  939  520  639  656 1414  884\n",
      "  729 1523  728  351  688  941 1032  848  836  475  739 1151  448  896\n",
      "  524 1194  956 1070 1096  467  547  551  880  703  901  720  316 1518\n",
      "  704 1178  754  601 1360  929  445  564  882  920  518  817 1257  741\n",
      "  672 1306  504 1304 1100  730  689  591  888 1020  828  700  842 1286\n",
      "  864  829 1092  709  844 1106  596  807  625  649  698  840  780  568\n",
      "  795  648  975  702 1242 1818 1121  371  804  325  809 1200  871 1274\n",
      " 1347 1332 1177 1080  695  167  915  576  605  862  495  403  838  517\n",
      " 1427  784  711  468 1081  886  793  665  858  874  526  590  406 1157\n",
      "  299  936  438 1098  766 1101 1028 1017 1254  378 1160  682  110  600\n",
      "  678  834  384  512  930  868  224 1103  560  811  878  574  910  620\n",
      "  687  546  902 1000  846 1067  914  660 1538 1015 1237  611  707  527\n",
      " 1288  832  806 1182 1040  439  717  511 1129 1370  636  533  745  584\n",
      "  812  684  595  988  800  677  573 1066  778  661 1440  872  788  843\n",
      "  713  567  651  762  482  738  586  679  644  900  887 1872 1281  472\n",
      " 1312  319  978 1093  473  664 1540 1276  441  348 1060  714  744 1203\n",
      "  783 1097  734  767 1589  742  686 1128 1111 1174  787 1072 1088 1063\n",
      "  545  966  623  432  581  540  769 1051  761  779  514  455 1426  785\n",
      "  521  252  813 1120 1037 1169 1001 1215  928 1140 1243  571 1196 1038\n",
      "  561  979  701  332  368  883 1336 1141  634  912  798  985  826  831\n",
      "  750  456  602  855  336  408  980  998 1168 1208  797  850  898 1054\n",
      "  895  954  772 1230  727  454  370  628  304  582 1122 1134  885  640\n",
      "  580 1112  653  220  240 1362  534  539  650  918  933  712 1796  971\n",
      " 1175  743  523 1216 2065  272  685  776  630  984  875  913  464 1039\n",
      " 1259  940  892  725  924  764  925 1479  192  589  992  903  430  748\n",
      "  587  994  950 1323  732 1357  557 1296  390 1185  873 1611  457  796\n",
      "  908  550  989  932  358 1392  349  691 1349  768  208  622  857  556\n",
      " 1044  708  626  904  510 1104  830  981  870  694 1152] \n",
      "\n",
      "LowQualFinSF [  0 360 513 234 528 572 144 392 371 390 420 473 156 515  80  53 232 481\n",
      " 120 514 397 479 205 384] \n",
      "\n",
      "GrLivArea [1710 1262 1786 1717 2198 1362 1694 2090 1774 1077 1040 2324  912 1494\n",
      " 1253  854 1004 1296 1114 1339 2376 1108 1795 1060 1600  900 1704  520\n",
      " 1317 1228 1234 1700 1561 2452 1097 1297 1057 1152 1324 1328  884  938\n",
      " 1150 1752 2149 1656 1452  955 1470 1176  816 1842 1360 1425 1739 1720\n",
      " 2945  780 1158 1111 1370 2034 2473 2207 1479  747 2287 2223  845 1718\n",
      " 1086 1605  988  952 1285 1768 1230 2142 1337 1563 1065 1474 2417 1560\n",
      " 1224 1526  990 1235  964 2291 1588  960  835 1225 1610 1732 1535 1226\n",
      " 1818 1992 1047  789 1517 1844 1855 1430 2696 2259 2320 1458 1092 1125\n",
      " 3222 1456 1123 1080 1199 1586  754  958  840 1348 1053 2157 2054 1327\n",
      " 1721 1682 1214 1959 1852 1764  864 1734 1385 1501 1728 1709  875 2035\n",
      " 1344  969 1993 1252 1200 1096 1968 1947 2462 1232 2668 1541  882 1616\n",
      " 1355 1867 2161 1707 1382 1767 1651 2158 2060 1920 2234  968 1525 1802\n",
      " 1340 2082 3608 1217 1593 2727 1431 1726 3112 2229 1713 1121 1279 1310\n",
      "  848 1284 1442 1696 1100 2062 1212 1392 1236 1436 1954 1248 1498 2267\n",
      " 1552 2392 1302 2520  987 1555 1194 2794  894 1960 1414 1744 1487 1566\n",
      "  866 1440 2110 1872 1928 1375 1668 2144 1306 1625 1640 1314 1604 1792\n",
      " 2574 1316  764 1422 1511 2192  778 1113 1939 1363 2270 1632 1548 2121\n",
      " 2022 1982 1468 1575 1250  858 1396 1919 1716 2263 1644 1003 1558 1950\n",
      " 1743 1336 3493 2000 2243 1406  861 1944  972 1118 2036 1641 1432 2353\n",
      " 2646 1472 2596 2468 2730 1163 2978  803 1719 1383 2134 1192 1056 1629\n",
      " 1358 1638 1922 1536 1621 1215 1908  841 1684 1112 1577 1478 1626 2728\n",
      " 1869 1453  720 1595 1167 1142 1352 1924 1505 1574 1394 1268 1287 1664\n",
      "  752 1319  904  914 2466 1856 1800 1691 1301 1797  784 1953 1269 1184\n",
      " 2332 1367 1961  788 1034 1144 1812 1550 1288  672 1572 1620 1639 1680\n",
      " 2172 2078 1276 1028 2097 1400 2624 1134 1602 2630 1196 1389  907 1208\n",
      " 1412 1198 1365  630 1661  694 2402 1573 1258 1689 1888 1886 1376 1183\n",
      "  813 1533 1756 1590 1242 1663 1666 1203 1935 1135 1660 1277 1634 1502\n",
      " 1969 1072 1976 1652  970 1493 2643 1131 1850 1826 1216  999 1073 1484\n",
      " 2414 1304 1578  886 3228 1820  899 1218 1801 1322 1911 1378 1041 1368\n",
      " 2020 2119 2344 1796 2080 1294 1244 4676 2398 1266  928 2713  605 2515\n",
      " 1509  827  334 1347 1724 1159 1601 1838 2285  767 1496 2183 1635  768\n",
      "  825 2094 1069 1126 2046 1048 1446 1557  996 1674 2295 1647 2504 2132\n",
      "  943 1692 1109 1477 1320 1429 2042 2775 2028  838  860 1473  935 1582\n",
      " 2296  924 1402 1556 1904 1915 1986 2008 3194 1029 2153 1032 1120 1054\n",
      "  832 1828 2262 2614  980 1512 1790 1116 1520 1350 1750 1554 1411 3395\n",
      "  800 1387  796 1567 1518 1929 2704 1766  981 1094 1839 1665 1510 1469\n",
      " 2113 1486 2448 1181 1936 2380 1679 1437 1180 1476 1369 1136 1441  792\n",
      "  923 1291 1761 1102 1419 4316 2519 1539 1137  616 1148 1391 1164 2576\n",
      " 1824  729 1178 2554 2418  971 1742 1698 1776 1146 2031  948 1349 1464\n",
      " 2715 2256 2640 1529 1140 2098 1026 1471 1386 2531 1547 2365 1506 1714\n",
      " 1836 3279 1220 1117 1973 1204 1614 1603 1110 1342 2084  901 2087 1145\n",
      " 1062 2013 1895 1564  773 3140 1688 2822 1128 1428 1576 2138 1309 1044\n",
      " 1008 1052  936 1733 1489 1434 2126 1223 1829 1516 1067 1559 1099 1482\n",
      " 1165 1416 1701 1775 2358 1646 1445 1779 1481 2654 1426 1039 1372 1002\n",
      " 1949  910 2610 2224 1155 1090 2230  892 1712 1393 2217 1683 1068  951\n",
      " 2240 2364 1670  902 1063 1636 2057 2274 1015 2002  480 1229 2127 2200\n",
      " 1617 1686 2374 1978 1788 2236 1466  925 1905 1500 2069 1971 1962 2403\n",
      " 1381  965 1958 2872 1894 1308 1098 1095  918 2019  869 1241 2612 2290\n",
      " 1940 2030 1851 1050  944  691 1504  985 1657 1522 1271 1022 1082 1132\n",
      " 2898 1264 3082 1654  954 1803 2329 2524 2868 1771  930 1977 1989 1523\n",
      " 1364 2184 1991 1338 2337 1103 1154 2260 1571 1611 2521  893 1240 1740\n",
      " 1459 1251 1247 1088  438  950 2622 2021 1690 1658 1964  833 1012  698\n",
      " 1005 1530 1981  974 2210  986 1020 1868 2828 1006 1298  932 1811 1265\n",
      " 1580 1876 1671 2108 3627 1261 3086 2345 1343 1124 2514 4476 1130 1221\n",
      " 1699 1624 1804 1622 1863 1630 1074 2196 1283 1845 1902 1211 1846 2136\n",
      " 1490 1138 1933 1702 1507 2620 1190 1188 1784 1948 1141 1173 2076 1553\n",
      " 2058 1405  874 2167 1987 1166 1675 1889 2018 3447 1524 1357 1395 2447\n",
      " 1659 1970 2372 5642 1246 1983 2526 1708 1122 1274 2810 2599 2112 1787\n",
      " 1923  708  774 2792 1334  693 1861  872 2169 1913 2156 2634 3238 1865\n",
      " 1078 1980 2601 1738 1475 1374 2633  790 2117 1762 2784 1746 1584 1912\n",
      " 2482 1687 1513 1608 2093 1840 1848 1569 2450 2201  804 1537 1932 1725\n",
      " 2555 2007  913 1346 2073 2340 1256] \n",
      "\n",
      "BsmtFullBath [1 0 2 3] \n",
      "\n",
      "BsmtHalfBath [0 1 2] \n",
      "\n",
      "FullBath [2 1 3 0] \n",
      "\n",
      "HalfBath [1 0 2] \n",
      "\n",
      "BedroomAbvGr [3 4 1 2 0 5 6 8] \n",
      "\n",
      "KitchenAbvGr [1 2 3 0] \n",
      "\n",
      "KitchenQual ['Gd' 'TA' 'Ex' 'Fa'] \n",
      "\n",
      "TotRmsAbvGrd [ 8  6  7  9  5 11  4 10 12  3  2 14] \n",
      "\n",
      "Functional ['Typ' 'Min1' 'Maj1' 'Min2' 'Mod' 'Maj2' 'Sev'] \n",
      "\n",
      "Fireplaces [0 1 2 3] \n",
      "\n",
      "FireplaceQu [nan 'TA' 'Gd' 'Fa' 'Ex' 'Po'] \n",
      "\n",
      "GarageType ['Attchd' 'Detchd' 'BuiltIn' 'CarPort' nan 'Basment' '2Types'] \n",
      "\n",
      "GarageYrBlt [2003. 1976. 2001. 1998. 2000. 1993. 2004. 1973. 1931. 1939. 1965. 2005.\n",
      " 1962. 2006. 1960. 1991. 1970. 1967. 1958. 1930. 2002. 1968. 2007. 2008.\n",
      " 1957. 1920. 1966. 1959. 1995. 1954. 1953.   nan 1983. 1977. 1997. 1985.\n",
      " 1963. 1981. 1964. 1999. 1935. 1990. 1945. 1987. 1989. 1915. 1956. 1948.\n",
      " 1974. 2009. 1950. 1961. 1921. 1900. 1979. 1951. 1969. 1936. 1975. 1971.\n",
      " 1923. 1984. 1926. 1955. 1986. 1988. 1916. 1932. 1972. 1918. 1980. 1924.\n",
      " 1996. 1940. 1949. 1994. 1910. 1978. 1982. 1992. 1925. 1941. 2010. 1927.\n",
      " 1947. 1937. 1942. 1938. 1952. 1928. 1922. 1934. 1906. 1914. 1946. 1908.\n",
      " 1929. 1933.] \n",
      "\n",
      "GarageFinish ['RFn' 'Unf' 'Fin' nan] \n",
      "\n",
      "GarageCars [2 3 1 0 4] \n",
      "\n",
      "GarageArea [ 548  460  608  642  836  480  636  484  468  205  384  736  352  840\n",
      "  576  516  294  853  280  534  572  270  890  772  319  240  250  271\n",
      "  447  556  691  672  498  246    0  440  308  504  300  670  826  386\n",
      "  388  528  894  565  641  288  645  852  558  220  667  360  427  490\n",
      "  379  297  283  509  405  758  461  400  462  420  432  506  684  472\n",
      "  366  476  410  740  648  273  546  325  792  450  180  430  594  390\n",
      "  540  264  530  435  453  750  487  624  471  318  766  660  470  720\n",
      "  577  380  434  866  495  564  312  625  680  678  726  532  216  303\n",
      "  789  511  616  521  451 1166  252  497  682  666  786  795  856  473\n",
      "  398  500  349  454  644  299  210  431  438  675  968  721  336  810\n",
      "  494  457  818  463  604  389  538  520  309  429  673  884  868  492\n",
      "  413  924 1053  439  671  338  573  732  505  575  626  898  529  685\n",
      "  281  539  418  588  282  375  683  843  552  870  888  746  708  513\n",
      " 1025  656  872  292  441  189  880  676  301  474  706  617  445  200\n",
      "  592  566  514  296  244  610  834  639  501  846  560  596  600  373\n",
      "  947  350  396  864  304  784  696  569  628  550  493  578  198  422\n",
      "  228  526  525  908  499  508  694  874  164  402  515  286  603  900\n",
      "  583  889  858  502  392  403  527  765  367  426  615  871  570  406\n",
      "  590  612  650 1390  275  452  842  816  621  544  486  230  261  531\n",
      "  393  774  749  364  627  260  256  478  442  562  512  839  330  711\n",
      " 1134  416  779  702  567  832  326  551  606  739  408  475  704  983\n",
      "  768  632  541  320  800  831  554  878  752  614  481  496  423  841\n",
      "  895  412  865  630  605  602  618  444  397  455  409  820 1020  598\n",
      "  857  595  433  776 1220  458  613  456  436  812  686  611  425  343\n",
      "  479  619  902  574  523  414  738  354  483  327  756  690  284  833\n",
      "  601  533  522  788  555  689  796  808  510  255  424  305  368  824\n",
      "  328  160  437  665  290  912  905  542  716  586  467  582 1248 1043\n",
      "  254  712  719  862  928  782  466  714 1052  225  234  324  306  830\n",
      "  807  358  186  693  482  813  995  757 1356  459  701  322  315  668\n",
      "  404  543  954  850  477  276  518 1014  753 1418  213  844  860  748\n",
      "  248  287  825  647  342  770  663  377  804  936  722  208  662  754\n",
      "  622  620  370 1069  372  923  192] \n",
      "\n",
      "GarageQual ['TA' 'Fa' 'Gd' nan 'Ex' 'Po'] \n",
      "\n",
      "GarageCond ['TA' 'Fa' nan 'Gd' 'Po' 'Ex'] \n",
      "\n",
      "PavedDrive ['Y' 'N' 'P'] \n",
      "\n",
      "WoodDeckSF [  0 298 192  40 255 235  90 147 140 160  48 240 171 100 406 222 288  49\n",
      " 203 113 392 145 196 168 112 106 857 115 120  12 576 301 144 300  74 127\n",
      " 232 158 352 182 180 166 224  80 367  53 188 105  24  98 276 200 409 239\n",
      " 400 476 178 574 237 210 441 116 280 104  87 132 238 149 355  60 139 108\n",
      " 351 209 216 248 143 365 370  58 197 263 123 138 333 250 292  95 262  81\n",
      " 289 124 172 110 208 468 256 302 190 340 233 184 201 142 122 155 670 135\n",
      " 495 536 306  64 364 353  66 159 146 296 125  44 215 264  88  89  96 414\n",
      " 519 206 141 260 324 156 220  38 261 126  85 466 270  78 169 320 268  72\n",
      " 349  42  35 326 382 161 179 103 253 148 335 176 390 328 312 185 269 195\n",
      "  57 236 517 304 198 426  28 316 322 307 257 219 416 344 380  68 114 327\n",
      " 165 187 181  92 228 245 503 315 241 303 133 403  36  52 265 207 150 290\n",
      " 486 278  70 418 234  26 342  97 272 121 243 511 154 164 173 384 202  56\n",
      " 321  86 194 421 305 117 550 509 153 394 371  63 252 136 186 170 474 214\n",
      " 199 728 436  55 431 448 361 362 162 229 439 379 356  84 635 325  33 212\n",
      " 314 242 294  30 128  45 177 227 218 309 404 500 668 402 283 183 175 586\n",
      " 295  32 366 736] \n",
      "\n",
      "OpenPorchSF [ 61   0  42  35  84  30  57 204   4  21  33 213 112 102 154 159 110  90\n",
      "  56  32  50 258  54  65  38  47  64  52 138 104  82  43 146  75  72  70\n",
      "  49  11  36 151  29  94 101 199  99 234 162  63  68  46  45 122 184 120\n",
      "  20  24 130 205 108  80  66  48  25  96 111 106  40 114   8 136 132  62\n",
      " 228  60 238 260  27  74  16 198  26  83  34  55  22  98 172 119 208 105\n",
      " 140 168  28  39 148  12  51 150 117 250  10  81  44 144 175 195 128  76\n",
      "  17  59 214 121  53 231 134 192 123  78 187  85 133 176 113 137 125 523\n",
      " 100 285  88 406 155  73 182 502 274 158 142 243 235 312 124 267 265  87\n",
      " 288  23 152 341 116 160 174 247 291  18 170 156 166 129 418 240  77 364\n",
      " 188 207  67  69 131 191  41 118 252 189 282 135  95 224 169 319  58  93\n",
      " 244 185 200  92 180 263 304 229 103 211 287 292 241 547  91  86 262 210\n",
      " 141  15 126 236] \n",
      "\n",
      "EnclosedPorch [  0 272 228 205 176  87 172 102  37 144  64 114 202 128 156  44  77 192\n",
      " 140 180 183  39 184  40 552  30 126  96  60 150 120 112 252  52 224 234\n",
      " 244 268 137  24 108 294 177 218 242  91 160 130 169 105  34 248 236  32\n",
      "  80 115 291 116 158 210  36 200  84 148 136 240  54 100 189 293 164 216\n",
      " 239  67  90  56 129  98 143  70 386 154 185 134 196 264 275 230 254  68\n",
      " 194 318  48  94 138 226 174  19 170 220 214 280 190 330 208 145 259  81\n",
      "  42 123 162 286 168  20 301 198 221 212  50  99] \n",
      "\n",
      "3SsnPorch [  0 320 407 130 180 168 140 508 238 245 196 144 182 162  23 216  96 153\n",
      " 290 304] \n",
      "\n",
      "ScreenPorch [  0 176 198 291 252  99 184 168 130 142 192 410 224 266 170 154 153 144\n",
      " 128 259 160 271 234 374 185 182  90 396 140 276 180 161 145 200 122  95\n",
      " 120  60 126 189 260 147 385 287 156 100 216 210 197 204 225 152 175 312\n",
      " 222 265 322 190 233  63  53 143 273 288 263  80 163 116 480 178 440 155\n",
      " 220 119 165  40] \n",
      "\n",
      "PoolArea [  0 512 648 576 555 480 519 738] \n",
      "\n",
      "PoolQC [nan 'Ex' 'Fa' 'Gd'] \n",
      "\n",
      "Fence [nan 'MnPrv' 'GdWo' 'GdPrv' 'MnWw'] \n",
      "\n",
      "MiscFeature [nan 'Shed' 'Gar2' 'Othr' 'TenC'] \n",
      "\n",
      "MiscVal [    0   700   350   500   400   480   450 15500  1200   800  2000   600\n",
      "  3500  1300    54   620   560  1400  8300  1150  2500] \n",
      "\n",
      "MoSold [ 2  5  9 12 10  8 11  4  1  7  3  6] \n",
      "\n",
      "YrSold [2008 2007 2006 2009 2010] \n",
      "\n",
      "SaleType ['WD' 'New' 'COD' 'ConLD' 'ConLI' 'CWD' 'ConLw' 'Con' 'Oth'] \n",
      "\n",
      "SaleCondition ['Normal' 'Abnorml' 'Partial' 'AdjLand' 'Alloca' 'Family'] \n",
      "\n",
      "SalePrice [208500 181500 223500 140000 250000 143000 307000 200000 129900 118000\n",
      " 129500 345000 144000 279500 157000 132000 149000  90000 159000 139000\n",
      " 325300 139400 230000 154000 256300 134800 306000 207500  68500  40000\n",
      " 149350 179900 165500 277500 309000 145000 153000 109000  82000 160000\n",
      " 170000 130250 141000 319900 239686 249700 113000 127000 177000 114500\n",
      " 110000 385000 130000 180500 172500 196500 438780 124900 158000 101000\n",
      " 202500 219500 317000 180000 226000  80000 225000 244000 185000 144900\n",
      " 107400  91000 135750 136500 193500 153500 245000 126500 168500 260000\n",
      " 174000 164500  85000 123600 109900  98600 163500 133900 204750 214000\n",
      "  94750  83000 128950 205000 178000 118964 198900 169500 100000 115000\n",
      " 190000 136900 383970 217000 259500 176000 155000 320000 163990 136000\n",
      " 153900 181000  84500 128000  87000 150000 150750 220000 171000 231500\n",
      " 166000 204000 125000 105000 222500 122000 372402 235000  79000 109500\n",
      " 269500 254900 162500 412500 103200 152000 127500 325624 183500 228000\n",
      " 128500 215000 239000 163000 184000 243000 211000 501837 200100 120000\n",
      " 475000 173000 135000 153337 286000 315000 192000 148500 311872 104000\n",
      " 274900 171500 112000 143900 277000  98000 186000 252678 156000 161750\n",
      " 134450 210000 107000 311500 167240 204900  97000 386250 290000 106000\n",
      " 192500 148000 403000  94500 128200 216500  89500 185500 194500 318000\n",
      " 262500 110500 241500 137000  76500 276000 151000  73000 175500 179500\n",
      " 120500 266000 124500 201000 415298 228500 244600 179200 164700  88000\n",
      " 153575 233230 135900 131000 167000 142500 175000 158500 267000 149900\n",
      " 295000 305900  82500 360000 165600 119900 375000 188500 270000 187500\n",
      " 342643 354000 301000 126175 242000 324000 145250 214500  78000 119000\n",
      " 284000 207000 228950 377426 202900  87500 140200 151500 157500 437154\n",
      " 318061  95000 105900 177500 134000 280000 198500 147000 165000 162000\n",
      " 172400 134432 123000  61000 340000 394432 179000 187750 213500  76000\n",
      " 240000  81000 191000 426000 106500 129000  67000 241000 245500 164990\n",
      " 108000 258000 168000 339750  60000 222000 181134 149500 126000 142000\n",
      " 206300 275000 109008 195400  85400  79900 122500 212000 116000  90350\n",
      " 555000 162900 199900 119500 188000 256000 161000 263435  62383 188700\n",
      " 124000 178740 146500 187000 440000 251000 132500 208900 380000 297000\n",
      "  89471 326000 374000 164000  86000 133000 172785  91300  34900 430000\n",
      " 226700 289000 208300 164900 202665  96500 402861 265000 234000 106250\n",
      " 184750 315750 446261 200624 107500  39300 111250 272000 248000 213250\n",
      " 179665 229000 263000 112500 255500 121500 268000 325000 316600 135960\n",
      " 142600 224500 118500 146000 131500 181900 253293 369900  79500 185900\n",
      " 451950 138000 319000 114504 194201 217500 221000 359100 313000 261500\n",
      "  75500 137500 183200 105500 314813 305000 165150 139900 209500  93000\n",
      " 264561 274000 370878 143250  98300 205950 350000 145500  97500 197900\n",
      " 402000 423000 230500 173500 103600 257500 372500 159434 285000 227875\n",
      " 148800 392000 194700 755000 335000 108480 141500  89000 123500 138500\n",
      " 196000 312500 361919 213000  55000 302000 254000 179540  52000 102776\n",
      " 189000 130500 159500 341000 103000 236500 131400  93500 239900 299800\n",
      " 236000 265979 260400 275500 158900 179400 215200 337000 264132 216837\n",
      " 538000 134900 102000 395000 221500 175900 187100 161500 233000 107900\n",
      " 160200 146800 269790 143500 485000 582933 227680 135500 159950 144500\n",
      "  55993 157900 224900 271000 224000 183000 139500 232600 147400 237000\n",
      " 139950 174900 133500 189950 250580 248900 169000 200500  66500 303477\n",
      " 132250 328900 122900 154500 118858 142953 611657 125500 255000 154300\n",
      " 173733  75000  35311 238000 176500 145900 169990 193000 117500 184900\n",
      " 253000 239799 244400 150900 197500 172000 116500 214900 178900  37900\n",
      "  99500 182000 167500  85500 178400 336000 159895 255900 117000 395192\n",
      " 195000 197000 348000 173900 337500 121600 206000 232000 136905 119200\n",
      " 227000 203000 213490 194000 287000 293077 310000 119750  84000 315500\n",
      " 262280 278000 139600 556581  84900 176485 200141 185850 328000 167900\n",
      " 151400  91500 138800 155900  83500 252000  92900 176432 274725 134500\n",
      " 184100 133700 118400 212900 163900 259000 239500  94000 424870 174500\n",
      " 116900 201800 218000 235128 108959 233170 245350 625000 171900 154900\n",
      " 392500 745000 186700 104900 262000 219210 116050 271900 229456  80500\n",
      " 137900 367294 101800 138887 265900 248328 465000 186500 169900 171750\n",
      " 294000 165400 301500  99900 128900 183900 378500 381000 185750  68400\n",
      " 150500 281000 333168 206900 295493 111000 156500  72500  52500 155835\n",
      " 108500 283463 410000 156932 144152 216000 274300 466500  58500 237500\n",
      " 377500 246578 281213 137450 193879 282922 257000 223000 274970 182900\n",
      " 192140 143750  64500 394617 149700 149300 121000 179600  92000 287090\n",
      " 266500 142125 147500] \n",
      "\n"
     ]
    }
   ],
   "source": [
    "# Looking through unique values of each column\n",
    "# A little harder to see here but I have used Excel for faster viewing\n",
    "\n",
    "for col in house.columns:\n",
    "    print(col, house[col].unique(),'\\n')"
   ]
  },
  {
   "cell_type": "code",
   "execution_count": 11,
   "metadata": {},
   "outputs": [],
   "source": [
    "# Check for missing values\n",
    "\n",
    "num_count = []\n",
    "\n",
    "# List created to show the Null values of each column\n",
    "\n",
    "for col in house.columns:\n",
    "    if house[col].isnull().sum() != 0:\n",
    "        num_count.append([col, house[col].isnull().sum()])\n"
   ]
  },
  {
   "cell_type": "code",
   "execution_count": 12,
   "metadata": {},
   "outputs": [
    {
     "name": "stdout",
     "output_type": "stream",
     "text": [
      "         Columns  Nulls\n",
      "16        PoolQC   1453\n",
      "18   MiscFeature   1406\n",
      "1          Alley   1369\n",
      "17         Fence   1179\n",
      "10   FireplaceQu    690\n",
      "0    LotFrontage    259\n",
      "11    GarageType     81\n",
      "12   GarageYrBlt     81\n",
      "13  GarageFinish     81\n",
      "14    GarageQual     81\n",
      "15    GarageCond     81\n",
      "6   BsmtExposure     38\n",
      "8   BsmtFinType2     38\n",
      "7   BsmtFinType1     37\n",
      "5       BsmtCond     37\n",
      "4       BsmtQual     37\n",
      "3     MasVnrArea      8\n",
      "2     MasVnrType      8\n",
      "9     Electrical      1\n"
     ]
    },
    {
     "data": {
      "text/plain": [
       "Text(0.5, 1.0, 'NA Value Counts')"
      ]
     },
     "execution_count": 12,
     "metadata": {},
     "output_type": "execute_result"
    },
    {
     "data": {
      "image/png": "[encoded data removed]",
      "text/plain": [
       "<Figure size 720x1080 with 1 Axes>"
      ]
     },
     "metadata": {
      "image/png": {
       "height": 876,
       "width": 659
      },
      "needs_background": "light"
     },
     "output_type": "display_data"
    }
   ],
   "source": [
    "num = pd.DataFrame(num_count, columns=['Columns', 'Nulls'])\n",
    "null = num.sort_values('Nulls',ascending=False)\n",
    "\n",
    "print(null)\n",
    "\n",
    "fig, ax = plt.subplots(figsize=(10,15))\n",
    "ax = sns.barplot(x=\"Nulls\", y=\"Columns\", data=null)\n",
    "ax.set_title('NA Value Counts',size=15,color='Green')"
   ]
  },
  {
   "cell_type": "code",
   "execution_count": 13,
   "metadata": {},
   "outputs": [],
   "source": [
    "# After understanding each column from the description text file, most of the columns with NA values do have a meaning (except LotFrontage).\n",
    "# E.g. Columns: GarageType, GarageYrBlt, GarageFinish, GarageQual, GarageCond are NaN due to the lack of Garage.\n",
    "# Renaming the null columns to better reflect what they stand for\n",
    "\n",
    "house['PoolQC'].fillna('No_Pool', inplace=True)\n",
    "house['MiscFeature'].fillna('No_Features', inplace=True)\n",
    "house['Alley'].fillna('No_Alley', inplace=True)\n",
    "house['Fence'].fillna('No_Fence', inplace=True)\n",
    "house['FireplaceQu'].fillna('No_Fireplace', inplace=True)\n",
    "house['GarageType'].fillna('No_Garage', inplace=True)\n",
    "house['GarageYrBlt'].fillna('No_Garage', inplace=True)\n",
    "house['GarageFinish'].fillna('No_Garage', inplace=True)\n",
    "house['GarageQual'].fillna('No_Garage', inplace=True)\n",
    "house['GarageCond'].fillna('No_Garage', inplace=True)\n",
    "house['BsmtFinType2'].fillna('No_Bsmt', inplace=True)\n",
    "house['BsmtFinType1'].fillna('No_Bsmt', inplace=True)\n",
    "house['BsmtCond'].fillna('No_Bsmt', inplace=True)\n",
    "house['BsmtQual'].fillna('No_Bsmt', inplace=True)\n",
    "house['MasVnrArea'].fillna('No_Mas', inplace=True)\n",
    "house['MasVnrType'].fillna('No_Mas', inplace=True)"
   ]
  },
  {
   "cell_type": "code",
   "execution_count": 14,
   "metadata": {},
   "outputs": [
    {
     "data": {
      "text/html": [
       "<div>\n",
       "<style scoped>\n",
       "    .dataframe tbody tr th:only-of-type {\n",
       "        vertical-align: middle;\n",
       "    }\n",
       "\n",
       "    .dataframe tbody tr th {\n",
       "        vertical-align: top;\n",
       "    }\n",
       "\n",
       "    .dataframe thead th {\n",
       "        text-align: right;\n",
       "    }\n",
       "</style>\n",
       "<table border=\"1\" class=\"dataframe\">\n",
       "  <thead>\n",
       "    <tr style=\"text-align: right;\">\n",
       "      <th></th>\n",
       "      <th>MSSubClass</th>\n",
       "      <th>MSZoning</th>\n",
       "      <th>LotFrontage</th>\n",
       "      <th>LotArea</th>\n",
       "      <th>Street</th>\n",
       "      <th>Alley</th>\n",
       "      <th>LotShape</th>\n",
       "      <th>LandContour</th>\n",
       "      <th>Utilities</th>\n",
       "      <th>LotConfig</th>\n",
       "      <th>...</th>\n",
       "      <th>PoolArea</th>\n",
       "      <th>PoolQC</th>\n",
       "      <th>Fence</th>\n",
       "      <th>MiscFeature</th>\n",
       "      <th>MiscVal</th>\n",
       "      <th>MoSold</th>\n",
       "      <th>YrSold</th>\n",
       "      <th>SaleType</th>\n",
       "      <th>SaleCondition</th>\n",
       "      <th>SalePrice</th>\n",
       "    </tr>\n",
       "  </thead>\n",
       "  <tbody>\n",
       "    <tr>\n",
       "      <th>840</th>\n",
       "      <td>70</td>\n",
       "      <td>RH</td>\n",
       "      <td>NaN</td>\n",
       "      <td>12155</td>\n",
       "      <td>Pave</td>\n",
       "      <td>No_Alley</td>\n",
       "      <td>IR1</td>\n",
       "      <td>Lvl</td>\n",
       "      <td>AllPub</td>\n",
       "      <td>Inside</td>\n",
       "      <td>...</td>\n",
       "      <td>0</td>\n",
       "      <td>No_Pool</td>\n",
       "      <td>No_Fence</td>\n",
       "      <td>No_Features</td>\n",
       "      <td>0</td>\n",
       "      <td>3</td>\n",
       "      <td>2008</td>\n",
       "      <td>WD</td>\n",
       "      <td>Normal</td>\n",
       "      <td>140000</td>\n",
       "    </tr>\n",
       "    <tr>\n",
       "      <th>361</th>\n",
       "      <td>50</td>\n",
       "      <td>RL</td>\n",
       "      <td>NaN</td>\n",
       "      <td>9144</td>\n",
       "      <td>Pave</td>\n",
       "      <td>Pave</td>\n",
       "      <td>Reg</td>\n",
       "      <td>Lvl</td>\n",
       "      <td>AllPub</td>\n",
       "      <td>Inside</td>\n",
       "      <td>...</td>\n",
       "      <td>0</td>\n",
       "      <td>No_Pool</td>\n",
       "      <td>No_Fence</td>\n",
       "      <td>No_Features</td>\n",
       "      <td>0</td>\n",
       "      <td>7</td>\n",
       "      <td>2008</td>\n",
       "      <td>WD</td>\n",
       "      <td>Normal</td>\n",
       "      <td>145000</td>\n",
       "    </tr>\n",
       "    <tr>\n",
       "      <th>384</th>\n",
       "      <td>60</td>\n",
       "      <td>RL</td>\n",
       "      <td>NaN</td>\n",
       "      <td>53107</td>\n",
       "      <td>Pave</td>\n",
       "      <td>No_Alley</td>\n",
       "      <td>IR2</td>\n",
       "      <td>Low</td>\n",
       "      <td>AllPub</td>\n",
       "      <td>Corner</td>\n",
       "      <td>...</td>\n",
       "      <td>0</td>\n",
       "      <td>No_Pool</td>\n",
       "      <td>No_Fence</td>\n",
       "      <td>No_Features</td>\n",
       "      <td>0</td>\n",
       "      <td>6</td>\n",
       "      <td>2007</td>\n",
       "      <td>WD</td>\n",
       "      <td>Normal</td>\n",
       "      <td>240000</td>\n",
       "    </tr>\n",
       "    <tr>\n",
       "      <th>1138</th>\n",
       "      <td>20</td>\n",
       "      <td>RL</td>\n",
       "      <td>NaN</td>\n",
       "      <td>9819</td>\n",
       "      <td>Pave</td>\n",
       "      <td>No_Alley</td>\n",
       "      <td>IR1</td>\n",
       "      <td>Lvl</td>\n",
       "      <td>AllPub</td>\n",
       "      <td>Inside</td>\n",
       "      <td>...</td>\n",
       "      <td>0</td>\n",
       "      <td>No_Pool</td>\n",
       "      <td>No_Fence</td>\n",
       "      <td>No_Features</td>\n",
       "      <td>0</td>\n",
       "      <td>5</td>\n",
       "      <td>2009</td>\n",
       "      <td>WD</td>\n",
       "      <td>Normal</td>\n",
       "      <td>196000</td>\n",
       "    </tr>\n",
       "    <tr>\n",
       "      <th>1251</th>\n",
       "      <td>120</td>\n",
       "      <td>RL</td>\n",
       "      <td>NaN</td>\n",
       "      <td>3136</td>\n",
       "      <td>Pave</td>\n",
       "      <td>No_Alley</td>\n",
       "      <td>IR1</td>\n",
       "      <td>Lvl</td>\n",
       "      <td>AllPub</td>\n",
       "      <td>Corner</td>\n",
       "      <td>...</td>\n",
       "      <td>0</td>\n",
       "      <td>No_Pool</td>\n",
       "      <td>No_Fence</td>\n",
       "      <td>No_Features</td>\n",
       "      <td>0</td>\n",
       "      <td>3</td>\n",
       "      <td>2006</td>\n",
       "      <td>WD</td>\n",
       "      <td>Normal</td>\n",
       "      <td>171750</td>\n",
       "    </tr>\n",
       "  </tbody>\n",
       "</table>\n",
       "<p>5 rows × 80 columns</p>\n",
       "</div>"
      ],
      "text/plain": [
       "      MSSubClass MSZoning  LotFrontage  LotArea Street     Alley LotShape  \\\n",
       "840           70       RH          NaN    12155   Pave  No_Alley      IR1   \n",
       "361           50       RL          NaN     9144   Pave      Pave      Reg   \n",
       "384           60       RL          NaN    53107   Pave  No_Alley      IR2   \n",
       "1138          20       RL          NaN     9819   Pave  No_Alley      IR1   \n",
       "1251         120       RL          NaN     3136   Pave  No_Alley      IR1   \n",
       "\n",
       "     LandContour Utilities LotConfig    ...     PoolArea   PoolQC     Fence  \\\n",
       "840          Lvl    AllPub    Inside    ...            0  No_Pool  No_Fence   \n",
       "361          Lvl    AllPub    Inside    ...            0  No_Pool  No_Fence   \n",
       "384          Low    AllPub    Corner    ...            0  No_Pool  No_Fence   \n",
       "1138         Lvl    AllPub    Inside    ...            0  No_Pool  No_Fence   \n",
       "1251         Lvl    AllPub    Corner    ...            0  No_Pool  No_Fence   \n",
       "\n",
       "      MiscFeature MiscVal MoSold  YrSold  SaleType  SaleCondition  SalePrice  \n",
       "840   No_Features       0      3    2008        WD         Normal     140000  \n",
       "361   No_Features       0      7    2008        WD         Normal     145000  \n",
       "384   No_Features       0      6    2007        WD         Normal     240000  \n",
       "1138  No_Features       0      5    2009        WD         Normal     196000  \n",
       "1251  No_Features       0      3    2006        WD         Normal     171750  \n",
       "\n",
       "[5 rows x 80 columns]"
      ]
     },
     "execution_count": 14,
     "metadata": {},
     "output_type": "execute_result"
    }
   ],
   "source": [
    "# LotFrontage column is a continuous variable which does not have an NA value.\n",
    "# Looking at rows of NA LotFrontage\n",
    "\n",
    "house[house['LotFrontage'].isnull()].sample(5)"
   ]
  },
  {
   "cell_type": "code",
   "execution_count": 15,
   "metadata": {},
   "outputs": [
    {
     "data": {
      "text/plain": [
       "LotFrontage    1.000000\n",
       "1stFlrSF       0.457181\n",
       "LotArea        0.426095\n",
       "GrLivArea      0.402797\n",
       "TotalBsmtSF    0.392075\n",
       "Name: LotFrontage, dtype: float64"
      ]
     },
     "execution_count": 15,
     "metadata": {},
     "output_type": "execute_result"
    }
   ],
   "source": [
    "# Check if LotFrontage is correlated to any other variables for prediction \n",
    "\n",
    "house[house.columns[:]].corr()['LotFrontage'].sort_values(ascending=False)[:5]\n",
    "\n",
    "# The top five highest correlated variables to LotFrontage do not have a high enough correlation for us to predict missing values"
   ]
  },
  {
   "cell_type": "code",
   "execution_count": 16,
   "metadata": {},
   "outputs": [],
   "source": [
    "# Alternative is to change all null LotFrontage values to the median LotFrontage variable\n",
    "\n",
    "house.LotFrontage = house.LotFrontage.fillna(house.LotFrontage.median())"
   ]
  },
  {
   "cell_type": "code",
   "execution_count": 17,
   "metadata": {},
   "outputs": [
    {
     "data": {
      "text/plain": [
       "0"
      ]
     },
     "execution_count": 17,
     "metadata": {},
     "output_type": "execute_result"
    }
   ],
   "source": [
    "house.LotFrontage.isnull().sum() # Checking if null values still exist"
   ]
  },
  {
   "cell_type": "code",
   "execution_count": 18,
   "metadata": {},
   "outputs": [
    {
     "name": "stderr",
     "output_type": "stream",
     "text": [
      "/Users/ivanong/anaconda3/lib/python3.7/site-packages/scipy/stats/stats.py:1713: FutureWarning: Using a non-tuple sequence for multidimensional indexing is deprecated; use `arr[tuple(seq)]` instead of `arr[seq]`. In the future this will be interpreted as an array index, `arr[np.array(seq)]`, which will result either in an error or a different result.\n",
      "  return np.add.reduce(sorted[indexer] * weights, axis=axis) / sumval\n"
     ]
    },
    {
     "data": {
      "text/plain": [
       "<matplotlib.axes._subplots.AxesSubplot at 0x1c2410bc50>"
      ]
     },
     "execution_count": 18,
     "metadata": {},
     "output_type": "execute_result"
    },
    {
     "data": {
      "image/png": "[encoded data removed]",
      "text/plain": [
       "<Figure size 432x288 with 1 Axes>"
      ]
     },
     "metadata": {
      "image/png": {
       "height": 252,
       "width": 377
      },
      "needs_background": "light"
     },
     "output_type": "display_data"
    }
   ],
   "source": [
    "# Plotting all non-null values of LotFrontage to look at the distribution\n",
    "lot_dist = []\n",
    "for i in house['LotFrontage']:\n",
    "    if i>=1:\n",
    "        lot_dist.append(i)\n",
    "        \n",
    "sns.distplot(lot_dist)"
   ]
  },
  {
   "cell_type": "code",
   "execution_count": 19,
   "metadata": {},
   "outputs": [],
   "source": [
    "# From the above distribution, it seems normal enough so the decision is to replace all null values with the median"
   ]
  },
  {
   "cell_type": "code",
   "execution_count": 20,
   "metadata": {},
   "outputs": [
    {
     "data": {
      "text/plain": [
       "<matplotlib.axes._subplots.AxesSubplot at 0x1c23a3d6a0>"
      ]
     },
     "execution_count": 20,
     "metadata": {},
     "output_type": "execute_result"
    },
    {
     "data": {
      "image/png": "[encoded data removed]",
      "text/plain": [
       "<Figure size 576x360 with 1 Axes>"
      ]
     },
     "metadata": {
      "image/png": {
       "height": 317,
       "width": 511
      },
      "needs_background": "light"
     },
     "output_type": "display_data"
    }
   ],
   "source": [
    "# Looking at the SalePrice distribution\n",
    "fig, ax = plt.subplots(figsize=(8,5))\n",
    "sns.distplot(house['SalePrice'])\n",
    "\n",
    "# Comments on the distribution below:\n",
    "# SalePrice has a right skewed distribution"
   ]
  },
  {
   "cell_type": "code",
   "execution_count": 21,
   "metadata": {},
   "outputs": [
    {
     "data": {
      "text/plain": [
       "<matplotlib.axes._subplots.AxesSubplot at 0x1c23b7b860>"
      ]
     },
     "execution_count": 21,
     "metadata": {},
     "output_type": "execute_result"
    },
    {
     "data": {
      "image/png": "[encoded data removed]",
      "text/plain": [
       "<Figure size 576x360 with 1 Axes>"
      ]
     },
     "metadata": {
      "image/png": {
       "height": 317,
       "width": 483
      },
      "needs_background": "light"
     },
     "output_type": "display_data"
    }
   ],
   "source": [
    "# Log normalizing SalePrice\n",
    "\n",
    "house['SalePrice_log'] = np.log1p(house[[\"SalePrice\"]])\n",
    "fig, ax = plt.subplots(figsize=(8,5))\n",
    "sns.distplot(house['SalePrice_log'])"
   ]
  },
  {
   "cell_type": "code",
   "execution_count": 22,
   "metadata": {},
   "outputs": [],
   "source": [
    "# Filtering MSZoning for residential housing only\n",
    "\n",
    "house = house.loc[(house['MSZoning'] != 'A') & (house['MSZoning'] != 'C') & (house['MSZoning'] != 'I') & (house['MSZoning'] != 'C (all)')]"
   ]
  },
  {
   "cell_type": "code",
   "execution_count": 23,
   "metadata": {},
   "outputs": [
    {
     "data": {
      "text/plain": [
       "RL    1151\n",
       "RM     218\n",
       "FV      65\n",
       "RH      16\n",
       "Name: MSZoning, dtype: int64"
      ]
     },
     "execution_count": 23,
     "metadata": {},
     "output_type": "execute_result"
    }
   ],
   "source": [
    "house['MSZoning'].value_counts()"
   ]
  },
  {
   "cell_type": "code",
   "execution_count": 24,
   "metadata": {},
   "outputs": [
    {
     "data": {
      "text/plain": [
       "SalePrice        1.000000\n",
       "OverallQual      0.789031\n",
       "GrLivArea        0.708658\n",
       "GarageCars       0.642135\n",
       "GarageArea       0.629831\n",
       "TotalBsmtSF      0.612088\n",
       "1stFlrSF         0.603300\n",
       "FullBath         0.556674\n",
       "TotRmsAbvGrd     0.533355\n",
       "YearBuilt        0.517602\n",
       "YearRemodAdd     0.501186\n",
       "Fireplaces       0.463264\n",
       "BsmtFinSF1       0.384475\n",
       "LotFrontage      0.337514\n",
       "OpenPorchSF      0.329491\n",
       "WoodDeckSF       0.320770\n",
       "2ndFlrSF         0.319774\n",
       "HalfBath         0.280882\n",
       "LotArea          0.264715\n",
       "BsmtFullBath     0.224054\n",
       "BsmtUnfSF        0.216152\n",
       "BedroomAbvGr     0.162008\n",
       "ScreenPorch      0.110540\n",
       "PoolArea         0.092396\n",
       "MoSold           0.051987\n",
       "3SsnPorch        0.043807\n",
       "BsmtFinSF2      -0.014145\n",
       "BsmtHalfBath    -0.017561\n",
       "LowQualFinSF    -0.018755\n",
       "MiscVal         -0.021052\n",
       "YrSold          -0.025391\n",
       "OverallCond     -0.089084\n",
       "EnclosedPorch   -0.120765\n",
       "KitchenAbvGr    -0.137825\n",
       "Name: SalePrice, dtype: float64"
      ]
     },
     "execution_count": 24,
     "metadata": {},
     "output_type": "execute_result"
    }
   ],
   "source": [
    "house[house.columns[1:]].corr()['SalePrice'][:-1].sort_values(ascending=False)\n",
    "\n",
    "# From the results below:\n",
    "\n",
    "# OverallQual, GrLivArea, GarageCars, GarageArea andn Total BsmtSF \n",
    "# seems to have strong positive correlation with SalePrice\n",
    "\n",
    "# Fixed features that can predict prices are GrLivArea, GarageCars, GarageArea, TotalBsmtSF and 1stFlrSF.\n",
    "# Note: GarageCars and GarageArea are variables that are correlated."
   ]
  },
  {
   "cell_type": "code",
   "execution_count": 25,
   "metadata": {},
   "outputs": [
    {
     "data": {
      "text/html": [
       "<div>\n",
       "<style scoped>\n",
       "    .dataframe tbody tr th:only-of-type {\n",
       "        vertical-align: middle;\n",
       "    }\n",
       "\n",
       "    .dataframe tbody tr th {\n",
       "        vertical-align: top;\n",
       "    }\n",
       "\n",
       "    .dataframe thead th {\n",
       "        text-align: right;\n",
       "    }\n",
       "</style>\n",
       "<table border=\"1\" class=\"dataframe\">\n",
       "  <thead>\n",
       "    <tr style=\"text-align: right;\">\n",
       "      <th></th>\n",
       "      <th>GarageCars</th>\n",
       "      <th>GarageArea</th>\n",
       "    </tr>\n",
       "  </thead>\n",
       "  <tbody>\n",
       "    <tr>\n",
       "      <th>GarageCars</th>\n",
       "      <td>1.000000</td>\n",
       "      <td>0.883009</td>\n",
       "    </tr>\n",
       "    <tr>\n",
       "      <th>GarageArea</th>\n",
       "      <td>0.883009</td>\n",
       "      <td>1.000000</td>\n",
       "    </tr>\n",
       "  </tbody>\n",
       "</table>\n",
       "</div>"
      ],
      "text/plain": [
       "            GarageCars  GarageArea\n",
       "GarageCars    1.000000    0.883009\n",
       "GarageArea    0.883009    1.000000"
      ]
     },
     "execution_count": 25,
     "metadata": {},
     "output_type": "execute_result"
    }
   ],
   "source": [
    "house[['GarageCars','GarageArea']].corr()"
   ]
  },
  {
   "cell_type": "code",
   "execution_count": 26,
   "metadata": {},
   "outputs": [
    {
     "data": {
      "image/png": "[encoded data removed]",
      "text/plain": [
       "<Figure size 1008x576 with 2 Axes>"
      ]
     },
     "metadata": {
      "image/png": {
       "height": 546,
       "width": 810
      },
      "needs_background": "light"
     },
     "output_type": "display_data"
    }
   ],
   "source": [
    "corr = house.corr()\n",
    "plt.figure(figsize=(14,8))\n",
    "mask = np.zeros_like(house.corr(), dtype=np.bool)\n",
    "mask[np.triu_indices_from(mask)] = True\n",
    "plt.title('Overall Correlation of House Prices', fontsize=18)\n",
    "sns.heatmap(corr,annot=False, mask=mask, cmap='RdYlBu',linewidths=0.2,annot_kws={'size':20})\n",
    "plt.show()"
   ]
  },
  {
   "cell_type": "markdown",
   "metadata": {},
   "source": [
    "### From the Heatmap above:\n",
    "- It can be seen that some variables are highly correlated to each other. One example being: GarageArea and GarageCars\n",
    "- However, I have decided to not drop any columns at this stage but rather allow the models to perform feature selection and examine the results"
   ]
  },
  {
   "cell_type": "code",
   "execution_count": 27,
   "metadata": {},
   "outputs": [],
   "source": [
    "# Creating a list to filter fixed features of dataframe\n",
    "\n",
    "fixed_features = ['MSSubClass','MSZoning','LotFrontage','LotArea','Street', 'Alley', 'LotShape', 'LandContour', 'LotConfig', 'LandSlope', 'Neighborhood' , 'Condition1', 'Condition2', 'BldgType', 'HouseStyle', 'YearBuilt', 'YearRemodAdd',  'BedroomAbvGr', 'KitchenAbvGr', 'Foundation', 'BsmtExposure', 'BsmtFinSF1', 'BsmtFinSF2', 'BsmtUnfSF', '1stFlrSF', '2ndFlrSF', 'LowQualFinSF', 'GrLivArea', 'TotalBsmtSF', 'BsmtFullBath', 'BsmtHalfBath', 'FullBath', 'HalfBath', 'Bedroom', 'Kitchen', 'TotRmsAbvGrd', 'Fireplaces', 'GarageType', 'GarageYrBlt', 'GarageCars', 'GarageArea', 'PavedDrive', 'WoodDeckSF', 'OpenPorchSF', 'EnclosedPorch', '3SsnPorch', 'ScreenPorch', 'PoolArea', 'MiscFeature', 'MoSold', 'YrSold', 'SalePrice', 'SalePrice_log']"
   ]
  },
  {
   "cell_type": "code",
   "execution_count": 28,
   "metadata": {},
   "outputs": [],
   "source": [
    "# Subsetting the house \n",
    "house_fixed = house[[c for c in house.columns if c in fixed_features]]"
   ]
  },
  {
   "cell_type": "code",
   "execution_count": 29,
   "metadata": {},
   "outputs": [
    {
     "data": {
      "text/plain": [
       "array([2008, 2007, 2006, 2009, 2010])"
      ]
     },
     "execution_count": 29,
     "metadata": {},
     "output_type": "execute_result"
    }
   ],
   "source": [
    "house_fixed['YrSold'].unique()"
   ]
  },
  {
   "cell_type": "markdown",
   "metadata": {},
   "source": [
    "### Performing Train, Test, Split"
   ]
  },
  {
   "cell_type": "code",
   "execution_count": 30,
   "metadata": {},
   "outputs": [
    {
     "name": "stdout",
     "output_type": "stream",
     "text": [
      "int64      31\n",
      "object     18\n",
      "float64     2\n",
      "dtype: int64\n"
     ]
    },
    {
     "data": {
      "text/plain": [
       "MSSubClass         int64\n",
       "LotFrontage      float64\n",
       "LotArea            int64\n",
       "YearBuilt          int64\n",
       "YearRemodAdd       int64\n",
       "BsmtFinSF1         int64\n",
       "BsmtFinSF2         int64\n",
       "BsmtUnfSF          int64\n",
       "TotalBsmtSF        int64\n",
       "1stFlrSF           int64\n",
       "2ndFlrSF           int64\n",
       "LowQualFinSF       int64\n",
       "GrLivArea          int64\n",
       "BsmtFullBath       int64\n",
       "BsmtHalfBath       int64\n",
       "FullBath           int64\n",
       "HalfBath           int64\n",
       "BedroomAbvGr       int64\n",
       "KitchenAbvGr       int64\n",
       "TotRmsAbvGrd       int64\n",
       "Fireplaces         int64\n",
       "GarageCars         int64\n",
       "GarageArea         int64\n",
       "WoodDeckSF         int64\n",
       "OpenPorchSF        int64\n",
       "EnclosedPorch      int64\n",
       "3SsnPorch          int64\n",
       "ScreenPorch        int64\n",
       "PoolArea           int64\n",
       "MoSold             int64\n",
       "YrSold             int64\n",
       "SalePrice          int64\n",
       "SalePrice_log    float64\n",
       "dtype: object"
      ]
     },
     "execution_count": 30,
     "metadata": {},
     "output_type": "execute_result"
    }
   ],
   "source": [
    "# Columns with numerical data types\n",
    "\n",
    "print(house_fixed.get_dtype_counts())\n",
    "house_fixed.dtypes[house.dtypes != \"object\"]"
   ]
  },
  {
   "cell_type": "code",
   "execution_count": 31,
   "metadata": {},
   "outputs": [
    {
     "data": {
      "text/plain": [
       "MSZoning        object\n",
       "Street          object\n",
       "Alley           object\n",
       "LotShape        object\n",
       "LandContour     object\n",
       "LotConfig       object\n",
       "LandSlope       object\n",
       "Neighborhood    object\n",
       "Condition1      object\n",
       "Condition2      object\n",
       "BldgType        object\n",
       "HouseStyle      object\n",
       "Foundation      object\n",
       "BsmtExposure    object\n",
       "GarageType      object\n",
       "GarageYrBlt     object\n",
       "PavedDrive      object\n",
       "MiscFeature     object\n",
       "dtype: object"
      ]
     },
     "execution_count": 31,
     "metadata": {},
     "output_type": "execute_result"
    }
   ],
   "source": [
    "# And columns with non-numeric types\n",
    "house_fixed.dtypes[house.dtypes == \"object\"]"
   ]
  },
  {
   "cell_type": "code",
   "execution_count": 32,
   "metadata": {},
   "outputs": [],
   "source": [
    "# Storing non-numerics in a list\n",
    "\n",
    "non_numerical = [x for x in house_fixed.columns \\\n",
    "                if not (house_fixed[x].dtype == np.float64 \\\n",
    "                        or house_fixed[x].dtype == np.int64)]"
   ]
  },
  {
   "cell_type": "code",
   "execution_count": 33,
   "metadata": {},
   "outputs": [
    {
     "name": "stdout",
     "output_type": "stream",
     "text": [
      "['MSZoning', 'Street', 'Alley', 'LotShape', 'LandContour', 'LotConfig', 'LandSlope', 'Neighborhood', 'Condition1', 'Condition2', 'BldgType', 'HouseStyle', 'Foundation', 'BsmtExposure', 'GarageType', 'GarageYrBlt', 'PavedDrive', 'MiscFeature']\n"
     ]
    }
   ],
   "source": [
    "print(non_numerical)"
   ]
  },
  {
   "cell_type": "code",
   "execution_count": 34,
   "metadata": {},
   "outputs": [],
   "source": [
    "numerical = [x for x in house_fixed.columns \\\n",
    "                if (house_fixed[x].dtype == np.float64 \\\n",
    "                        or house_fixed[x].dtype == np.int64)]"
   ]
  },
  {
   "cell_type": "code",
   "execution_count": 35,
   "metadata": {},
   "outputs": [
    {
     "name": "stdout",
     "output_type": "stream",
     "text": [
      "['MSSubClass', 'LotFrontage', 'LotArea', 'YearBuilt', 'YearRemodAdd', 'BsmtFinSF1', 'BsmtFinSF2', 'BsmtUnfSF', 'TotalBsmtSF', '1stFlrSF', '2ndFlrSF', 'LowQualFinSF', 'GrLivArea', 'BsmtFullBath', 'BsmtHalfBath', 'FullBath', 'HalfBath', 'BedroomAbvGr', 'KitchenAbvGr', 'TotRmsAbvGrd', 'Fireplaces', 'GarageCars', 'GarageArea', 'WoodDeckSF', 'OpenPorchSF', 'EnclosedPorch', '3SsnPorch', 'ScreenPorch', 'PoolArea', 'MoSold', 'YrSold', 'SalePrice', 'SalePrice_log']\n"
     ]
    }
   ],
   "source": [
    "print(numerical)"
   ]
  },
  {
   "cell_type": "code",
   "execution_count": 36,
   "metadata": {},
   "outputs": [
    {
     "data": {
      "text/plain": [
       "(1450, 51)"
      ]
     },
     "execution_count": 36,
     "metadata": {},
     "output_type": "execute_result"
    }
   ],
   "source": [
    "house_fixed.shape"
   ]
  },
  {
   "cell_type": "code",
   "execution_count": 37,
   "metadata": {},
   "outputs": [],
   "source": [
    "# Fixed features of a home to estimate home value\n",
    "\n",
    "num_cols = ['LotFrontage', 'LotArea', 'YearBuilt', 'YearRemodAdd', 'BsmtFinSF1', 'BsmtFinSF2', 'BsmtUnfSF', '1stFlrSF',\n",
    "        '2ndFlrSF', 'LowQualFinSF', 'GrLivArea', 'BsmtFullBath', 'BsmtHalfBath', 'FullBath', 'HalfBath', 'TotRmsAbvGrd', 'Fireplaces',\n",
    "        'GarageCars', 'GarageArea', 'WoodDeckSF', 'OpenPorchSF', 'EnclosedPorch', '3SsnPorch', 'ScreenPorch', 'PoolArea', 'MoSold', 'YrSold',\n",
    "         'SalePrice_log']\n",
    "\n",
    "dummies = pd.get_dummies(house_fixed[['MSZoning', 'Street', 'LotShape', 'LandContour', 'LotConfig', 'LandSlope', 'Neighborhood',\n",
    "                                      'BldgType', 'HouseStyle', 'Foundation']])\n",
    "\n",
    "df = pd.concat([house_fixed[num_cols],dummies,], axis=1)"
   ]
  },
  {
   "cell_type": "code",
   "execution_count": 38,
   "metadata": {},
   "outputs": [
    {
     "data": {
      "text/plain": [
       "(1450, 94)"
      ]
     },
     "execution_count": 38,
     "metadata": {},
     "output_type": "execute_result"
    }
   ],
   "source": [
    "df.shape"
   ]
  },
  {
   "cell_type": "code",
   "execution_count": 39,
   "metadata": {},
   "outputs": [],
   "source": [
    "# Setting up the target and predictor matrix\n",
    "\n",
    "y_train = df[df['YrSold']<2010] ['SalePrice_log']\n",
    "y_test = df[df['YrSold']==2010] ['SalePrice_log']"
   ]
  },
  {
   "cell_type": "code",
   "execution_count": 40,
   "metadata": {},
   "outputs": [
    {
     "name": "stdout",
     "output_type": "stream",
     "text": [
      "(1278, 93)\n",
      "(172, 93)\n",
      "(1278,)\n",
      "(172,)\n"
     ]
    }
   ],
   "source": [
    "# Removing SalePrice for X_train and X_test\n",
    "df = df.drop(columns=['SalePrice_log'])\n",
    "\n",
    "X_train = df[df['YrSold']<2010]\n",
    "X_test = df[df['YrSold']==2010]\n",
    "\n",
    "print(X_train.shape)\n",
    "print(X_test.shape)\n",
    "print(y_train.shape)\n",
    "print(y_test.shape)"
   ]
  },
  {
   "cell_type": "code",
   "execution_count": 41,
   "metadata": {},
   "outputs": [
    {
     "name": "stderr",
     "output_type": "stream",
     "text": [
      "/Users/ivanong/anaconda3/lib/python3.7/site-packages/sklearn/preprocessing/data.py:625: DataConversionWarning: Data with input dtype uint8, int64, float64 were all converted to float64 by StandardScaler.\n",
      "  return self.partial_fit(X, y)\n",
      "/Users/ivanong/anaconda3/lib/python3.7/site-packages/sklearn/base.py:462: DataConversionWarning: Data with input dtype uint8, int64, float64 were all converted to float64 by StandardScaler.\n",
      "  return self.fit(X, **fit_params).transform(X)\n",
      "/Users/ivanong/anaconda3/lib/python3.7/site-packages/ipykernel_launcher.py:5: DataConversionWarning: Data with input dtype uint8, int64, float64 were all converted to float64 by StandardScaler.\n",
      "  \"\"\"\n"
     ]
    }
   ],
   "source": [
    "# Standardise the predictor data\n",
    "\n",
    "ss = StandardScaler()\n",
    "X_train = ss.fit_transform(X_train)\n",
    "X_test = ss.transform(X_test)"
   ]
  },
  {
   "cell_type": "markdown",
   "metadata": {},
   "source": [
    "### Using 2 models: Lasso and RFE to determine best variables in predicting SalePrice"
   ]
  },
  {
   "cell_type": "code",
   "execution_count": 42,
   "metadata": {},
   "outputs": [
    {
     "name": "stdout",
     "output_type": "stream",
     "text": [
      "Optimal Lasso Alpha: 0.004703993568742905\n",
      "Lasso scores: [0.86208592 0.79272198 0.86991364 0.86070494 0.81039943 0.93518463\n",
      " 0.84636766 0.94305772 0.81416676 0.8708798 ]\n",
      "Lasso mean score: 0.8605482488293603\n"
     ]
    }
   ],
   "source": [
    "# Using Lasso for feature selection\n",
    "\n",
    "optimal_lasso = LassoCV (n_alphas=500, cv=5)\n",
    "optimal_lasso.fit(X_train, y_train)\n",
    "print('Optimal Lasso Alpha:', optimal_lasso.alpha_)\n",
    "\n",
    "# Cross-validate the Lasso regression  R2  with the optimal alpha\n",
    "lasso = Lasso(alpha=optimal_lasso.alpha_)\n",
    "lasso_scores = cross_val_score(lasso, X_test, y_test, cv=10)\n",
    "\n",
    "print('Lasso scores:', lasso_scores)\n",
    "print('Lasso mean score:', np.mean(lasso_scores))"
   ]
  },
  {
   "cell_type": "markdown",
   "metadata": {},
   "source": [
    "##### Lasso provided a mean score of 0.86055"
   ]
  },
  {
   "cell_type": "code",
   "execution_count": 43,
   "metadata": {},
   "outputs": [
    {
     "data": {
      "text/html": [
       "<div>\n",
       "<style scoped>\n",
       "    .dataframe tbody tr th:only-of-type {\n",
       "        vertical-align: middle;\n",
       "    }\n",
       "\n",
       "    .dataframe tbody tr th {\n",
       "        vertical-align: top;\n",
       "    }\n",
       "\n",
       "    .dataframe thead th {\n",
       "        text-align: right;\n",
       "    }\n",
       "</style>\n",
       "<table border=\"1\" class=\"dataframe\">\n",
       "  <thead>\n",
       "    <tr style=\"text-align: right;\">\n",
       "      <th></th>\n",
       "      <th>Column</th>\n",
       "      <th>Coefficient</th>\n",
       "    </tr>\n",
       "  </thead>\n",
       "  <tbody>\n",
       "    <tr>\n",
       "      <th>2</th>\n",
       "      <td>YearBuilt</td>\n",
       "      <td>0.099809</td>\n",
       "    </tr>\n",
       "    <tr>\n",
       "      <th>10</th>\n",
       "      <td>GrLivArea</td>\n",
       "      <td>0.090113</td>\n",
       "    </tr>\n",
       "    <tr>\n",
       "      <th>18</th>\n",
       "      <td>GarageArea</td>\n",
       "      <td>0.071190</td>\n",
       "    </tr>\n",
       "    <tr>\n",
       "      <th>55</th>\n",
       "      <td>Neighborhood_Crawfor</td>\n",
       "      <td>0.053422</td>\n",
       "    </tr>\n",
       "    <tr>\n",
       "      <th>4</th>\n",
       "      <td>BsmtFinSF1</td>\n",
       "      <td>0.048668</td>\n",
       "    </tr>\n",
       "    <tr>\n",
       "      <th>7</th>\n",
       "      <td>1stFlrSF</td>\n",
       "      <td>0.036729</td>\n",
       "    </tr>\n",
       "    <tr>\n",
       "      <th>89</th>\n",
       "      <td>Foundation_PConc</td>\n",
       "      <td>0.036319</td>\n",
       "    </tr>\n",
       "    <tr>\n",
       "      <th>53</th>\n",
       "      <td>Neighborhood_ClearCr</td>\n",
       "      <td>0.030713</td>\n",
       "    </tr>\n",
       "    <tr>\n",
       "      <th>65</th>\n",
       "      <td>Neighborhood_NridgHt</td>\n",
       "      <td>0.030601</td>\n",
       "    </tr>\n",
       "    <tr>\n",
       "      <th>3</th>\n",
       "      <td>YearRemodAdd</td>\n",
       "      <td>0.029078</td>\n",
       "    </tr>\n",
       "  </tbody>\n",
       "</table>\n",
       "</div>"
      ],
      "text/plain": [
       "                  Column  Coefficient\n",
       "2              YearBuilt     0.099809\n",
       "10             GrLivArea     0.090113\n",
       "18            GarageArea     0.071190\n",
       "55  Neighborhood_Crawfor     0.053422\n",
       "4             BsmtFinSF1     0.048668\n",
       "7               1stFlrSF     0.036729\n",
       "89      Foundation_PConc     0.036319\n",
       "53  Neighborhood_ClearCr     0.030713\n",
       "65  Neighborhood_NridgHt     0.030601\n",
       "3           YearRemodAdd     0.029078"
      ]
     },
     "execution_count": 43,
     "metadata": {},
     "output_type": "execute_result"
    }
   ],
   "source": [
    "# Look at the coefficients for variables in Lasso\n",
    "\n",
    "lasso.fit(X_test, y_test)\n",
    "y_pred_lasso = lasso.predict(X_test)\n",
    "\n",
    "lasso_coefs = pd.DataFrame({'Column':df.columns,\n",
    "                            'Coefficient':lasso.coef_,})\n",
    "\n",
    "lasso_coefs.sort_values('Coefficient', inplace=True, ascending=False)\n",
    "\n",
    "lasso_coefs.head(10) # Top 10 coefficients"
   ]
  },
  {
   "cell_type": "markdown",
   "metadata": {},
   "source": [
    "- From the above table, it can be seen that YearBuilt, GrLivArea, GarageArea, Neighborhood and BsmtFinSF1 are the top 5 predictors which influence house SalePrice predictions"
   ]
  },
  {
   "cell_type": "code",
   "execution_count": 44,
   "metadata": {},
   "outputs": [
    {
     "data": {
      "text/plain": [
       "Column         29\n",
       "Coefficient    29\n",
       "dtype: int64"
      ]
     },
     "execution_count": 44,
     "metadata": {},
     "output_type": "execute_result"
    }
   ],
   "source": [
    "# Total count for coefficients are 29 from Lasso\n",
    "lasso_coefs[lasso_coefs['Coefficient']>0].count()"
   ]
  },
  {
   "cell_type": "code",
   "execution_count": 45,
   "metadata": {},
   "outputs": [],
   "source": [
    "lasso_list = list(lasso_coefs[lasso_coefs['Coefficient']>0] ['Column']) # Creating a list for all uneliminated Lasso coefficients"
   ]
  },
  {
   "cell_type": "code",
   "execution_count": 46,
   "metadata": {},
   "outputs": [],
   "source": [
    "# Using RFEcv for feature selection\n",
    "\n",
    "from sklearn.feature_selection import RFECV\n",
    "from sklearn.linear_model import LinearRegression\n",
    "\n",
    "lr = LinearRegression()\n",
    "selector = RFECV(lr, step=1, cv=10, n_jobs=-1, verbose=1)\n",
    "selector = selector.fit(X_train, y_train)"
   ]
  },
  {
   "cell_type": "code",
   "execution_count": 47,
   "metadata": {},
   "outputs": [
    {
     "data": {
      "text/plain": [
       "Index(['LotFrontage', 'LotArea', 'YearBuilt', 'YearRemodAdd', 'BsmtFinSF1',\n",
       "       'BsmtFinSF2', 'BsmtUnfSF', '1stFlrSF', '2ndFlrSF', 'LowQualFinSF',\n",
       "       'GrLivArea', 'BsmtFullBath', 'BsmtHalfBath', 'FullBath', 'HalfBath',\n",
       "       'TotRmsAbvGrd', 'Fireplaces', 'GarageCars', 'GarageArea', 'WoodDeckSF',\n",
       "       'OpenPorchSF', 'EnclosedPorch', '3SsnPorch', 'ScreenPorch', 'PoolArea',\n",
       "       'MoSold', 'YrSold', 'MSZoning_FV', 'MSZoning_RH', 'MSZoning_RL',\n",
       "       'MSZoning_RM', 'Street_Grvl', 'Street_Pave', 'LotShape_IR1',\n",
       "       'LotShape_IR2', 'LotShape_IR3', 'LotShape_Reg', 'LandContour_Bnk',\n",
       "       'LandContour_HLS', 'LandContour_Low', 'LandContour_Lvl',\n",
       "       'LotConfig_Corner', 'LotConfig_CulDSac', 'LotConfig_FR2',\n",
       "       'LotConfig_FR3', 'LotConfig_Inside', 'LandSlope_Gtl', 'LandSlope_Mod',\n",
       "       'LandSlope_Sev', 'Neighborhood_Blmngtn', 'Neighborhood_Blueste',\n",
       "       'Neighborhood_BrDale', 'Neighborhood_BrkSide', 'Neighborhood_ClearCr',\n",
       "       'Neighborhood_CollgCr', 'Neighborhood_Crawfor', 'Neighborhood_Edwards',\n",
       "       'Neighborhood_Gilbert', 'Neighborhood_IDOTRR', 'Neighborhood_MeadowV',\n",
       "       'Neighborhood_Mitchel', 'Neighborhood_NAmes', 'Neighborhood_NPkVill',\n",
       "       'Neighborhood_NWAmes', 'Neighborhood_NoRidge', 'Neighborhood_NridgHt',\n",
       "       'Neighborhood_OldTown', 'Neighborhood_SWISU', 'Neighborhood_Sawyer',\n",
       "       'Neighborhood_SawyerW', 'Neighborhood_Somerst', 'Neighborhood_StoneBr',\n",
       "       'Neighborhood_Timber', 'Neighborhood_Veenker', 'BldgType_1Fam',\n",
       "       'BldgType_2fmCon', 'BldgType_Duplex', 'BldgType_Twnhs',\n",
       "       'BldgType_TwnhsE', 'HouseStyle_1.5Fin', 'HouseStyle_1.5Unf',\n",
       "       'HouseStyle_1Story', 'HouseStyle_2.5Fin', 'HouseStyle_2.5Unf',\n",
       "       'HouseStyle_2Story', 'HouseStyle_SFoyer', 'HouseStyle_SLvl',\n",
       "       'Foundation_BrkTil', 'Foundation_CBlock', 'Foundation_PConc',\n",
       "       'Foundation_Slab', 'Foundation_Stone', 'Foundation_Wood'],\n",
       "      dtype='object')"
      ]
     },
     "execution_count": 47,
     "metadata": {},
     "output_type": "execute_result"
    }
   ],
   "source": [
    "rfecv_list = df.columns[selector.support_]\n",
    "rfecv_list"
   ]
  },
  {
   "cell_type": "markdown",
   "metadata": {},
   "source": [
    "- From the above RFE function, the top predictors that were present in Lasso are YearBuilt, BsmtFinSF1, GrLivArea.\n",
    "- Other top predictors chosen by RFE are LotFrontage, LotArea and YearRemodAdd."
   ]
  },
  {
   "cell_type": "code",
   "execution_count": 48,
   "metadata": {},
   "outputs": [
    {
     "data": {
      "text/plain": [
       "93"
      ]
     },
     "execution_count": 48,
     "metadata": {},
     "output_type": "execute_result"
    }
   ],
   "source": [
    "len(rfecv_list) # RFEcv kept 93 features. More features were eliminated by the Lasso Method."
   ]
  },
  {
   "cell_type": "markdown",
   "metadata": {},
   "source": [
    "## On to scoring the models with the features selected by Lasso"
   ]
  },
  {
   "cell_type": "markdown",
   "metadata": {},
   "source": [
    "##### Model 1: Linear Regression"
   ]
  },
  {
   "cell_type": "code",
   "execution_count": 49,
   "metadata": {},
   "outputs": [],
   "source": [
    "X_train = df[df['YrSold']<2010]\n",
    "X_test = df[df['YrSold']==2010]\n",
    "X_train = X_train[[i for i in lasso_list]]\n",
    "X_test = X_test[[i for i in lasso_list]]"
   ]
  },
  {
   "cell_type": "code",
   "execution_count": 50,
   "metadata": {},
   "outputs": [],
   "source": [
    "lr = LinearRegression()\n",
    "\n",
    "\n",
    "lr_model = lr.fit(X_train, y_train)"
   ]
  },
  {
   "cell_type": "code",
   "execution_count": 51,
   "metadata": {},
   "outputs": [
    {
     "name": "stdout",
     "output_type": "stream",
     "text": [
      "[0.88450413 0.86885385 0.86408207 0.76221098 0.86936638 0.85635733\n",
      " 0.82219411 0.86327886 0.44468601 0.85518684]\n",
      "Mean R2 score:  0.8090720543495886\n",
      "The standard deviation is: 0.12584576147203136\n"
     ]
    }
   ],
   "source": [
    "# Cross val R2 score for training data\n",
    "\n",
    "scores = cross_val_score(lr, X_train, y_train, cv = 10)\n",
    "print(scores)\n",
    "print('Mean R2 score: ',np.mean(scores))\n",
    "print('The standard deviation is:', np.std(scores))"
   ]
  },
  {
   "cell_type": "code",
   "execution_count": 52,
   "metadata": {},
   "outputs": [
    {
     "name": "stdout",
     "output_type": "stream",
     "text": [
      "R2 score when tested with test data:  0.8816607477585435\n",
      "RMSE score is:  0.13542824550298177\n"
     ]
    }
   ],
   "source": [
    "# Scoring with test data\n",
    "y_hat = lr_model.predict(X_test)\n",
    "\n",
    "print('R2 score when tested with test data: ',(lr_model.score(X_test, y_test)))\n",
    "print('RMSE score is: ', (np.sqrt(mean_squared_error(y_hat, y_test))))"
   ]
  },
  {
   "cell_type": "markdown",
   "metadata": {},
   "source": [
    "##### Model 2: Ridge Regression"
   ]
  },
  {
   "cell_type": "code",
   "execution_count": 53,
   "metadata": {},
   "outputs": [
    {
     "name": "stdout",
     "output_type": "stream",
     "text": [
      "[0.88506483 0.86937839 0.86504649 0.76232206 0.86976737 0.85780289\n",
      " 0.82337868 0.86263794 0.44042484 0.85624646]\n",
      "Mean R2 score: 0.809206996769724\n",
      "The standard deviation is: 0.127274925234547\n"
     ]
    },
    {
     "name": "stderr",
     "output_type": "stream",
     "text": [
      "/Users/ivanong/anaconda3/lib/python3.7/site-packages/sklearn/model_selection/_search.py:841: DeprecationWarning: The default of the `iid` parameter will change from True to False in version 0.22 and will be removed in 0.24. This will change numeric results when test-set sizes are unequal.\n",
      "  DeprecationWarning)\n"
     ]
    }
   ],
   "source": [
    "ridge_alphas = np.logspace(0,5,200)\n",
    "\n",
    "#Finding the optimal ridge alpha \n",
    "optimal_ridge = RidgeCV(alphas = ridge_alphas, cv = 10)\n",
    "optimal_ridge.fit(X_train, y_train)\n",
    "\n",
    "\n",
    "ridge = Ridge(alpha = optimal_ridge.alpha_)\n",
    "ridge_scores = cross_val_score(ridge, X_train, y_train, cv = 10)\n",
    "\n",
    "print(ridge_scores)\n",
    "print('Mean R2 score:',(np.mean(ridge_scores)))\n",
    "print('The standard deviation is:' , np.std(ridge_scores))"
   ]
  },
  {
   "cell_type": "code",
   "execution_count": 54,
   "metadata": {},
   "outputs": [
    {
     "name": "stdout",
     "output_type": "stream",
     "text": [
      "R2 score when tested with test data: 0.881626066453322\n",
      "RMSE score is:  0.13544808881007667\n"
     ]
    }
   ],
   "source": [
    "# Scoring with test data\n",
    "\n",
    "ridge.fit(X_train, y_train)\n",
    "y_hat = ridge.predict(X_test)\n",
    "\n",
    "print('R2 score when tested with test data:', ridge.score(X_test, y_test))\n",
    "print('RMSE score is: ',(np.sqrt(mean_squared_error(y_hat, y_test))))"
   ]
  },
  {
   "cell_type": "markdown",
   "metadata": {},
   "source": [
    "##### Model 3: Lasso Regression"
   ]
  },
  {
   "cell_type": "code",
   "execution_count": 55,
   "metadata": {},
   "outputs": [
    {
     "name": "stdout",
     "output_type": "stream",
     "text": [
      "[0.84349978 0.84158437 0.84521065 0.71264015 0.82620742 0.8419769\n",
      " 0.7961137  0.78591633 0.20041529 0.81900569]\n",
      "Mean R2 score from the training data: 0.7512570280907485\n",
      "The standard deviation is: 0.1876336456994828\n"
     ]
    }
   ],
   "source": [
    "optimal_lasso = LassoCV(n_alphas = 50, cv = 10)\n",
    "optimal_lasso.fit(X_train, y_train)\n",
    "\n",
    "lasso = Lasso(alpha = optimal_lasso.alpha_)\n",
    "lasso_scores = cross_val_score(lasso, X_train, y_train, cv = 10)\n",
    "\n",
    "print(lasso_scores)\n",
    "print('Mean R2 score from the training data:', np.mean(lasso_scores))\n",
    "print('The standard deviation is:',np.std(lasso_scores))"
   ]
  },
  {
   "cell_type": "code",
   "execution_count": 56,
   "metadata": {},
   "outputs": [
    {
     "name": "stdout",
     "output_type": "stream",
     "text": [
      "Mean R2 score with test data: 0.8300216297956373\n",
      "RSME score is: 0.16230865248181006\n"
     ]
    }
   ],
   "source": [
    "# Scoring with test data\n",
    "lasso.fit(X_train, y_train)\n",
    "y_hat = lasso.predict(X_test)\n",
    "\n",
    "print('Mean R2 score with test data:' ,lasso.score(X_test, y_test))\n",
    "print('RSME score is:', np.sqrt(mean_squared_error(y_hat, y_test)))"
   ]
  },
  {
   "cell_type": "markdown",
   "metadata": {},
   "source": [
    "##### Model 4: Elastic Net"
   ]
  },
  {
   "cell_type": "code",
   "execution_count": 57,
   "metadata": {},
   "outputs": [
    {
     "name": "stdout",
     "output_type": "stream",
     "text": [
      "[0.84349112 0.84157778 0.84525924 0.71260783 0.82627753 0.84201839\n",
      " 0.79615832 0.78593616 0.20020078 0.81900017]\n",
      "The mean cross validated R2 score for the training: 0.7512527318829345\n",
      "The standard deviation is: 0.1877050172235101\n"
     ]
    }
   ],
   "source": [
    "enet_ratios = np.linspace(0.01, 1.0, 50)\n",
    "\n",
    "optimal_enet = ElasticNetCV(l1_ratio = enet_ratios, n_alphas = 100, cv = 10)\n",
    "optimal_enet.fit(X_train, y_train)\n",
    "\n",
    "enet = ElasticNet(alpha = optimal_enet.alpha_, l1_ratio = optimal_enet.l1_ratio_)\n",
    "enet_scores = cross_val_score(enet, X_train, y_train, cv = 10)\n",
    "\n",
    "print(enet_scores)\n",
    "print('The mean cross validated R2 score for the training:',np.mean(enet_scores))\n",
    "print('The standard deviation is:', np.std(enet_scores))"
   ]
  },
  {
   "cell_type": "code",
   "execution_count": 58,
   "metadata": {},
   "outputs": [
    {
     "name": "stdout",
     "output_type": "stream",
     "text": [
      "R2 score when tested with test data is: 0.8300562170495873\n",
      "Root mean squared error score is: 0.16229213833304226\n"
     ]
    }
   ],
   "source": [
    "# Scoring with the test data\n",
    "enet.fit(X_train, y_train)\n",
    "y_hat = enet.predict(X_test)\n",
    "\n",
    "print('R2 score when tested with test data is:',(enet.score(X_test, y_test)))\n",
    "print('Root mean squared error score is:' ,(np.sqrt(mean_squared_error(y_hat, y_test))))"
   ]
  },
  {
   "cell_type": "markdown",
   "metadata": {},
   "source": [
    "#### Question 1 Conclusion\n",
    "Based on scores from testing data:\n",
    "- Linear Regression model provided the highest R2 score of 0.88166\n",
    "- Followed closely with Ridge which had a R2 score of 0.881626"
   ]
  },
  {
   "cell_type": "markdown",
   "metadata": {},
   "source": [
    "<img src=\"http://imgur.com/l5NasQj.png\" style=\"float: left; margin: 25px 15px 0px 0px; height: 25px\">\n",
    "\n",
    "## 2. Determine any value of *changeable* property characteristics unexplained by the *fixed* ones.\n",
    "\n",
    "---\n",
    "\n",
    "Now that you have a model that estimates the price of a house based on its static characteristics, we can move forward with part 2 and 3 of the plan: what are the costs/benefits of quality, condition, and renovations?\n",
    "\n",
    "There are two specific requirements for these estimates:\n",
    "1. The estimates of effects must be in terms of dollars added or subtracted from the house value. \n",
    "2. The effects must be on the variance in price remaining from the first model.\n",
    "\n",
    "The residuals from the first model (training and testing) represent the variance in price unexplained by the fixed characteristics. Of that variance in price remaining, how much of it can be explained by the easy-to-change aspects of the property?\n",
    "\n",
    "---\n",
    "\n",
    "**Your goals:**\n",
    "1. Evaluate the effect in dollars of the renovate-able features. \n",
    "- How would your company use this second model and its coefficients to determine whether they should buy a property or not? Explain how the company can use the two models you have built to determine if they can make money. \n",
    "- Investigate how much of the variance in price remaining is explained by these features.\n",
    "- Do you trust your model? Should it be used to evaluate which properties to buy and fix up?"
   ]
  },
  {
   "cell_type": "code",
   "execution_count": 59,
   "metadata": {},
   "outputs": [],
   "source": [
    "# A:\n",
    "\n",
    "# From Question 1, we saw that fixed characteristics have been able to predict 88% of the variance in sales price.\n",
    "# We now aim to explain the remaining 12% from the variable features."
   ]
  },
  {
   "cell_type": "markdown",
   "metadata": {},
   "source": [
    "<img src=\"http://imgur.com/l5NasQj.png\" style=\"float: left; margin: 25px 15px 0px 0px; height: 25px\">\n",
    "\n",
    "## 2. Determine any value of *changeable* property characteristics unexplained by the *fixed* ones.\n",
    "\n",
    "---\n",
    "\n",
    "Now that you have a model that estimates the price of a house based on its static characteristics, we can move forward with part 2 and 3 of the plan: what are the costs/benefits of quality, condition, and renovations?\n",
    "\n",
    "There are two specific requirements for these estimates:\n",
    "1. The estimates of effects must be in terms of dollars added or subtracted from the house value. \n",
    "2. The effects must be on the variance in price remaining from the first model.\n",
    "\n",
    "The residuals from the first model (training and testing) represent the variance in price unexplained by the fixed characteristics. Of that variance in price remaining, how much of it can be explained by the easy-to-change aspects of the property?\n",
    "\n",
    "---\n",
    "\n",
    "**Your goals:**\n",
    "1. Evaluate the effect in dollars of the renovate-able features. \n",
    "- How would your company use this second model and its coefficients to determine whether they should buy a property or not? Explain how the company can use the two models you have built to determine if they can make money. \n",
    "- Investigate how much of the variance in price remaining is explained by these features.\n",
    "- Do you trust your model? Should it be used to evaluate which properties to buy and fix up?"
   ]
  },
  {
   "cell_type": "markdown",
   "metadata": {},
   "source": [
    "#### Perform some EDA for renovatable variables"
   ]
  },
  {
   "cell_type": "code",
   "execution_count": 60,
   "metadata": {},
   "outputs": [],
   "source": [
    "# Subsetting the non-fixed features\n",
    "# Including SalePrice_log for testing\n",
    "fixed_features = ['MSSubClass','MSZoning','LotFrontage','LotArea','Street', 'Alley', 'LotShape', 'LandContour', 'LotConfig', 'LandSlope', 'Neighborhood' , 'Condition1', 'Condition2', 'BldgType', 'HouseStyle', 'YearBuilt', 'YearRemodAdd', 'Foundation', 'BsmtExposure', 'BsmtFinSF1', 'BsmtFinSF2', 'BsmtUnfSF', '1stFlrSF', '2ndFlrSF', 'LowQualFinSF', 'GrLivArea', 'BsmtFullBath', 'BsmtHalfBath', 'FullBath', 'HalfBath', 'Bedroom', 'Kitchen', 'TotRmsAbvGrd', 'Fireplaces', 'GarageType', 'GarageYrBlt', 'GarageCars', 'GarageArea', 'PavedDrive', 'WoodDeckSF', 'OpenPorchSF', 'EnclosedPorch', '3SsnPorch', 'ScreenPorch', 'PoolArea', 'MiscFeature', 'MoSold', 'YrSold','SalePrice_log']\n",
    "\n",
    "house_variables = house[[c for c in house.columns if c not in fixed_features]]"
   ]
  },
  {
   "cell_type": "code",
   "execution_count": 61,
   "metadata": {},
   "outputs": [
    {
     "data": {
      "text/plain": [
       "(1450, 34)"
      ]
     },
     "execution_count": 61,
     "metadata": {},
     "output_type": "execute_result"
    }
   ],
   "source": [
    "house_variables.shape"
   ]
  },
  {
   "cell_type": "code",
   "execution_count": 62,
   "metadata": {},
   "outputs": [
    {
     "data": {
      "text/plain": [
       "Utilities        object\n",
       "OverallQual       int64\n",
       "OverallCond       int64\n",
       "RoofStyle        object\n",
       "RoofMatl         object\n",
       "Exterior1st      object\n",
       "Exterior2nd      object\n",
       "MasVnrType       object\n",
       "MasVnrArea       object\n",
       "ExterQual        object\n",
       "ExterCond        object\n",
       "BsmtQual         object\n",
       "BsmtCond         object\n",
       "BsmtFinType1     object\n",
       "BsmtFinType2     object\n",
       "TotalBsmtSF       int64\n",
       "Heating          object\n",
       "HeatingQC        object\n",
       "CentralAir       object\n",
       "Electrical       object\n",
       "BedroomAbvGr      int64\n",
       "KitchenAbvGr      int64\n",
       "KitchenQual      object\n",
       "Functional       object\n",
       "FireplaceQu      object\n",
       "GarageFinish     object\n",
       "GarageQual       object\n",
       "GarageCond       object\n",
       "PoolQC           object\n",
       "Fence            object\n",
       "MiscVal           int64\n",
       "SaleType         object\n",
       "SaleCondition    object\n",
       "SalePrice         int64\n",
       "dtype: object"
      ]
     },
     "execution_count": 62,
     "metadata": {},
     "output_type": "execute_result"
    }
   ],
   "source": [
    "house_variables.dtypes"
   ]
  },
  {
   "cell_type": "code",
   "execution_count": 63,
   "metadata": {},
   "outputs": [
    {
     "data": {
      "text/html": [
       "<div>\n",
       "<style scoped>\n",
       "    .dataframe tbody tr th:only-of-type {\n",
       "        vertical-align: middle;\n",
       "    }\n",
       "\n",
       "    .dataframe tbody tr th {\n",
       "        vertical-align: top;\n",
       "    }\n",
       "\n",
       "    .dataframe thead th {\n",
       "        text-align: right;\n",
       "    }\n",
       "</style>\n",
       "<table border=\"1\" class=\"dataframe\">\n",
       "  <thead>\n",
       "    <tr style=\"text-align: right;\">\n",
       "      <th></th>\n",
       "      <th>Utilities</th>\n",
       "      <th>OverallQual</th>\n",
       "      <th>OverallCond</th>\n",
       "      <th>RoofStyle</th>\n",
       "      <th>RoofMatl</th>\n",
       "      <th>Exterior1st</th>\n",
       "      <th>Exterior2nd</th>\n",
       "      <th>MasVnrType</th>\n",
       "      <th>MasVnrArea</th>\n",
       "      <th>ExterQual</th>\n",
       "      <th>...</th>\n",
       "      <th>FireplaceQu</th>\n",
       "      <th>GarageFinish</th>\n",
       "      <th>GarageQual</th>\n",
       "      <th>GarageCond</th>\n",
       "      <th>PoolQC</th>\n",
       "      <th>Fence</th>\n",
       "      <th>MiscVal</th>\n",
       "      <th>SaleType</th>\n",
       "      <th>SaleCondition</th>\n",
       "      <th>SalePrice</th>\n",
       "    </tr>\n",
       "  </thead>\n",
       "  <tbody>\n",
       "    <tr>\n",
       "      <th>0</th>\n",
       "      <td>AllPub</td>\n",
       "      <td>7</td>\n",
       "      <td>5</td>\n",
       "      <td>Gable</td>\n",
       "      <td>CompShg</td>\n",
       "      <td>VinylSd</td>\n",
       "      <td>VinylSd</td>\n",
       "      <td>BrkFace</td>\n",
       "      <td>196</td>\n",
       "      <td>Gd</td>\n",
       "      <td>...</td>\n",
       "      <td>No_Fireplace</td>\n",
       "      <td>RFn</td>\n",
       "      <td>TA</td>\n",
       "      <td>TA</td>\n",
       "      <td>No_Pool</td>\n",
       "      <td>No_Fence</td>\n",
       "      <td>0</td>\n",
       "      <td>WD</td>\n",
       "      <td>Normal</td>\n",
       "      <td>208500</td>\n",
       "    </tr>\n",
       "    <tr>\n",
       "      <th>1</th>\n",
       "      <td>AllPub</td>\n",
       "      <td>6</td>\n",
       "      <td>8</td>\n",
       "      <td>Gable</td>\n",
       "      <td>CompShg</td>\n",
       "      <td>MetalSd</td>\n",
       "      <td>MetalSd</td>\n",
       "      <td>None</td>\n",
       "      <td>0</td>\n",
       "      <td>TA</td>\n",
       "      <td>...</td>\n",
       "      <td>TA</td>\n",
       "      <td>RFn</td>\n",
       "      <td>TA</td>\n",
       "      <td>TA</td>\n",
       "      <td>No_Pool</td>\n",
       "      <td>No_Fence</td>\n",
       "      <td>0</td>\n",
       "      <td>WD</td>\n",
       "      <td>Normal</td>\n",
       "      <td>181500</td>\n",
       "    </tr>\n",
       "    <tr>\n",
       "      <th>2</th>\n",
       "      <td>AllPub</td>\n",
       "      <td>7</td>\n",
       "      <td>5</td>\n",
       "      <td>Gable</td>\n",
       "      <td>CompShg</td>\n",
       "      <td>VinylSd</td>\n",
       "      <td>VinylSd</td>\n",
       "      <td>BrkFace</td>\n",
       "      <td>162</td>\n",
       "      <td>Gd</td>\n",
       "      <td>...</td>\n",
       "      <td>TA</td>\n",
       "      <td>RFn</td>\n",
       "      <td>TA</td>\n",
       "      <td>TA</td>\n",
       "      <td>No_Pool</td>\n",
       "      <td>No_Fence</td>\n",
       "      <td>0</td>\n",
       "      <td>WD</td>\n",
       "      <td>Normal</td>\n",
       "      <td>223500</td>\n",
       "    </tr>\n",
       "    <tr>\n",
       "      <th>3</th>\n",
       "      <td>AllPub</td>\n",
       "      <td>7</td>\n",
       "      <td>5</td>\n",
       "      <td>Gable</td>\n",
       "      <td>CompShg</td>\n",
       "      <td>Wd Sdng</td>\n",
       "      <td>Wd Shng</td>\n",
       "      <td>None</td>\n",
       "      <td>0</td>\n",
       "      <td>TA</td>\n",
       "      <td>...</td>\n",
       "      <td>Gd</td>\n",
       "      <td>Unf</td>\n",
       "      <td>TA</td>\n",
       "      <td>TA</td>\n",
       "      <td>No_Pool</td>\n",
       "      <td>No_Fence</td>\n",
       "      <td>0</td>\n",
       "      <td>WD</td>\n",
       "      <td>Abnorml</td>\n",
       "      <td>140000</td>\n",
       "    </tr>\n",
       "    <tr>\n",
       "      <th>4</th>\n",
       "      <td>AllPub</td>\n",
       "      <td>8</td>\n",
       "      <td>5</td>\n",
       "      <td>Gable</td>\n",
       "      <td>CompShg</td>\n",
       "      <td>VinylSd</td>\n",
       "      <td>VinylSd</td>\n",
       "      <td>BrkFace</td>\n",
       "      <td>350</td>\n",
       "      <td>Gd</td>\n",
       "      <td>...</td>\n",
       "      <td>TA</td>\n",
       "      <td>RFn</td>\n",
       "      <td>TA</td>\n",
       "      <td>TA</td>\n",
       "      <td>No_Pool</td>\n",
       "      <td>No_Fence</td>\n",
       "      <td>0</td>\n",
       "      <td>WD</td>\n",
       "      <td>Normal</td>\n",
       "      <td>250000</td>\n",
       "    </tr>\n",
       "  </tbody>\n",
       "</table>\n",
       "<p>5 rows × 34 columns</p>\n",
       "</div>"
      ],
      "text/plain": [
       "  Utilities  OverallQual  OverallCond RoofStyle RoofMatl Exterior1st  \\\n",
       "0    AllPub            7            5     Gable  CompShg     VinylSd   \n",
       "1    AllPub            6            8     Gable  CompShg     MetalSd   \n",
       "2    AllPub            7            5     Gable  CompShg     VinylSd   \n",
       "3    AllPub            7            5     Gable  CompShg     Wd Sdng   \n",
       "4    AllPub            8            5     Gable  CompShg     VinylSd   \n",
       "\n",
       "  Exterior2nd MasVnrType MasVnrArea ExterQual    ...      FireplaceQu  \\\n",
       "0     VinylSd    BrkFace        196        Gd    ...     No_Fireplace   \n",
       "1     MetalSd       None          0        TA    ...               TA   \n",
       "2     VinylSd    BrkFace        162        Gd    ...               TA   \n",
       "3     Wd Shng       None          0        TA    ...               Gd   \n",
       "4     VinylSd    BrkFace        350        Gd    ...               TA   \n",
       "\n",
       "  GarageFinish GarageQual GarageCond   PoolQC     Fence MiscVal SaleType  \\\n",
       "0          RFn         TA         TA  No_Pool  No_Fence       0       WD   \n",
       "1          RFn         TA         TA  No_Pool  No_Fence       0       WD   \n",
       "2          RFn         TA         TA  No_Pool  No_Fence       0       WD   \n",
       "3          Unf         TA         TA  No_Pool  No_Fence       0       WD   \n",
       "4          RFn         TA         TA  No_Pool  No_Fence       0       WD   \n",
       "\n",
       "  SaleCondition SalePrice  \n",
       "0        Normal    208500  \n",
       "1        Normal    181500  \n",
       "2        Normal    223500  \n",
       "3       Abnorml    140000  \n",
       "4        Normal    250000  \n",
       "\n",
       "[5 rows x 34 columns]"
      ]
     },
     "execution_count": 63,
     "metadata": {},
     "output_type": "execute_result"
    }
   ],
   "source": [
    "house_variables.head()"
   ]
  },
  {
   "cell_type": "code",
   "execution_count": 64,
   "metadata": {},
   "outputs": [
    {
     "data": {
      "text/html": [
       "<div>\n",
       "<style scoped>\n",
       "    .dataframe tbody tr th:only-of-type {\n",
       "        vertical-align: middle;\n",
       "    }\n",
       "\n",
       "    .dataframe tbody tr th {\n",
       "        vertical-align: top;\n",
       "    }\n",
       "\n",
       "    .dataframe thead th {\n",
       "        text-align: right;\n",
       "    }\n",
       "</style>\n",
       "<table border=\"1\" class=\"dataframe\">\n",
       "  <thead>\n",
       "    <tr style=\"text-align: right;\">\n",
       "      <th></th>\n",
       "      <th>Utilities</th>\n",
       "      <th>OverallQual</th>\n",
       "      <th>OverallCond</th>\n",
       "      <th>RoofStyle</th>\n",
       "      <th>RoofMatl</th>\n",
       "      <th>Exterior1st</th>\n",
       "      <th>Exterior2nd</th>\n",
       "      <th>MasVnrType</th>\n",
       "      <th>MasVnrArea</th>\n",
       "      <th>ExterQual</th>\n",
       "      <th>...</th>\n",
       "      <th>FireplaceQu</th>\n",
       "      <th>GarageFinish</th>\n",
       "      <th>GarageQual</th>\n",
       "      <th>GarageCond</th>\n",
       "      <th>PoolQC</th>\n",
       "      <th>Fence</th>\n",
       "      <th>MiscVal</th>\n",
       "      <th>SaleType</th>\n",
       "      <th>SaleCondition</th>\n",
       "      <th>SalePrice</th>\n",
       "    </tr>\n",
       "  </thead>\n",
       "  <tbody>\n",
       "    <tr>\n",
       "      <th>1455</th>\n",
       "      <td>AllPub</td>\n",
       "      <td>6</td>\n",
       "      <td>5</td>\n",
       "      <td>Gable</td>\n",
       "      <td>CompShg</td>\n",
       "      <td>VinylSd</td>\n",
       "      <td>VinylSd</td>\n",
       "      <td>None</td>\n",
       "      <td>0</td>\n",
       "      <td>TA</td>\n",
       "      <td>...</td>\n",
       "      <td>TA</td>\n",
       "      <td>RFn</td>\n",
       "      <td>TA</td>\n",
       "      <td>TA</td>\n",
       "      <td>No_Pool</td>\n",
       "      <td>No_Fence</td>\n",
       "      <td>0</td>\n",
       "      <td>WD</td>\n",
       "      <td>Normal</td>\n",
       "      <td>175000</td>\n",
       "    </tr>\n",
       "    <tr>\n",
       "      <th>1456</th>\n",
       "      <td>AllPub</td>\n",
       "      <td>6</td>\n",
       "      <td>6</td>\n",
       "      <td>Gable</td>\n",
       "      <td>CompShg</td>\n",
       "      <td>Plywood</td>\n",
       "      <td>Plywood</td>\n",
       "      <td>Stone</td>\n",
       "      <td>119</td>\n",
       "      <td>TA</td>\n",
       "      <td>...</td>\n",
       "      <td>TA</td>\n",
       "      <td>Unf</td>\n",
       "      <td>TA</td>\n",
       "      <td>TA</td>\n",
       "      <td>No_Pool</td>\n",
       "      <td>MnPrv</td>\n",
       "      <td>0</td>\n",
       "      <td>WD</td>\n",
       "      <td>Normal</td>\n",
       "      <td>210000</td>\n",
       "    </tr>\n",
       "    <tr>\n",
       "      <th>1457</th>\n",
       "      <td>AllPub</td>\n",
       "      <td>7</td>\n",
       "      <td>9</td>\n",
       "      <td>Gable</td>\n",
       "      <td>CompShg</td>\n",
       "      <td>CemntBd</td>\n",
       "      <td>CmentBd</td>\n",
       "      <td>None</td>\n",
       "      <td>0</td>\n",
       "      <td>Ex</td>\n",
       "      <td>...</td>\n",
       "      <td>Gd</td>\n",
       "      <td>RFn</td>\n",
       "      <td>TA</td>\n",
       "      <td>TA</td>\n",
       "      <td>No_Pool</td>\n",
       "      <td>GdPrv</td>\n",
       "      <td>2500</td>\n",
       "      <td>WD</td>\n",
       "      <td>Normal</td>\n",
       "      <td>266500</td>\n",
       "    </tr>\n",
       "    <tr>\n",
       "      <th>1458</th>\n",
       "      <td>AllPub</td>\n",
       "      <td>5</td>\n",
       "      <td>6</td>\n",
       "      <td>Hip</td>\n",
       "      <td>CompShg</td>\n",
       "      <td>MetalSd</td>\n",
       "      <td>MetalSd</td>\n",
       "      <td>None</td>\n",
       "      <td>0</td>\n",
       "      <td>TA</td>\n",
       "      <td>...</td>\n",
       "      <td>No_Fireplace</td>\n",
       "      <td>Unf</td>\n",
       "      <td>TA</td>\n",
       "      <td>TA</td>\n",
       "      <td>No_Pool</td>\n",
       "      <td>No_Fence</td>\n",
       "      <td>0</td>\n",
       "      <td>WD</td>\n",
       "      <td>Normal</td>\n",
       "      <td>142125</td>\n",
       "    </tr>\n",
       "    <tr>\n",
       "      <th>1459</th>\n",
       "      <td>AllPub</td>\n",
       "      <td>5</td>\n",
       "      <td>6</td>\n",
       "      <td>Gable</td>\n",
       "      <td>CompShg</td>\n",
       "      <td>HdBoard</td>\n",
       "      <td>HdBoard</td>\n",
       "      <td>None</td>\n",
       "      <td>0</td>\n",
       "      <td>Gd</td>\n",
       "      <td>...</td>\n",
       "      <td>No_Fireplace</td>\n",
       "      <td>Fin</td>\n",
       "      <td>TA</td>\n",
       "      <td>TA</td>\n",
       "      <td>No_Pool</td>\n",
       "      <td>No_Fence</td>\n",
       "      <td>0</td>\n",
       "      <td>WD</td>\n",
       "      <td>Normal</td>\n",
       "      <td>147500</td>\n",
       "    </tr>\n",
       "  </tbody>\n",
       "</table>\n",
       "<p>5 rows × 34 columns</p>\n",
       "</div>"
      ],
      "text/plain": [
       "     Utilities  OverallQual  OverallCond RoofStyle RoofMatl Exterior1st  \\\n",
       "1455    AllPub            6            5     Gable  CompShg     VinylSd   \n",
       "1456    AllPub            6            6     Gable  CompShg     Plywood   \n",
       "1457    AllPub            7            9     Gable  CompShg     CemntBd   \n",
       "1458    AllPub            5            6       Hip  CompShg     MetalSd   \n",
       "1459    AllPub            5            6     Gable  CompShg     HdBoard   \n",
       "\n",
       "     Exterior2nd MasVnrType MasVnrArea ExterQual    ...      FireplaceQu  \\\n",
       "1455     VinylSd       None          0        TA    ...               TA   \n",
       "1456     Plywood      Stone        119        TA    ...               TA   \n",
       "1457     CmentBd       None          0        Ex    ...               Gd   \n",
       "1458     MetalSd       None          0        TA    ...     No_Fireplace   \n",
       "1459     HdBoard       None          0        Gd    ...     No_Fireplace   \n",
       "\n",
       "     GarageFinish GarageQual GarageCond   PoolQC     Fence MiscVal SaleType  \\\n",
       "1455          RFn         TA         TA  No_Pool  No_Fence       0       WD   \n",
       "1456          Unf         TA         TA  No_Pool     MnPrv       0       WD   \n",
       "1457          RFn         TA         TA  No_Pool     GdPrv    2500       WD   \n",
       "1458          Unf         TA         TA  No_Pool  No_Fence       0       WD   \n",
       "1459          Fin         TA         TA  No_Pool  No_Fence       0       WD   \n",
       "\n",
       "     SaleCondition SalePrice  \n",
       "1455        Normal    175000  \n",
       "1456        Normal    210000  \n",
       "1457        Normal    266500  \n",
       "1458        Normal    142125  \n",
       "1459        Normal    147500  \n",
       "\n",
       "[5 rows x 34 columns]"
      ]
     },
     "execution_count": 64,
     "metadata": {},
     "output_type": "execute_result"
    }
   ],
   "source": [
    "house_variables.tail()"
   ]
  },
  {
   "cell_type": "markdown",
   "metadata": {},
   "source": [
    "### On first impression, rennovatable features that would influence prices the most are OverallQual and OverallCond\n",
    "- Exploring OverallQual and OverallCond"
   ]
  },
  {
   "cell_type": "code",
   "execution_count": 65,
   "metadata": {},
   "outputs": [
    {
     "data": {
      "text/html": [
       "<div>\n",
       "<style scoped>\n",
       "    .dataframe tbody tr th:only-of-type {\n",
       "        vertical-align: middle;\n",
       "    }\n",
       "\n",
       "    .dataframe tbody tr th {\n",
       "        vertical-align: top;\n",
       "    }\n",
       "\n",
       "    .dataframe thead th {\n",
       "        text-align: right;\n",
       "    }\n",
       "</style>\n",
       "<table border=\"1\" class=\"dataframe\">\n",
       "  <thead>\n",
       "    <tr style=\"text-align: right;\">\n",
       "      <th></th>\n",
       "      <th>count</th>\n",
       "      <th>mean</th>\n",
       "      <th>std</th>\n",
       "      <th>min</th>\n",
       "      <th>25%</th>\n",
       "      <th>50%</th>\n",
       "      <th>75%</th>\n",
       "      <th>max</th>\n",
       "    </tr>\n",
       "    <tr>\n",
       "      <th>OverallQual</th>\n",
       "      <th></th>\n",
       "      <th></th>\n",
       "      <th></th>\n",
       "      <th></th>\n",
       "      <th></th>\n",
       "      <th></th>\n",
       "      <th></th>\n",
       "      <th></th>\n",
       "    </tr>\n",
       "  </thead>\n",
       "  <tbody>\n",
       "    <tr>\n",
       "      <th>1</th>\n",
       "      <td>2.0</td>\n",
       "      <td>50150.000000</td>\n",
       "      <td>15344.217152</td>\n",
       "      <td>39300.0</td>\n",
       "      <td>44725.0</td>\n",
       "      <td>50150.0</td>\n",
       "      <td>55575.0</td>\n",
       "      <td>61000.0</td>\n",
       "    </tr>\n",
       "    <tr>\n",
       "      <th>2</th>\n",
       "      <td>2.0</td>\n",
       "      <td>60000.000000</td>\n",
       "      <td>0.000000</td>\n",
       "      <td>60000.0</td>\n",
       "      <td>60000.0</td>\n",
       "      <td>60000.0</td>\n",
       "      <td>60000.0</td>\n",
       "      <td>60000.0</td>\n",
       "    </tr>\n",
       "    <tr>\n",
       "      <th>3</th>\n",
       "      <td>18.0</td>\n",
       "      <td>87970.833333</td>\n",
       "      <td>26041.262860</td>\n",
       "      <td>37900.0</td>\n",
       "      <td>73500.0</td>\n",
       "      <td>89250.0</td>\n",
       "      <td>102500.0</td>\n",
       "      <td>139600.0</td>\n",
       "    </tr>\n",
       "    <tr>\n",
       "      <th>4</th>\n",
       "      <td>111.0</td>\n",
       "      <td>110114.594595</td>\n",
       "      <td>27769.006606</td>\n",
       "      <td>52500.0</td>\n",
       "      <td>89735.5</td>\n",
       "      <td>108959.0</td>\n",
       "      <td>126750.0</td>\n",
       "      <td>256000.0</td>\n",
       "    </tr>\n",
       "    <tr>\n",
       "      <th>5</th>\n",
       "      <td>396.0</td>\n",
       "      <td>133719.131313</td>\n",
       "      <td>26859.106956</td>\n",
       "      <td>60000.0</td>\n",
       "      <td>118375.0</td>\n",
       "      <td>133000.0</td>\n",
       "      <td>147000.0</td>\n",
       "      <td>228950.0</td>\n",
       "    </tr>\n",
       "    <tr>\n",
       "      <th>6</th>\n",
       "      <td>373.0</td>\n",
       "      <td>161677.305630</td>\n",
       "      <td>36110.027156</td>\n",
       "      <td>76000.0</td>\n",
       "      <td>139500.0</td>\n",
       "      <td>160000.0</td>\n",
       "      <td>181000.0</td>\n",
       "      <td>277000.0</td>\n",
       "    </tr>\n",
       "    <tr>\n",
       "      <th>7</th>\n",
       "      <td>319.0</td>\n",
       "      <td>207716.423197</td>\n",
       "      <td>44466.259414</td>\n",
       "      <td>82500.0</td>\n",
       "      <td>179470.0</td>\n",
       "      <td>200141.0</td>\n",
       "      <td>230750.0</td>\n",
       "      <td>383970.0</td>\n",
       "    </tr>\n",
       "    <tr>\n",
       "      <th>8</th>\n",
       "      <td>168.0</td>\n",
       "      <td>274735.535714</td>\n",
       "      <td>63898.902253</td>\n",
       "      <td>122000.0</td>\n",
       "      <td>234557.5</td>\n",
       "      <td>269750.0</td>\n",
       "      <td>306250.0</td>\n",
       "      <td>538000.0</td>\n",
       "    </tr>\n",
       "    <tr>\n",
       "      <th>9</th>\n",
       "      <td>43.0</td>\n",
       "      <td>367513.023256</td>\n",
       "      <td>81278.174849</td>\n",
       "      <td>239000.0</td>\n",
       "      <td>318980.5</td>\n",
       "      <td>345000.0</td>\n",
       "      <td>389716.0</td>\n",
       "      <td>611657.0</td>\n",
       "    </tr>\n",
       "    <tr>\n",
       "      <th>10</th>\n",
       "      <td>18.0</td>\n",
       "      <td>438588.388889</td>\n",
       "      <td>159785.491058</td>\n",
       "      <td>160000.0</td>\n",
       "      <td>349375.0</td>\n",
       "      <td>432390.0</td>\n",
       "      <td>472875.0</td>\n",
       "      <td>755000.0</td>\n",
       "    </tr>\n",
       "  </tbody>\n",
       "</table>\n",
       "</div>"
      ],
      "text/plain": [
       "             count           mean            std       min       25%  \\\n",
       "OverallQual                                                            \n",
       "1              2.0   50150.000000   15344.217152   39300.0   44725.0   \n",
       "2              2.0   60000.000000       0.000000   60000.0   60000.0   \n",
       "3             18.0   87970.833333   26041.262860   37900.0   73500.0   \n",
       "4            111.0  110114.594595   27769.006606   52500.0   89735.5   \n",
       "5            396.0  133719.131313   26859.106956   60000.0  118375.0   \n",
       "6            373.0  161677.305630   36110.027156   76000.0  139500.0   \n",
       "7            319.0  207716.423197   44466.259414   82500.0  179470.0   \n",
       "8            168.0  274735.535714   63898.902253  122000.0  234557.5   \n",
       "9             43.0  367513.023256   81278.174849  239000.0  318980.5   \n",
       "10            18.0  438588.388889  159785.491058  160000.0  349375.0   \n",
       "\n",
       "                  50%       75%       max  \n",
       "OverallQual                                \n",
       "1             50150.0   55575.0   61000.0  \n",
       "2             60000.0   60000.0   60000.0  \n",
       "3             89250.0  102500.0  139600.0  \n",
       "4            108959.0  126750.0  256000.0  \n",
       "5            133000.0  147000.0  228950.0  \n",
       "6            160000.0  181000.0  277000.0  \n",
       "7            200141.0  230750.0  383970.0  \n",
       "8            269750.0  306250.0  538000.0  \n",
       "9            345000.0  389716.0  611657.0  \n",
       "10           432390.0  472875.0  755000.0  "
      ]
     },
     "execution_count": 65,
     "metadata": {},
     "output_type": "execute_result"
    }
   ],
   "source": [
    "# Looking OverallQual with SalePrice\n",
    "\n",
    "house_variables.groupby('OverallQual')['SalePrice'].describe()"
   ]
  },
  {
   "cell_type": "code",
   "execution_count": 66,
   "metadata": {},
   "outputs": [],
   "source": [
    "House_Qual = house.groupby('OverallQual')['SalePrice'].mean().sort_values()"
   ]
  },
  {
   "cell_type": "code",
   "execution_count": 67,
   "metadata": {},
   "outputs": [
    {
     "data": {
      "text/html": [
       "<div>\n",
       "<style scoped>\n",
       "    .dataframe tbody tr th:only-of-type {\n",
       "        vertical-align: middle;\n",
       "    }\n",
       "\n",
       "    .dataframe tbody tr th {\n",
       "        vertical-align: top;\n",
       "    }\n",
       "\n",
       "    .dataframe thead th {\n",
       "        text-align: right;\n",
       "    }\n",
       "</style>\n",
       "<table border=\"1\" class=\"dataframe\">\n",
       "  <thead>\n",
       "    <tr style=\"text-align: right;\">\n",
       "      <th></th>\n",
       "      <th>SalePrice</th>\n",
       "    </tr>\n",
       "    <tr>\n",
       "      <th>OverallQual</th>\n",
       "      <th></th>\n",
       "    </tr>\n",
       "  </thead>\n",
       "  <tbody>\n",
       "    <tr>\n",
       "      <th>1</th>\n",
       "      <td>50150.000000</td>\n",
       "    </tr>\n",
       "    <tr>\n",
       "      <th>2</th>\n",
       "      <td>60000.000000</td>\n",
       "    </tr>\n",
       "    <tr>\n",
       "      <th>3</th>\n",
       "      <td>87970.833333</td>\n",
       "    </tr>\n",
       "    <tr>\n",
       "      <th>4</th>\n",
       "      <td>110114.594595</td>\n",
       "    </tr>\n",
       "    <tr>\n",
       "      <th>5</th>\n",
       "      <td>133719.131313</td>\n",
       "    </tr>\n",
       "    <tr>\n",
       "      <th>6</th>\n",
       "      <td>161677.305630</td>\n",
       "    </tr>\n",
       "    <tr>\n",
       "      <th>7</th>\n",
       "      <td>207716.423197</td>\n",
       "    </tr>\n",
       "    <tr>\n",
       "      <th>8</th>\n",
       "      <td>274735.535714</td>\n",
       "    </tr>\n",
       "    <tr>\n",
       "      <th>9</th>\n",
       "      <td>367513.023256</td>\n",
       "    </tr>\n",
       "    <tr>\n",
       "      <th>10</th>\n",
       "      <td>438588.388889</td>\n",
       "    </tr>\n",
       "  </tbody>\n",
       "</table>\n",
       "</div>"
      ],
      "text/plain": [
       "                 SalePrice\n",
       "OverallQual               \n",
       "1             50150.000000\n",
       "2             60000.000000\n",
       "3             87970.833333\n",
       "4            110114.594595\n",
       "5            133719.131313\n",
       "6            161677.305630\n",
       "7            207716.423197\n",
       "8            274735.535714\n",
       "9            367513.023256\n",
       "10           438588.388889"
      ]
     },
     "execution_count": 67,
     "metadata": {},
     "output_type": "execute_result"
    }
   ],
   "source": [
    "House_Qual = House_Qual.to_frame()\n",
    "House_Qual"
   ]
  },
  {
   "cell_type": "code",
   "execution_count": 68,
   "metadata": {},
   "outputs": [],
   "source": [
    "# Renaming columns\n",
    "\n",
    "Quality = ['Very Poor', 'Poor', 'Fair', 'Below Average', 'Average', 'Above Average', 'Good', 'Very Good', 'Excellent', 'Very Excellent']\n",
    "House_Qual['Quality'] = Quality\n"
   ]
  },
  {
   "cell_type": "code",
   "execution_count": 69,
   "metadata": {},
   "outputs": [],
   "source": [
    "House_Qual = House_Qual.set_index('Quality')"
   ]
  },
  {
   "cell_type": "code",
   "execution_count": 70,
   "metadata": {},
   "outputs": [
    {
     "data": {
      "text/html": [
       "<div>\n",
       "<style scoped>\n",
       "    .dataframe tbody tr th:only-of-type {\n",
       "        vertical-align: middle;\n",
       "    }\n",
       "\n",
       "    .dataframe tbody tr th {\n",
       "        vertical-align: top;\n",
       "    }\n",
       "\n",
       "    .dataframe thead th {\n",
       "        text-align: right;\n",
       "    }\n",
       "</style>\n",
       "<table border=\"1\" class=\"dataframe\">\n",
       "  <thead>\n",
       "    <tr style=\"text-align: right;\">\n",
       "      <th></th>\n",
       "      <th>SalePrice</th>\n",
       "    </tr>\n",
       "    <tr>\n",
       "      <th>Quality</th>\n",
       "      <th></th>\n",
       "    </tr>\n",
       "  </thead>\n",
       "  <tbody>\n",
       "    <tr>\n",
       "      <th>Very Poor</th>\n",
       "      <td>50150.000000</td>\n",
       "    </tr>\n",
       "    <tr>\n",
       "      <th>Poor</th>\n",
       "      <td>60000.000000</td>\n",
       "    </tr>\n",
       "    <tr>\n",
       "      <th>Fair</th>\n",
       "      <td>87970.833333</td>\n",
       "    </tr>\n",
       "    <tr>\n",
       "      <th>Below Average</th>\n",
       "      <td>110114.594595</td>\n",
       "    </tr>\n",
       "    <tr>\n",
       "      <th>Average</th>\n",
       "      <td>133719.131313</td>\n",
       "    </tr>\n",
       "    <tr>\n",
       "      <th>Above Average</th>\n",
       "      <td>161677.305630</td>\n",
       "    </tr>\n",
       "    <tr>\n",
       "      <th>Good</th>\n",
       "      <td>207716.423197</td>\n",
       "    </tr>\n",
       "    <tr>\n",
       "      <th>Very Good</th>\n",
       "      <td>274735.535714</td>\n",
       "    </tr>\n",
       "    <tr>\n",
       "      <th>Excellent</th>\n",
       "      <td>367513.023256</td>\n",
       "    </tr>\n",
       "    <tr>\n",
       "      <th>Very Excellent</th>\n",
       "      <td>438588.388889</td>\n",
       "    </tr>\n",
       "  </tbody>\n",
       "</table>\n",
       "</div>"
      ],
      "text/plain": [
       "                    SalePrice\n",
       "Quality                      \n",
       "Very Poor        50150.000000\n",
       "Poor             60000.000000\n",
       "Fair             87970.833333\n",
       "Below Average   110114.594595\n",
       "Average         133719.131313\n",
       "Above Average   161677.305630\n",
       "Good            207716.423197\n",
       "Very Good       274735.535714\n",
       "Excellent       367513.023256\n",
       "Very Excellent  438588.388889"
      ]
     },
     "execution_count": 70,
     "metadata": {},
     "output_type": "execute_result"
    }
   ],
   "source": [
    "House_Qual"
   ]
  },
  {
   "cell_type": "code",
   "execution_count": 71,
   "metadata": {},
   "outputs": [
    {
     "data": {
      "text/plain": [
       "<matplotlib.axes._subplots.AxesSubplot at 0x1c23de0f28>"
      ]
     },
     "execution_count": 71,
     "metadata": {},
     "output_type": "execute_result"
    },
    {
     "data": {
      "image/png": "[encoded data removed]",
      "text/plain": [
       "<Figure size 432x288 with 1 Axes>"
      ]
     },
     "metadata": {
      "image/png": {
       "height": 263,
       "width": 439
      },
      "needs_background": "light"
     },
     "output_type": "display_data"
    }
   ],
   "source": [
    "House_Qual.plot(kind='barh',title='Mean SalePrice based on Quality')"
   ]
  },
  {
   "cell_type": "markdown",
   "metadata": {},
   "source": [
    "- From the quality alone, SalePrice has an obvious relationship with OverallQuality\n",
    "- This could be that prices of houses are higher when the materials and finishing of the house is of higher grade"
   ]
  },
  {
   "cell_type": "code",
   "execution_count": 72,
   "metadata": {},
   "outputs": [
    {
     "data": {
      "text/html": [
       "<div>\n",
       "<style scoped>\n",
       "    .dataframe tbody tr th:only-of-type {\n",
       "        vertical-align: middle;\n",
       "    }\n",
       "\n",
       "    .dataframe tbody tr th {\n",
       "        vertical-align: top;\n",
       "    }\n",
       "\n",
       "    .dataframe thead th {\n",
       "        text-align: right;\n",
       "    }\n",
       "</style>\n",
       "<table border=\"1\" class=\"dataframe\">\n",
       "  <thead>\n",
       "    <tr style=\"text-align: right;\">\n",
       "      <th></th>\n",
       "      <th>count</th>\n",
       "      <th>mean</th>\n",
       "      <th>std</th>\n",
       "      <th>min</th>\n",
       "      <th>25%</th>\n",
       "      <th>50%</th>\n",
       "      <th>75%</th>\n",
       "      <th>max</th>\n",
       "    </tr>\n",
       "    <tr>\n",
       "      <th>OverallCond</th>\n",
       "      <th></th>\n",
       "      <th></th>\n",
       "      <th></th>\n",
       "      <th></th>\n",
       "      <th></th>\n",
       "      <th></th>\n",
       "      <th></th>\n",
       "      <th></th>\n",
       "    </tr>\n",
       "  </thead>\n",
       "  <tbody>\n",
       "    <tr>\n",
       "      <th>1</th>\n",
       "      <td>1.0</td>\n",
       "      <td>61000.000000</td>\n",
       "      <td>NaN</td>\n",
       "      <td>61000.0</td>\n",
       "      <td>61000.0</td>\n",
       "      <td>61000.0</td>\n",
       "      <td>61000.0</td>\n",
       "      <td>61000.0</td>\n",
       "    </tr>\n",
       "    <tr>\n",
       "      <th>2</th>\n",
       "      <td>4.0</td>\n",
       "      <td>156233.000000</td>\n",
       "      <td>159009.277998</td>\n",
       "      <td>67000.0</td>\n",
       "      <td>74125.0</td>\n",
       "      <td>81750.0</td>\n",
       "      <td>163858.0</td>\n",
       "      <td>394432.0</td>\n",
       "    </tr>\n",
       "    <tr>\n",
       "      <th>3</th>\n",
       "      <td>24.0</td>\n",
       "      <td>104705.166667</td>\n",
       "      <td>43568.523308</td>\n",
       "      <td>39300.0</td>\n",
       "      <td>79000.0</td>\n",
       "      <td>90500.0</td>\n",
       "      <td>135725.0</td>\n",
       "      <td>200624.0</td>\n",
       "    </tr>\n",
       "    <tr>\n",
       "      <th>4</th>\n",
       "      <td>54.0</td>\n",
       "      <td>123622.055556</td>\n",
       "      <td>37254.070269</td>\n",
       "      <td>52500.0</td>\n",
       "      <td>93125.0</td>\n",
       "      <td>117750.0</td>\n",
       "      <td>147875.0</td>\n",
       "      <td>235000.0</td>\n",
       "    </tr>\n",
       "    <tr>\n",
       "      <th>5</th>\n",
       "      <td>819.0</td>\n",
       "      <td>203532.019536</td>\n",
       "      <td>84861.334122</td>\n",
       "      <td>55000.0</td>\n",
       "      <td>144000.0</td>\n",
       "      <td>185500.0</td>\n",
       "      <td>239742.5</td>\n",
       "      <td>745000.0</td>\n",
       "    </tr>\n",
       "    <tr>\n",
       "      <th>6</th>\n",
       "      <td>250.0</td>\n",
       "      <td>154225.684000</td>\n",
       "      <td>60897.965028</td>\n",
       "      <td>37900.0</td>\n",
       "      <td>124600.0</td>\n",
       "      <td>143000.0</td>\n",
       "      <td>172625.0</td>\n",
       "      <td>755000.0</td>\n",
       "    </tr>\n",
       "    <tr>\n",
       "      <th>7</th>\n",
       "      <td>204.0</td>\n",
       "      <td>158416.906863</td>\n",
       "      <td>53457.963634</td>\n",
       "      <td>79900.0</td>\n",
       "      <td>124250.0</td>\n",
       "      <td>145000.0</td>\n",
       "      <td>178000.0</td>\n",
       "      <td>402000.0</td>\n",
       "    </tr>\n",
       "    <tr>\n",
       "      <th>8</th>\n",
       "      <td>72.0</td>\n",
       "      <td>155651.736111</td>\n",
       "      <td>52375.144681</td>\n",
       "      <td>84500.0</td>\n",
       "      <td>125375.0</td>\n",
       "      <td>142500.0</td>\n",
       "      <td>170750.0</td>\n",
       "      <td>335000.0</td>\n",
       "    </tr>\n",
       "    <tr>\n",
       "      <th>9</th>\n",
       "      <td>22.0</td>\n",
       "      <td>216004.545455</td>\n",
       "      <td>96485.974689</td>\n",
       "      <td>110500.0</td>\n",
       "      <td>143500.0</td>\n",
       "      <td>176200.0</td>\n",
       "      <td>287875.0</td>\n",
       "      <td>475000.0</td>\n",
       "    </tr>\n",
       "  </tbody>\n",
       "</table>\n",
       "</div>"
      ],
      "text/plain": [
       "             count           mean            std       min       25%  \\\n",
       "OverallCond                                                            \n",
       "1              1.0   61000.000000            NaN   61000.0   61000.0   \n",
       "2              4.0  156233.000000  159009.277998   67000.0   74125.0   \n",
       "3             24.0  104705.166667   43568.523308   39300.0   79000.0   \n",
       "4             54.0  123622.055556   37254.070269   52500.0   93125.0   \n",
       "5            819.0  203532.019536   84861.334122   55000.0  144000.0   \n",
       "6            250.0  154225.684000   60897.965028   37900.0  124600.0   \n",
       "7            204.0  158416.906863   53457.963634   79900.0  124250.0   \n",
       "8             72.0  155651.736111   52375.144681   84500.0  125375.0   \n",
       "9             22.0  216004.545455   96485.974689  110500.0  143500.0   \n",
       "\n",
       "                  50%       75%       max  \n",
       "OverallCond                                \n",
       "1             61000.0   61000.0   61000.0  \n",
       "2             81750.0  163858.0  394432.0  \n",
       "3             90500.0  135725.0  200624.0  \n",
       "4            117750.0  147875.0  235000.0  \n",
       "5            185500.0  239742.5  745000.0  \n",
       "6            143000.0  172625.0  755000.0  \n",
       "7            145000.0  178000.0  402000.0  \n",
       "8            142500.0  170750.0  335000.0  \n",
       "9            176200.0  287875.0  475000.0  "
      ]
     },
     "execution_count": 72,
     "metadata": {},
     "output_type": "execute_result"
    }
   ],
   "source": [
    "# Repeating for OverallCond\n",
    "\n",
    "house.groupby('OverallCond')['SalePrice'].describe()"
   ]
  },
  {
   "cell_type": "code",
   "execution_count": 73,
   "metadata": {},
   "outputs": [
    {
     "data": {
      "text/html": [
       "<div>\n",
       "<style scoped>\n",
       "    .dataframe tbody tr th:only-of-type {\n",
       "        vertical-align: middle;\n",
       "    }\n",
       "\n",
       "    .dataframe tbody tr th {\n",
       "        vertical-align: top;\n",
       "    }\n",
       "\n",
       "    .dataframe thead th {\n",
       "        text-align: right;\n",
       "    }\n",
       "</style>\n",
       "<table border=\"1\" class=\"dataframe\">\n",
       "  <thead>\n",
       "    <tr style=\"text-align: right;\">\n",
       "      <th></th>\n",
       "      <th>SalePrice</th>\n",
       "    </tr>\n",
       "    <tr>\n",
       "      <th>OverallCond</th>\n",
       "      <th></th>\n",
       "    </tr>\n",
       "  </thead>\n",
       "  <tbody>\n",
       "    <tr>\n",
       "      <th>1</th>\n",
       "      <td>61000.000000</td>\n",
       "    </tr>\n",
       "    <tr>\n",
       "      <th>2</th>\n",
       "      <td>156233.000000</td>\n",
       "    </tr>\n",
       "    <tr>\n",
       "      <th>3</th>\n",
       "      <td>104705.166667</td>\n",
       "    </tr>\n",
       "    <tr>\n",
       "      <th>4</th>\n",
       "      <td>123622.055556</td>\n",
       "    </tr>\n",
       "    <tr>\n",
       "      <th>5</th>\n",
       "      <td>203532.019536</td>\n",
       "    </tr>\n",
       "    <tr>\n",
       "      <th>6</th>\n",
       "      <td>154225.684000</td>\n",
       "    </tr>\n",
       "    <tr>\n",
       "      <th>7</th>\n",
       "      <td>158416.906863</td>\n",
       "    </tr>\n",
       "    <tr>\n",
       "      <th>8</th>\n",
       "      <td>155651.736111</td>\n",
       "    </tr>\n",
       "    <tr>\n",
       "      <th>9</th>\n",
       "      <td>216004.545455</td>\n",
       "    </tr>\n",
       "  </tbody>\n",
       "</table>\n",
       "</div>"
      ],
      "text/plain": [
       "                 SalePrice\n",
       "OverallCond               \n",
       "1             61000.000000\n",
       "2            156233.000000\n",
       "3            104705.166667\n",
       "4            123622.055556\n",
       "5            203532.019536\n",
       "6            154225.684000\n",
       "7            158416.906863\n",
       "8            155651.736111\n",
       "9            216004.545455"
      ]
     },
     "execution_count": 73,
     "metadata": {},
     "output_type": "execute_result"
    }
   ],
   "source": [
    "House_Cond = house.groupby('OverallCond')['SalePrice'].mean()\n",
    "House_Cond = House_Cond.to_frame()\n",
    "House_Cond"
   ]
  },
  {
   "cell_type": "code",
   "execution_count": 74,
   "metadata": {},
   "outputs": [],
   "source": [
    "Cond = ['Very Poor', 'Poor', 'Fair', 'Below Average', 'Average', 'Above Average', 'Good', 'Very Good', 'Excellent']\n",
    "House_Cond['Condition'] = Cond\n",
    "House_Cond = House_Cond.set_index('Condition')"
   ]
  },
  {
   "cell_type": "code",
   "execution_count": 75,
   "metadata": {},
   "outputs": [
    {
     "data": {
      "text/html": [
       "<div>\n",
       "<style scoped>\n",
       "    .dataframe tbody tr th:only-of-type {\n",
       "        vertical-align: middle;\n",
       "    }\n",
       "\n",
       "    .dataframe tbody tr th {\n",
       "        vertical-align: top;\n",
       "    }\n",
       "\n",
       "    .dataframe thead th {\n",
       "        text-align: right;\n",
       "    }\n",
       "</style>\n",
       "<table border=\"1\" class=\"dataframe\">\n",
       "  <thead>\n",
       "    <tr style=\"text-align: right;\">\n",
       "      <th></th>\n",
       "      <th>SalePrice</th>\n",
       "    </tr>\n",
       "    <tr>\n",
       "      <th>Condition</th>\n",
       "      <th></th>\n",
       "    </tr>\n",
       "  </thead>\n",
       "  <tbody>\n",
       "    <tr>\n",
       "      <th>Very Poor</th>\n",
       "      <td>61000.000000</td>\n",
       "    </tr>\n",
       "    <tr>\n",
       "      <th>Poor</th>\n",
       "      <td>156233.000000</td>\n",
       "    </tr>\n",
       "    <tr>\n",
       "      <th>Fair</th>\n",
       "      <td>104705.166667</td>\n",
       "    </tr>\n",
       "    <tr>\n",
       "      <th>Below Average</th>\n",
       "      <td>123622.055556</td>\n",
       "    </tr>\n",
       "    <tr>\n",
       "      <th>Average</th>\n",
       "      <td>203532.019536</td>\n",
       "    </tr>\n",
       "    <tr>\n",
       "      <th>Above Average</th>\n",
       "      <td>154225.684000</td>\n",
       "    </tr>\n",
       "    <tr>\n",
       "      <th>Good</th>\n",
       "      <td>158416.906863</td>\n",
       "    </tr>\n",
       "    <tr>\n",
       "      <th>Very Good</th>\n",
       "      <td>155651.736111</td>\n",
       "    </tr>\n",
       "    <tr>\n",
       "      <th>Excellent</th>\n",
       "      <td>216004.545455</td>\n",
       "    </tr>\n",
       "  </tbody>\n",
       "</table>\n",
       "</div>"
      ],
      "text/plain": [
       "                   SalePrice\n",
       "Condition                   \n",
       "Very Poor       61000.000000\n",
       "Poor           156233.000000\n",
       "Fair           104705.166667\n",
       "Below Average  123622.055556\n",
       "Average        203532.019536\n",
       "Above Average  154225.684000\n",
       "Good           158416.906863\n",
       "Very Good      155651.736111\n",
       "Excellent      216004.545455"
      ]
     },
     "execution_count": 75,
     "metadata": {},
     "output_type": "execute_result"
    }
   ],
   "source": [
    "House_Cond"
   ]
  },
  {
   "cell_type": "code",
   "execution_count": 76,
   "metadata": {},
   "outputs": [
    {
     "data": {
      "text/plain": [
       "<matplotlib.axes._subplots.AxesSubplot at 0x1c24313898>"
      ]
     },
     "execution_count": 76,
     "metadata": {},
     "output_type": "execute_result"
    },
    {
     "data": {
      "image/png": "[encoded data removed]",
      "text/plain": [
       "<Figure size 432x288 with 1 Axes>"
      ]
     },
     "metadata": {
      "image/png": {
       "height": 263,
       "width": 439
      },
      "needs_background": "light"
     },
     "output_type": "display_data"
    }
   ],
   "source": [
    "House_Cond.plot(kind='barh',title='Mean SalePrice based on Condition')"
   ]
  },
  {
   "cell_type": "markdown",
   "metadata": {},
   "source": [
    "- It seems from the above that some outliers might have skewed the Average and Poor conditions.\n",
    "- Overall the higher the condition of the house, the higher the SalePrice"
   ]
  },
  {
   "cell_type": "code",
   "execution_count": 77,
   "metadata": {},
   "outputs": [
    {
     "name": "stdout",
     "output_type": "stream",
     "text": [
      "(1278, 477) (172, 477)\n",
      "(1278, 1) (172, 1)\n"
     ]
    }
   ],
   "source": [
    "# Setting up variables to run a RFE model for feature selection\n",
    "renovatable_features = ['Utilities', 'OverallQual', 'OverallCond', 'RoofStyle', 'RoofMatl',\n",
    "                        'Exterior1st', 'Exterior2nd', 'MasVnrType', 'MasVnrArea', 'ExterQual', 'ExterCond', \n",
    "                        'BsmtQual', 'BsmtCond', 'BsmtFinType1', 'BsmtFinType2', 'Heating', 'HeatingQC',\n",
    "                        'CentralAir', 'Electrical','KitchenQual', 'Functional', 'FireplaceQu',\n",
    "                        'GarageFinish', 'GarageQual', 'GarageCond', 'PoolQC', 'Fence', 'MiscVal','YrSold'] # YrSold and SalePrice have been added in for filtering\n",
    "# Creating the target\n",
    "y_train = house[house['YrSold']<2010].iloc[:, [-1]].values\n",
    "y_test = house[house['YrSold']>=2010].iloc[:, [-1]].values\n",
    "\n",
    "\n",
    "X = house[renovatable_features]\n",
    "X = pd.get_dummies(X)\n",
    "\n",
    "X_train = X[house['YrSold']<2010]\n",
    "X_test = X[house['YrSold']>=2010]\n",
    "\n",
    "\n",
    "\n",
    "print(X_train.shape, X_test.shape)\n",
    "print(y_train.shape, y_test.shape)"
   ]
  },
  {
   "cell_type": "code",
   "execution_count": 78,
   "metadata": {},
   "outputs": [
    {
     "name": "stderr",
     "output_type": "stream",
     "text": [
      "/Users/ivanong/anaconda3/lib/python3.7/site-packages/sklearn/preprocessing/data.py:625: DataConversionWarning: Data with input dtype uint8, int64 were all converted to float64 by StandardScaler.\n",
      "  return self.partial_fit(X, y)\n",
      "/Users/ivanong/anaconda3/lib/python3.7/site-packages/sklearn/base.py:462: DataConversionWarning: Data with input dtype uint8, int64 were all converted to float64 by StandardScaler.\n",
      "  return self.fit(X, **fit_params).transform(X)\n",
      "/Users/ivanong/anaconda3/lib/python3.7/site-packages/ipykernel_launcher.py:4: DataConversionWarning: Data with input dtype uint8, int64 were all converted to float64 by StandardScaler.\n",
      "  after removing the cwd from sys.path.\n"
     ]
    }
   ],
   "source": [
    "# Standard scaling\n",
    "\n",
    "X_train = ss.fit_transform(X_train)\n",
    "X_test = ss.transform(X_test)"
   ]
  },
  {
   "cell_type": "code",
   "execution_count": 79,
   "metadata": {},
   "outputs": [
    {
     "name": "stderr",
     "output_type": "stream",
     "text": [
      "/Users/ivanong/anaconda3/lib/python3.7/site-packages/sklearn/utils/validation.py:761: DataConversionWarning: A column-vector y was passed when a 1d array was expected. Please change the shape of y to (n_samples, ), for example using ravel().\n",
      "  y = column_or_1d(y, warn=True)\n"
     ]
    },
    {
     "name": "stdout",
     "output_type": "stream",
     "text": [
      "[False False False False False False False False False False False False\n",
      " False False False False False False False False False False False False\n",
      " False False False False False False False False False False False False\n",
      " False False False False False False False False False False False False\n",
      " False False False False False False False False False False False False\n",
      " False False False False False False False False False False False False\n",
      " False False False False False False False False False False False False\n",
      " False False False False False False False False False False False False\n",
      " False False False False False False False False False False False False\n",
      " False False False False False False False False False False False False\n",
      " False False False False False False False False False False False False\n",
      " False False False False False False False False False False False False\n",
      " False False False False False False False False False False False False\n",
      " False False False False False False False False False False False False\n",
      " False False False False False False False False False False False False\n",
      " False False False False False False False False False False False False\n",
      " False False False False False False False False False False False False\n",
      " False False False False False False False False False False False False\n",
      " False False False False False False False False False False False False\n",
      " False False False False False False False False False False False False\n",
      " False False False False False False False False False False False False\n",
      " False False False False False False False False False False False False\n",
      " False False False False False False False False False False False False\n",
      " False False False False False False False False False False False False\n",
      " False False False False False False False False False False False False\n",
      " False False False False False False False False False False False False\n",
      " False False False False False False False False False False False False\n",
      " False False False False False False False False False False False False\n",
      " False False False False False False False False False False False False\n",
      " False False False False False False False False False False False False\n",
      " False False False False False False False False  True False False False\n",
      " False False False False False False False False False False False False\n",
      " False False False False False False False False False False False False\n",
      " False False False False  True False False  True  True  True  True False\n",
      "  True  True False False False False False False False False False False\n",
      " False False False False False False False False False False False False\n",
      " False False False False False False False False False False False False\n",
      " False False False False False False False False False False False False\n",
      " False False False False False False False False False False False False\n",
      " False False False False False False False False False]\n",
      "[462 463 470 469  42  53 415 411 416 413 417 418   2  68  73  71   8  69\n",
      "  70  72 441  19 439 443  56 442 436 445 440 437 444 438 434 435 433 105\n",
      " 109  97 107  55  99 100 106  98 110 104 108 103 101 102  96  46  44  11\n",
      "  45  43 114 326 124 133 123 176 256  54 309  20 295  38 245 406  17 231\n",
      " 203 264 213 312 250 254 128 121 319 238 185 275 359 187 344 149 160 274\n",
      " 222 134 235 148 196 219 144 135  18 167 184 164  30 338 253 152 138 207\n",
      " 211 288 217 277 239 351 224 356 141 205 182 151  14 339 159 186 328 251\n",
      " 243 127  13 156 341 371 189 206 287 279 129 218 307 262 240 322 304 258\n",
      " 212 158 223 169 117 294 216 226 265 261 163  29 332 150 171 126 229 201\n",
      " 313  28 166 324 285 118 115 276 346 175 315 334 237 192 145 311 330 390\n",
      " 259 191 143 362 161 323 244 162 214 122 140 177 381 116 147 236 247 153\n",
      " 314 271 291  15 155 280 327 369 202 180 284 379 225 200 173 199 228 348\n",
      " 352 248 157 321 198 246 372 221 193 232 130 168 461 272 374 255 249 210\n",
      " 233 358 170 252 293 260 298 195 393 427 300 273 316 388 405  10 391  27\n",
      " 137 178 234 179 154 306 194 197 318 139 353 386 270 188  25 267 283 361\n",
      " 220 337 342 209 297 345  16 242 383 340 278  89 269 165 257 403 408 407\n",
      " 286 336 395  35 282 365 354 401 296 132 268  37 181 281 368 402 305 289\n",
      " 120  40 142 360 308 125 136 347  39 113 292 183 350 382 266 301 227 376\n",
      " 111 392 190 367 320 389 230 174 404 329  41 355 377 325   9 331 357 172\n",
      "  61 204 373 335 426 131 146 397 310 410 302 208 385 215 394 378 396 380\n",
      " 384 366 414 119 349 343 370 290   1 299 398 400 333 363 241 387 399 317\n",
      " 364 303 375 409 263  12  48  50  47  49 431 430 428 412 429  21  24  22\n",
      "  36  23  76  74   1  77  75   1   1   1   1   7   1   1  90  94  95  93\n",
      "  26  91  92  67  63  62  66  64  65 446 449 448 450 447  51  52 465 466\n",
      " 467 468 464  57  60  58  59 421 424 422 420 423 425 419  85  86  83  87\n",
      "  88  84   3   6   4   5 454 451 453 112 455 452 460 458 459 432 456 457\n",
      "  31  34  33  32  79  81  80  82  78]\n"
     ]
    }
   ],
   "source": [
    "# Run RFECV to check on the rennovatable features which are important to influencing SalePrice\n",
    "from sklearn.feature_selection import RFECV\n",
    "from sklearn.linear_model import LinearRegression\n",
    "\n",
    "lr = LinearRegression()\n",
    "selector = RFECV(lr, step=1, cv=8)\n",
    "selector.fit(X_train, y_train)\n",
    "\n",
    "print(selector.support_)\n",
    "print(selector.ranking_)"
   ]
  },
  {
   "cell_type": "code",
   "execution_count": 80,
   "metadata": {},
   "outputs": [],
   "source": [
    "features_df = pd.DataFrame({'Features': X.columns,\n",
    "                            'Important': selector.support_})"
   ]
  },
  {
   "cell_type": "code",
   "execution_count": 81,
   "metadata": {},
   "outputs": [],
   "source": [
    "features_df['Important'] = features_df[['Important']].astype(str)"
   ]
  },
  {
   "cell_type": "code",
   "execution_count": 82,
   "metadata": {},
   "outputs": [
    {
     "data": {
      "text/html": [
       "<div>\n",
       "<style scoped>\n",
       "    .dataframe tbody tr th:only-of-type {\n",
       "        vertical-align: middle;\n",
       "    }\n",
       "\n",
       "    .dataframe tbody tr th {\n",
       "        vertical-align: top;\n",
       "    }\n",
       "\n",
       "    .dataframe thead th {\n",
       "        text-align: right;\n",
       "    }\n",
       "</style>\n",
       "<table border=\"1\" class=\"dataframe\">\n",
       "  <thead>\n",
       "    <tr style=\"text-align: right;\">\n",
       "      <th></th>\n",
       "      <th>Features</th>\n",
       "      <th>Important</th>\n",
       "    </tr>\n",
       "  </thead>\n",
       "  <tbody>\n",
       "    <tr>\n",
       "      <th>368</th>\n",
       "      <td>MasVnrArea_796.0</td>\n",
       "      <td>True</td>\n",
       "    </tr>\n",
       "    <tr>\n",
       "      <th>400</th>\n",
       "      <td>BsmtCond_No_Bsmt</td>\n",
       "      <td>True</td>\n",
       "    </tr>\n",
       "    <tr>\n",
       "      <th>403</th>\n",
       "      <td>BsmtFinType1_ALQ</td>\n",
       "      <td>True</td>\n",
       "    </tr>\n",
       "    <tr>\n",
       "      <th>404</th>\n",
       "      <td>BsmtFinType1_BLQ</td>\n",
       "      <td>True</td>\n",
       "    </tr>\n",
       "    <tr>\n",
       "      <th>405</th>\n",
       "      <td>BsmtFinType1_GLQ</td>\n",
       "      <td>True</td>\n",
       "    </tr>\n",
       "    <tr>\n",
       "      <th>406</th>\n",
       "      <td>BsmtFinType1_LwQ</td>\n",
       "      <td>True</td>\n",
       "    </tr>\n",
       "    <tr>\n",
       "      <th>408</th>\n",
       "      <td>BsmtFinType1_Rec</td>\n",
       "      <td>True</td>\n",
       "    </tr>\n",
       "    <tr>\n",
       "      <th>409</th>\n",
       "      <td>BsmtFinType1_Unf</td>\n",
       "      <td>True</td>\n",
       "    </tr>\n",
       "  </tbody>\n",
       "</table>\n",
       "</div>"
      ],
      "text/plain": [
       "             Features Important\n",
       "368  MasVnrArea_796.0      True\n",
       "400  BsmtCond_No_Bsmt      True\n",
       "403  BsmtFinType1_ALQ      True\n",
       "404  BsmtFinType1_BLQ      True\n",
       "405  BsmtFinType1_GLQ      True\n",
       "406  BsmtFinType1_LwQ      True\n",
       "408  BsmtFinType1_Rec      True\n",
       "409  BsmtFinType1_Unf      True"
      ]
     },
     "execution_count": 82,
     "metadata": {},
     "output_type": "execute_result"
    }
   ],
   "source": [
    "features_df[features_df['Important']=='True']"
   ]
  },
  {
   "cell_type": "markdown",
   "metadata": {},
   "source": [
    "#### Obersevation:\n",
    "- RFEcv has chosen the renovatable feature that most affect price\n",
    "- Perhaps we should further look on how these individual features can affect the nominal value"
   ]
  },
  {
   "cell_type": "code",
   "execution_count": 87,
   "metadata": {},
   "outputs": [
    {
     "name": "stderr",
     "output_type": "stream",
     "text": [
      "/Users/ivanong/anaconda3/lib/python3.7/site-packages/sklearn/linear_model/coordinate_descent.py:1109: DataConversionWarning: A column-vector y was passed when a 1d array was expected. Please change the shape of y to (n_samples, ), for example using ravel().\n",
      "  y = column_or_1d(y, warn=True)\n"
     ]
    },
    {
     "name": "stdout",
     "output_type": "stream",
     "text": [
      "[0.81627842 0.79190944 0.74779742 0.79630054 0.76756757 0.76239014\n",
      " 0.77681393 0.74636651]\n",
      "Lasso model has a train score of: 0.7756779972975707\n"
     ]
    }
   ],
   "source": [
    "lasso = Lasso(alpha=optimal_lasso.alpha_)\n",
    "optimal_lasso.fit(X_train, y_train)\n",
    "lasso_scores = cross_val_score(lasso, X_train, y_train, cv=8)\n",
    "\n",
    "print(lasso_scores)\n",
    "print('Lasso model has a train score of:',(np.mean(lasso_scores)))"
   ]
  },
  {
   "cell_type": "code",
   "execution_count": 88,
   "metadata": {},
   "outputs": [
    {
     "name": "stdout",
     "output_type": "stream",
     "text": [
      "Lasso model has a test score of: 0.7644190427114245\n"
     ]
    }
   ],
   "source": [
    "lasso.fit(X_train,y_train)\n",
    "print('Lasso model has a test score of:',lasso.score(X_test,y_test))"
   ]
  },
  {
   "cell_type": "code",
   "execution_count": 89,
   "metadata": {},
   "outputs": [
    {
     "data": {
      "text/html": [
       "<div>\n",
       "<style scoped>\n",
       "    .dataframe tbody tr th:only-of-type {\n",
       "        vertical-align: middle;\n",
       "    }\n",
       "\n",
       "    .dataframe tbody tr th {\n",
       "        vertical-align: top;\n",
       "    }\n",
       "\n",
       "    .dataframe thead th {\n",
       "        text-align: right;\n",
       "    }\n",
       "</style>\n",
       "<table border=\"1\" class=\"dataframe\">\n",
       "  <thead>\n",
       "    <tr style=\"text-align: right;\">\n",
       "      <th></th>\n",
       "      <th>Features</th>\n",
       "      <th>Coefficient</th>\n",
       "    </tr>\n",
       "  </thead>\n",
       "  <tbody>\n",
       "    <tr>\n",
       "      <th>0</th>\n",
       "      <td>OverallQual</td>\n",
       "      <td>0.165090</td>\n",
       "    </tr>\n",
       "    <tr>\n",
       "      <th>393</th>\n",
       "      <td>BsmtQual_Ex</td>\n",
       "      <td>0.048438</td>\n",
       "    </tr>\n",
       "    <tr>\n",
       "      <th>395</th>\n",
       "      <td>BsmtQual_Gd</td>\n",
       "      <td>0.026543</td>\n",
       "    </tr>\n",
       "    <tr>\n",
       "      <th>423</th>\n",
       "      <td>HeatingQC_Ex</td>\n",
       "      <td>0.021106</td>\n",
       "    </tr>\n",
       "    <tr>\n",
       "      <th>435</th>\n",
       "      <td>KitchenQual_Ex</td>\n",
       "      <td>0.016871</td>\n",
       "    </tr>\n",
       "    <tr>\n",
       "      <th>1</th>\n",
       "      <td>OverallCond</td>\n",
       "      <td>0.015863</td>\n",
       "    </tr>\n",
       "    <tr>\n",
       "      <th>23</th>\n",
       "      <td>Exterior1st_BrkFace</td>\n",
       "      <td>0.015510</td>\n",
       "    </tr>\n",
       "    <tr>\n",
       "      <th>303</th>\n",
       "      <td>MasVnrArea_424.0</td>\n",
       "      <td>0.015062</td>\n",
       "    </tr>\n",
       "    <tr>\n",
       "      <th>419</th>\n",
       "      <td>Heating_GasW</td>\n",
       "      <td>0.014348</td>\n",
       "    </tr>\n",
       "    <tr>\n",
       "      <th>45</th>\n",
       "      <td>Exterior2nd_Plywood</td>\n",
       "      <td>0.013986</td>\n",
       "    </tr>\n",
       "  </tbody>\n",
       "</table>\n",
       "</div>"
      ],
      "text/plain": [
       "                Features  Coefficient\n",
       "0            OverallQual     0.165090\n",
       "393          BsmtQual_Ex     0.048438\n",
       "395          BsmtQual_Gd     0.026543\n",
       "423         HeatingQC_Ex     0.021106\n",
       "435       KitchenQual_Ex     0.016871\n",
       "1            OverallCond     0.015863\n",
       "23   Exterior1st_BrkFace     0.015510\n",
       "303     MasVnrArea_424.0     0.015062\n",
       "419         Heating_GasW     0.014348\n",
       "45   Exterior2nd_Plywood     0.013986"
      ]
     },
     "execution_count": 89,
     "metadata": {},
     "output_type": "execute_result"
    }
   ],
   "source": [
    "lasso_coefs = pd.DataFrame({'Features':X.columns,\n",
    "                            'Coefficient':lasso.coef_})\n",
    "\n",
    "lasso_coefs.sort_values('Coefficient', inplace=True, ascending=False)\n",
    "\n",
    "# Showing top 10 which coefficients have been chosen by Lasso\n",
    "lasso_coefs.head(10)"
   ]
  },
  {
   "cell_type": "markdown",
   "metadata": {},
   "source": [
    "#### 2. How would your company use this second model and its coefficients to determine whether they should buy a property or not? Explain how the company can use the two models you have built to determine if they can make money."
   ]
  },
  {
   "cell_type": "markdown",
   "metadata": {},
   "source": [
    "- From the above table, the price is influenced by each feature via their respective coefficients\n",
    "- High OverallQual, Good BsmtExposure and High KitchenQuality are the top 3 features which influence the price most\n",
    "- Any features from the above list which lasso did not eliminate should generate a higher selling price than before\n",
    "- Using the two models, the company should choose a property where the features have high coefficients and make renovation for high coefficients"
   ]
  },
  {
   "cell_type": "markdown",
   "metadata": {},
   "source": [
    "#### 3. Investigate how much of the variance in price remaining is explained by these features."
   ]
  },
  {
   "cell_type": "code",
   "execution_count": 90,
   "metadata": {},
   "outputs": [],
   "source": [
    "renovatable_features = ['Utilities', 'OverallQual', 'OverallCond', 'RoofStyle', 'RoofMatl',\n",
    "                        'MasVnrType', 'MasVnrArea', 'ExterQual', 'ExterCond', \n",
    "                        'BsmtQual', 'BsmtCond', 'BsmtFinType1', 'BsmtFinType2', 'Heating', 'HeatingQC',\n",
    "                        'CentralAir', 'Electrical', 'KitchenQual', 'Functional', 'FireplaceQu',\n",
    "                        'GarageFinish', 'GarageQual', 'GarageCond', 'PoolQC', 'Fence', 'MiscVal']\n"
   ]
  },
  {
   "cell_type": "code",
   "execution_count": 91,
   "metadata": {},
   "outputs": [],
   "source": [
    "# To include YrSold for filtering and saleprice for train, test, split\n",
    "df = house[renovatable_features + ['YrSold'] + ['SalePrice']]"
   ]
  },
  {
   "cell_type": "code",
   "execution_count": 92,
   "metadata": {},
   "outputs": [
    {
     "data": {
      "text/html": [
       "<div>\n",
       "<style scoped>\n",
       "    .dataframe tbody tr th:only-of-type {\n",
       "        vertical-align: middle;\n",
       "    }\n",
       "\n",
       "    .dataframe tbody tr th {\n",
       "        vertical-align: top;\n",
       "    }\n",
       "\n",
       "    .dataframe thead th {\n",
       "        text-align: right;\n",
       "    }\n",
       "</style>\n",
       "<table border=\"1\" class=\"dataframe\">\n",
       "  <thead>\n",
       "    <tr style=\"text-align: right;\">\n",
       "      <th></th>\n",
       "      <th>Utilities</th>\n",
       "      <th>OverallQual</th>\n",
       "      <th>OverallCond</th>\n",
       "      <th>RoofStyle</th>\n",
       "      <th>RoofMatl</th>\n",
       "      <th>MasVnrType</th>\n",
       "      <th>MasVnrArea</th>\n",
       "      <th>ExterQual</th>\n",
       "      <th>ExterCond</th>\n",
       "      <th>BsmtQual</th>\n",
       "      <th>...</th>\n",
       "      <th>Functional</th>\n",
       "      <th>FireplaceQu</th>\n",
       "      <th>GarageFinish</th>\n",
       "      <th>GarageQual</th>\n",
       "      <th>GarageCond</th>\n",
       "      <th>PoolQC</th>\n",
       "      <th>Fence</th>\n",
       "      <th>MiscVal</th>\n",
       "      <th>YrSold</th>\n",
       "      <th>SalePrice</th>\n",
       "    </tr>\n",
       "  </thead>\n",
       "  <tbody>\n",
       "    <tr>\n",
       "      <th>0</th>\n",
       "      <td>AllPub</td>\n",
       "      <td>7</td>\n",
       "      <td>5</td>\n",
       "      <td>Gable</td>\n",
       "      <td>CompShg</td>\n",
       "      <td>BrkFace</td>\n",
       "      <td>196</td>\n",
       "      <td>Gd</td>\n",
       "      <td>TA</td>\n",
       "      <td>Gd</td>\n",
       "      <td>...</td>\n",
       "      <td>Typ</td>\n",
       "      <td>No_Fireplace</td>\n",
       "      <td>RFn</td>\n",
       "      <td>TA</td>\n",
       "      <td>TA</td>\n",
       "      <td>No_Pool</td>\n",
       "      <td>No_Fence</td>\n",
       "      <td>0</td>\n",
       "      <td>2008</td>\n",
       "      <td>208500</td>\n",
       "    </tr>\n",
       "    <tr>\n",
       "      <th>1</th>\n",
       "      <td>AllPub</td>\n",
       "      <td>6</td>\n",
       "      <td>8</td>\n",
       "      <td>Gable</td>\n",
       "      <td>CompShg</td>\n",
       "      <td>None</td>\n",
       "      <td>0</td>\n",
       "      <td>TA</td>\n",
       "      <td>TA</td>\n",
       "      <td>Gd</td>\n",
       "      <td>...</td>\n",
       "      <td>Typ</td>\n",
       "      <td>TA</td>\n",
       "      <td>RFn</td>\n",
       "      <td>TA</td>\n",
       "      <td>TA</td>\n",
       "      <td>No_Pool</td>\n",
       "      <td>No_Fence</td>\n",
       "      <td>0</td>\n",
       "      <td>2007</td>\n",
       "      <td>181500</td>\n",
       "    </tr>\n",
       "    <tr>\n",
       "      <th>2</th>\n",
       "      <td>AllPub</td>\n",
       "      <td>7</td>\n",
       "      <td>5</td>\n",
       "      <td>Gable</td>\n",
       "      <td>CompShg</td>\n",
       "      <td>BrkFace</td>\n",
       "      <td>162</td>\n",
       "      <td>Gd</td>\n",
       "      <td>TA</td>\n",
       "      <td>Gd</td>\n",
       "      <td>...</td>\n",
       "      <td>Typ</td>\n",
       "      <td>TA</td>\n",
       "      <td>RFn</td>\n",
       "      <td>TA</td>\n",
       "      <td>TA</td>\n",
       "      <td>No_Pool</td>\n",
       "      <td>No_Fence</td>\n",
       "      <td>0</td>\n",
       "      <td>2008</td>\n",
       "      <td>223500</td>\n",
       "    </tr>\n",
       "    <tr>\n",
       "      <th>3</th>\n",
       "      <td>AllPub</td>\n",
       "      <td>7</td>\n",
       "      <td>5</td>\n",
       "      <td>Gable</td>\n",
       "      <td>CompShg</td>\n",
       "      <td>None</td>\n",
       "      <td>0</td>\n",
       "      <td>TA</td>\n",
       "      <td>TA</td>\n",
       "      <td>TA</td>\n",
       "      <td>...</td>\n",
       "      <td>Typ</td>\n",
       "      <td>Gd</td>\n",
       "      <td>Unf</td>\n",
       "      <td>TA</td>\n",
       "      <td>TA</td>\n",
       "      <td>No_Pool</td>\n",
       "      <td>No_Fence</td>\n",
       "      <td>0</td>\n",
       "      <td>2006</td>\n",
       "      <td>140000</td>\n",
       "    </tr>\n",
       "    <tr>\n",
       "      <th>4</th>\n",
       "      <td>AllPub</td>\n",
       "      <td>8</td>\n",
       "      <td>5</td>\n",
       "      <td>Gable</td>\n",
       "      <td>CompShg</td>\n",
       "      <td>BrkFace</td>\n",
       "      <td>350</td>\n",
       "      <td>Gd</td>\n",
       "      <td>TA</td>\n",
       "      <td>Gd</td>\n",
       "      <td>...</td>\n",
       "      <td>Typ</td>\n",
       "      <td>TA</td>\n",
       "      <td>RFn</td>\n",
       "      <td>TA</td>\n",
       "      <td>TA</td>\n",
       "      <td>No_Pool</td>\n",
       "      <td>No_Fence</td>\n",
       "      <td>0</td>\n",
       "      <td>2008</td>\n",
       "      <td>250000</td>\n",
       "    </tr>\n",
       "  </tbody>\n",
       "</table>\n",
       "<p>5 rows × 28 columns</p>\n",
       "</div>"
      ],
      "text/plain": [
       "  Utilities  OverallQual  OverallCond RoofStyle RoofMatl MasVnrType  \\\n",
       "0    AllPub            7            5     Gable  CompShg    BrkFace   \n",
       "1    AllPub            6            8     Gable  CompShg       None   \n",
       "2    AllPub            7            5     Gable  CompShg    BrkFace   \n",
       "3    AllPub            7            5     Gable  CompShg       None   \n",
       "4    AllPub            8            5     Gable  CompShg    BrkFace   \n",
       "\n",
       "  MasVnrArea ExterQual ExterCond BsmtQual    ...    Functional   FireplaceQu  \\\n",
       "0        196        Gd        TA       Gd    ...           Typ  No_Fireplace   \n",
       "1          0        TA        TA       Gd    ...           Typ            TA   \n",
       "2        162        Gd        TA       Gd    ...           Typ            TA   \n",
       "3          0        TA        TA       TA    ...           Typ            Gd   \n",
       "4        350        Gd        TA       Gd    ...           Typ            TA   \n",
       "\n",
       "  GarageFinish GarageQual GarageCond   PoolQC     Fence MiscVal YrSold  \\\n",
       "0          RFn         TA         TA  No_Pool  No_Fence       0   2008   \n",
       "1          RFn         TA         TA  No_Pool  No_Fence       0   2007   \n",
       "2          RFn         TA         TA  No_Pool  No_Fence       0   2008   \n",
       "3          Unf         TA         TA  No_Pool  No_Fence       0   2006   \n",
       "4          RFn         TA         TA  No_Pool  No_Fence       0   2008   \n",
       "\n",
       "  SalePrice  \n",
       "0    208500  \n",
       "1    181500  \n",
       "2    223500  \n",
       "3    140000  \n",
       "4    250000  \n",
       "\n",
       "[5 rows x 28 columns]"
      ]
     },
     "execution_count": 92,
     "metadata": {},
     "output_type": "execute_result"
    }
   ],
   "source": [
    "df.head(5)"
   ]
  },
  {
   "cell_type": "code",
   "execution_count": 93,
   "metadata": {},
   "outputs": [
    {
     "data": {
      "text/plain": [
       "Utilities       object\n",
       "OverallQual      int64\n",
       "OverallCond      int64\n",
       "RoofStyle       object\n",
       "RoofMatl        object\n",
       "MasVnrType      object\n",
       "MasVnrArea      object\n",
       "ExterQual       object\n",
       "ExterCond       object\n",
       "BsmtQual        object\n",
       "BsmtCond        object\n",
       "BsmtFinType1    object\n",
       "BsmtFinType2    object\n",
       "Heating         object\n",
       "HeatingQC       object\n",
       "CentralAir      object\n",
       "Electrical      object\n",
       "KitchenQual     object\n",
       "Functional      object\n",
       "FireplaceQu     object\n",
       "GarageFinish    object\n",
       "GarageQual      object\n",
       "GarageCond      object\n",
       "PoolQC          object\n",
       "Fence           object\n",
       "MiscVal          int64\n",
       "YrSold           int64\n",
       "SalePrice        int64\n",
       "dtype: object"
      ]
     },
     "execution_count": 93,
     "metadata": {},
     "output_type": "execute_result"
    }
   ],
   "source": [
    "df.dtypes"
   ]
  },
  {
   "cell_type": "code",
   "execution_count": 94,
   "metadata": {},
   "outputs": [
    {
     "name": "stdout",
     "output_type": "stream",
     "text": [
      "Numerical features : 5\n",
      "Categorical features : 23\n"
     ]
    }
   ],
   "source": [
    "# Number of numerical and categorical features\n",
    "\n",
    "categorical_features = df.select_dtypes(include = [\"object\"]).columns\n",
    "numerical_features = df.select_dtypes(exclude = [\"object\"]).columns\n",
    "\n",
    "print(\"Numerical features : \" + str(len(numerical_features)))\n",
    "print(\"Categorical features : \" + str(len(categorical_features)))\n",
    "\n",
    "df_num = df[numerical_features]\n",
    "df_cat = df[categorical_features]"
   ]
  },
  {
   "cell_type": "code",
   "execution_count": 95,
   "metadata": {},
   "outputs": [],
   "source": [
    "df_cat = pd.get_dummies(df_cat, drop_first=True)\n",
    "df = pd.concat([df_num, df_cat], axis=1)"
   ]
  },
  {
   "cell_type": "code",
   "execution_count": 96,
   "metadata": {},
   "outputs": [
    {
     "data": {
      "text/plain": [
       "(1450, 424)"
      ]
     },
     "execution_count": 96,
     "metadata": {},
     "output_type": "execute_result"
    }
   ],
   "source": [
    "df.shape"
   ]
  },
  {
   "cell_type": "code",
   "execution_count": 97,
   "metadata": {},
   "outputs": [
    {
     "data": {
      "text/plain": [
       "Index(['OverallQual', 'OverallCond', 'MiscVal', 'YrSold', 'SalePrice',\n",
       "       'Utilities_NoSeWa', 'RoofStyle_Gable', 'RoofStyle_Gambrel',\n",
       "       'RoofStyle_Hip', 'RoofStyle_Mansard',\n",
       "       ...\n",
       "       'GarageCond_No_Garage', 'GarageCond_Po', 'GarageCond_TA', 'PoolQC_Fa',\n",
       "       'PoolQC_Gd', 'PoolQC_No_Pool', 'Fence_GdWo', 'Fence_MnPrv',\n",
       "       'Fence_MnWw', 'Fence_No_Fence'],\n",
       "      dtype='object', length=424)"
      ]
     },
     "execution_count": 97,
     "metadata": {},
     "output_type": "execute_result"
    }
   ],
   "source": [
    "df.columns"
   ]
  },
  {
   "cell_type": "code",
   "execution_count": 98,
   "metadata": {},
   "outputs": [],
   "source": [
    "# Setting up predictors and target\n",
    "\n",
    "X = df.drop('SalePrice',axis=1)\n",
    "y = df.SalePrice.values"
   ]
  },
  {
   "cell_type": "code",
   "execution_count": 99,
   "metadata": {},
   "outputs": [],
   "source": [
    "# Performing train, test, split\n",
    "\n",
    "X_train = (X[df.YrSold < 2010]).values\n",
    "X_test = (X[df.YrSold == 2010]).values\n",
    "\n",
    "y_train = y[df.YrSold < 2010]\n",
    "y_test = y[df.YrSold == 2010]"
   ]
  },
  {
   "cell_type": "code",
   "execution_count": 100,
   "metadata": {},
   "outputs": [
    {
     "name": "stderr",
     "output_type": "stream",
     "text": [
      "/Users/ivanong/anaconda3/lib/python3.7/site-packages/sklearn/utils/validation.py:595: DataConversionWarning: Data with input dtype int64 was converted to float64 by StandardScaler.\n",
      "  warnings.warn(msg, DataConversionWarning)\n",
      "/Users/ivanong/anaconda3/lib/python3.7/site-packages/sklearn/utils/validation.py:595: DataConversionWarning: Data with input dtype int64 was converted to float64 by StandardScaler.\n",
      "  warnings.warn(msg, DataConversionWarning)\n",
      "/Users/ivanong/anaconda3/lib/python3.7/site-packages/sklearn/utils/validation.py:595: DataConversionWarning: Data with input dtype int64 was converted to float64 by StandardScaler.\n",
      "  warnings.warn(msg, DataConversionWarning)\n"
     ]
    }
   ],
   "source": [
    "ss = StandardScaler()\n",
    "X_train = ss.fit_transform(X_train)\n",
    "X_test = ss.transform(X_test)"
   ]
  },
  {
   "cell_type": "code",
   "execution_count": 101,
   "metadata": {},
   "outputs": [
    {
     "name": "stderr",
     "output_type": "stream",
     "text": [
      "[Parallel(n_jobs=1)]: Using backend SequentialBackend with 1 concurrent workers.\n",
      "........................................................................................................................................................................................................................................................................................................................................................................................................................................................................................................................................................................................................................................................................................................................................................................................................................................................................................................................................................................................................................................................................................................................................................................................................................................................................................................................................................................................................................................................................................................................................................................................................................................................................................................................................................................................................................................................................................................................................................................................................................................................................................................................................................................................................................................................................................................................................................................................................................................................................................................................................................................................................................................................................................................................................................................................................................................................................................................................................................................................................................................................................................................................................................................................................................................................................................................................................................................................................................................................................................................................................................................................................................................................................................................................................................................................................................................................................................................................................................................................................................................................................................................................................................................................................................................................................................................................................................................................................................................................................................................................................................................................................................................................................................................................................................................................................................................................................................................................................................................................................................................................................................................................................................................................................[Parallel(n_jobs=1)]: Done  10 out of  10 | elapsed:    5.7s finished\n"
     ]
    },
    {
     "name": "stdout",
     "output_type": "stream",
     "text": [
      "[0.7793484  0.66711244 0.7517605  0.70528039 0.70253479 0.71281721\n",
      " 0.66705203 0.7018568  0.58061826 0.76899228]\n",
      "Mean R2 score: 0.7037373088996837\n"
     ]
    }
   ],
   "source": [
    "optimal_lasso = LassoCV(n_alphas=500, cv=10, verbose=1)\n",
    "optimal_lasso.fit(X_train, y_train)\n",
    "\n",
    "lasso = Lasso(alpha=optimal_lasso.alpha_)\n",
    "\n",
    "lasso_scores = cross_val_score(lasso, X_train, y_train, cv=10)\n",
    "print(lasso_scores)\n",
    "print('Mean R2 score:',np.mean(lasso_scores))"
   ]
  },
  {
   "cell_type": "markdown",
   "metadata": {},
   "source": [
    "- From the above lasso model, the mean R2 score shows that 70% of the renovatable features can explain the variance of the previous model\n",
    "- As explained in the previous model, features with high coefficients determined by Lasso and RFE can be renovated to fetch a higher selling price"
   ]
  },
  {
   "cell_type": "markdown",
   "metadata": {},
   "source": [
    "<img src=\"http://imgur.com/GCAf1UX.png\" style=\"float: left; margin: 25px 15px 0px 0px; height: 25px\">\n",
    "\n",
    "## 3. What property characteristics predict an \"abnormal\" sale?\n",
    "\n",
    "---\n",
    "\n",
    "The `SaleCondition` feature indicates the circumstances of the house sale. From the data file, we can see that the possibilities are:\n",
    "\n",
    "       Normal\tNormal Sale\n",
    "       Abnorml\tAbnormal Sale -  trade, foreclosure, short sale\n",
    "       AdjLand\tAdjoining Land Purchase\n",
    "       Alloca\tAllocation - two linked properties with separate deeds, typically condo with a garage unit\t\n",
    "       Family\tSale between family members\n",
    "       Partial\tHome was not completed when last assessed (associated with New Homes)\n",
    "       \n",
    "One of the executives at your company has an \"in\" with higher-ups at the major regional bank. His friends at the bank have made him a proposal: if he can reliably indicate what features, if any, predict \"abnormal\" sales (foreclosures, short sales, etc.), then in return the bank will give him first dibs on the pre-auction purchase of those properties (at a dirt-cheap price).\n",
    "\n",
    "He has tasked you with determining (and adequately validating) which features of a property predict this type of sale. \n",
    "\n",
    "---\n",
    "\n",
    "**Your task:**\n",
    "1. Determine which features predict the `Abnorml` category in the `SaleCondition` feature.\n",
    "- Justify your results.\n",
    "\n",
    "This is a challenging task that tests your ability to perform classification analysis in the face of severe class imbalance. You may find that simply running a classifier on the full dataset to predict the category ends up useless: when there is bad class imbalance classifiers often tend to simply guess the majority class.\n",
    "\n",
    "It is up to you to determine how you will tackle this problem. I recommend doing some research to find out how others have dealt with the problem in the past. Make sure to justify your solution. Don't worry about it being \"the best\" solution, but be rigorous.\n",
    "\n",
    "Be sure to indicate which features are predictive (if any) and whether they are positive or negative predictors of abnormal sales."
   ]
  },
  {
   "cell_type": "code",
   "execution_count": 102,
   "metadata": {},
   "outputs": [
    {
     "name": "stdout",
     "output_type": "stream",
     "text": [
      "Normal     1198\n",
      "Partial     125\n",
      "Abnorml     101\n",
      "Family       20\n",
      "Alloca       12\n",
      "AdjLand       4\n",
      "Name: SaleCondition, dtype: int64\n"
     ]
    }
   ],
   "source": [
    "# A:\n",
    "house = pd.read_csv('./housing.csv')\n",
    "print(house.SaleCondition.value_counts())"
   ]
  },
  {
   "cell_type": "code",
   "execution_count": 103,
   "metadata": {},
   "outputs": [],
   "source": [
    "# Creating a boolean as to show whether a sale was abnormal\n",
    "\n",
    "house['Abnormal_Sale'] = house['SaleCondition'].map(lambda x: 1 if x ==\"Abnorml\" else 0)\n",
    "house.drop('SaleCondition', axis=1, inplace=True)"
   ]
  },
  {
   "cell_type": "code",
   "execution_count": 104,
   "metadata": {},
   "outputs": [
    {
     "data": {
      "text/plain": [
       "Id                 int64\n",
       "MSSubClass         int64\n",
       "MSZoning          object\n",
       "LotFrontage      float64\n",
       "LotArea            int64\n",
       "Street            object\n",
       "Alley             object\n",
       "LotShape          object\n",
       "LandContour       object\n",
       "Utilities         object\n",
       "LotConfig         object\n",
       "LandSlope         object\n",
       "Neighborhood      object\n",
       "Condition1        object\n",
       "Condition2        object\n",
       "BldgType          object\n",
       "HouseStyle        object\n",
       "OverallQual        int64\n",
       "OverallCond        int64\n",
       "YearBuilt          int64\n",
       "YearRemodAdd       int64\n",
       "RoofStyle         object\n",
       "RoofMatl          object\n",
       "Exterior1st       object\n",
       "Exterior2nd       object\n",
       "MasVnrType        object\n",
       "MasVnrArea       float64\n",
       "ExterQual         object\n",
       "ExterCond         object\n",
       "Foundation        object\n",
       "                  ...   \n",
       "BedroomAbvGr       int64\n",
       "KitchenAbvGr       int64\n",
       "KitchenQual       object\n",
       "TotRmsAbvGrd       int64\n",
       "Functional        object\n",
       "Fireplaces         int64\n",
       "FireplaceQu       object\n",
       "GarageType        object\n",
       "GarageYrBlt      float64\n",
       "GarageFinish      object\n",
       "GarageCars         int64\n",
       "GarageArea         int64\n",
       "GarageQual        object\n",
       "GarageCond        object\n",
       "PavedDrive        object\n",
       "WoodDeckSF         int64\n",
       "OpenPorchSF        int64\n",
       "EnclosedPorch      int64\n",
       "3SsnPorch          int64\n",
       "ScreenPorch        int64\n",
       "PoolArea           int64\n",
       "PoolQC            object\n",
       "Fence             object\n",
       "MiscFeature       object\n",
       "MiscVal            int64\n",
       "MoSold             int64\n",
       "YrSold             int64\n",
       "SaleType          object\n",
       "SalePrice          int64\n",
       "Abnormal_Sale      int64\n",
       "Length: 81, dtype: object"
      ]
     },
     "execution_count": 104,
     "metadata": {},
     "output_type": "execute_result"
    }
   ],
   "source": [
    "house.dtypes"
   ]
  },
  {
   "cell_type": "code",
   "execution_count": 105,
   "metadata": {},
   "outputs": [
    {
     "name": "stdout",
     "output_type": "stream",
     "text": [
      "Numerical features : 39\n",
      "Categorical features : 42\n"
     ]
    }
   ],
   "source": [
    "# Differentiate numerical features and categorical features\n",
    "\n",
    "categorical_features = house.select_dtypes(include = [\"object\"]).columns\n",
    "numerical_features = house.select_dtypes(exclude = [\"object\"]).columns\n",
    "print(\"Numerical features : \" + str(len(numerical_features)))\n",
    "print(\"Categorical features : \" + str(len(categorical_features)))\n",
    "house_num = house[numerical_features]\n",
    "house_cat = house[categorical_features]"
   ]
  },
  {
   "cell_type": "code",
   "execution_count": 106,
   "metadata": {},
   "outputs": [],
   "source": [
    "house_cat = pd.get_dummies(house_cat, drop_first=True)\n",
    "house = pd.concat([house_num, house_cat], axis = 1)"
   ]
  },
  {
   "cell_type": "code",
   "execution_count": 107,
   "metadata": {},
   "outputs": [
    {
     "data": {
      "text/plain": [
       "(1460, 243)"
      ]
     },
     "execution_count": 107,
     "metadata": {},
     "output_type": "execute_result"
    }
   ],
   "source": [
    "house.shape"
   ]
  },
  {
   "cell_type": "code",
   "execution_count": 108,
   "metadata": {},
   "outputs": [],
   "source": [
    "# Setting up the predictor and target\n",
    "X = house.drop('Abnormal_Sale', axis=1)\n",
    "y = house.Abnormal_Sale"
   ]
  },
  {
   "cell_type": "code",
   "execution_count": 109,
   "metadata": {},
   "outputs": [
    {
     "data": {
      "text/plain": [
       "((1460, 242), (1460,))"
      ]
     },
     "execution_count": 109,
     "metadata": {},
     "output_type": "execute_result"
    }
   ],
   "source": [
    "X.shape, y.shape"
   ]
  },
  {
   "cell_type": "markdown",
   "metadata": {},
   "source": [
    "##### Logsitic Regression Model"
   ]
  },
  {
   "cell_type": "code",
   "execution_count": 111,
   "metadata": {},
   "outputs": [
    {
     "data": {
      "text/plain": [
       "0.9308219178082192"
      ]
     },
     "execution_count": 111,
     "metadata": {},
     "output_type": "execute_result"
    }
   ],
   "source": [
    "# Baseline Accuracy\n",
    "\n",
    "1-np.mean(y)"
   ]
  },
  {
   "cell_type": "code",
   "execution_count": 112,
   "metadata": {},
   "outputs": [
    {
     "name": "stderr",
     "output_type": "stream",
     "text": [
      "/Users/ivanong/anaconda3/lib/python3.7/site-packages/sklearn/preprocessing/data.py:625: DataConversionWarning: Data with input dtype uint8, int64, float64 were all converted to float64 by StandardScaler.\n",
      "  return self.partial_fit(X, y)\n",
      "/Users/ivanong/anaconda3/lib/python3.7/site-packages/sklearn/base.py:462: DataConversionWarning: Data with input dtype uint8, int64, float64 were all converted to float64 by StandardScaler.\n",
      "  return self.fit(X, **fit_params).transform(X)\n"
     ]
    }
   ],
   "source": [
    "ss = StandardScaler()\n",
    "Xs = ss.fit_transform(X)"
   ]
  },
  {
   "cell_type": "code",
   "execution_count": null,
   "metadata": {},
   "outputs": [],
   "source": [
    "logreg = LogisticRegression(solver='lbfgs')\n",
    "\n",
    "# 10-fold cross val\n",
    "scores = cross_val_score(logreg, Xs, y, cv=10)\n",
    "print(scores)\n",
    "print(np.mean(scores))"
   ]
  },
  {
   "cell_type": "code",
   "execution_count": null,
   "metadata": {},
   "outputs": [],
   "source": []
  },
  {
   "cell_type": "code",
   "execution_count": null,
   "metadata": {},
   "outputs": [],
   "source": []
  },
  {
   "cell_type": "code",
   "execution_count": null,
   "metadata": {},
   "outputs": [],
   "source": []
  }
 ],
 "metadata": {
  "kernelspec": {
   "display_name": "Python 3",
   "language": "python",
   "name": "python3"
  },
  "language_info": {
   "codemirror_mode": {
    "name": "ipython",
    "version": 3
   },
   "file_extension": ".py",
   "mimetype": "text/x-python",
   "name": "python",
   "nbconvert_exporter": "python",
   "pygments_lexer": "ipython3",
   "version": "3.7.1"
  }
 },
 "nbformat": 4,
 "nbformat_minor": 2
}
